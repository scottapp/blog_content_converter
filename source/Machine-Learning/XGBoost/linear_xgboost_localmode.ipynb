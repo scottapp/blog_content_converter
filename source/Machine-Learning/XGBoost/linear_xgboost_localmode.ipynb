{
 "cells": [
  {
   "cell_type": "markdown",
   "metadata": {},
   "source": [
    "<h2>Simple Regression Dataset - Linear Regression vs XGBoost</h2>\n",
    "\n",
    "Model is trained with XGBoost installed in notebook instance\n",
    "\n",
    "In the later examples, we will train using SageMaker's XGBoost algorithm.\n",
    "\n",
    "Training on SageMaker takes several minutes (even for simple dataset).  \n",
    "\n",
    "If algorithm is supported on Python, we will try them locally on notebook instance\n",
    "\n",
    "This allows us to quickly learn an algorithm, understand tuning options and then finally train on SageMaker Cloud\n",
    "\n",
    "In this exercise, let's compare XGBoost and Linear Regression for simple regression dataset"
   ]
  },
  {
   "cell_type": "code",
   "execution_count": 1,
   "metadata": {},
   "outputs": [
    {
     "name": "stdout",
     "output_type": "stream",
     "text": [
      "Collecting xgboost==0.90\n",
      "  Downloading xgboost-0.90-py2.py3-none-manylinux1_x86_64.whl (142.8 MB)\n",
      "\u001b[K     |█████████████████████████▍      | 113.3 MB 13.8 MB/s eta 0:00:03^C  |█████████                       | 39.7 MB 18.9 MB/s eta 0:00:06     |████████████▉                   | 57.3 MB 5.6 MB/s eta 0:00:16     |████████████████                | 71.9 MB 2.7 MB/s eta 0:00:27     |████████████████▍               | 73.0 MB 2.7 MB/s eta 0:00:26     |███████████████████████         | 102.9 MB 4.6 MB/s eta 0:00:09\n",
      "\n",
      "\u001b[31mERROR: Operation cancelled by user\u001b[0m\n",
      "\u001b[?25h"
     ]
    }
   ],
   "source": [
    "# Install xgboost in notebook instance.\n",
    "#### Command to install xgboost\n",
    "!pip install xgboost==0.90"
   ]
  },
  {
   "cell_type": "code",
   "execution_count": 2,
   "metadata": {},
   "outputs": [],
   "source": [
    "import sys\n",
    "import numpy as np\n",
    "import pandas as pd\n",
    "import matplotlib.pyplot as plt\n",
    "from sklearn.metrics import mean_squared_error, mean_absolute_error\n",
    "\n",
    "\n",
    "# XGBoost \n",
    "import xgboost as xgb\n",
    "# Linear Regression\n",
    "from sklearn.linear_model import LinearRegression"
   ]
  },
  {
   "cell_type": "code",
   "execution_count": 3,
   "metadata": {},
   "outputs": [],
   "source": [
    "# All data\n",
    "df = pd.read_csv('linear_all.csv')"
   ]
  },
  {
   "cell_type": "code",
   "execution_count": 4,
   "metadata": {},
   "outputs": [
    {
     "data": {
      "text/html": [
       "<div>\n",
       "<style scoped>\n",
       "    .dataframe tbody tr th:only-of-type {\n",
       "        vertical-align: middle;\n",
       "    }\n",
       "\n",
       "    .dataframe tbody tr th {\n",
       "        vertical-align: top;\n",
       "    }\n",
       "\n",
       "    .dataframe thead th {\n",
       "        text-align: right;\n",
       "    }\n",
       "</style>\n",
       "<table border=\"1\" class=\"dataframe\">\n",
       "  <thead>\n",
       "    <tr style=\"text-align: right;\">\n",
       "      <th></th>\n",
       "      <th>x</th>\n",
       "      <th>y</th>\n",
       "    </tr>\n",
       "  </thead>\n",
       "  <tbody>\n",
       "    <tr>\n",
       "      <th>0</th>\n",
       "      <td>0</td>\n",
       "      <td>12.412275</td>\n",
       "    </tr>\n",
       "    <tr>\n",
       "      <th>1</th>\n",
       "      <td>1</td>\n",
       "      <td>9.691298</td>\n",
       "    </tr>\n",
       "    <tr>\n",
       "      <th>2</th>\n",
       "      <td>2</td>\n",
       "      <td>42.307712</td>\n",
       "    </tr>\n",
       "    <tr>\n",
       "      <th>3</th>\n",
       "      <td>3</td>\n",
       "      <td>20.479079</td>\n",
       "    </tr>\n",
       "    <tr>\n",
       "      <th>4</th>\n",
       "      <td>4</td>\n",
       "      <td>29.096098</td>\n",
       "    </tr>\n",
       "  </tbody>\n",
       "</table>\n",
       "</div>"
      ],
      "text/plain": [
       "   x          y\n",
       "0  0  12.412275\n",
       "1  1   9.691298\n",
       "2  2  42.307712\n",
       "3  3  20.479079\n",
       "4  4  29.096098"
      ]
     },
     "execution_count": 4,
     "metadata": {},
     "output_type": "execute_result"
    }
   ],
   "source": [
    "df.head()"
   ]
  },
  {
   "cell_type": "code",
   "execution_count": 5,
   "metadata": {},
   "outputs": [
    {
     "data": {
      "image/png": "[encoded data removed]",
      "text/plain": [
       "<Figure size 432x288 with 1 Axes>"
      ]
     },
     "metadata": {
      "needs_background": "light"
     },
     "output_type": "display_data"
    }
   ],
   "source": [
    "plt.plot(df.x,df.y,label='Target')\n",
    "plt.grid(True)\n",
    "plt.xlabel('Input Feature')\n",
    "plt.ylabel('Target')\n",
    "plt.legend()\n",
    "plt.title('Simple Regression Dataset')\n",
    "plt.show()"
   ]
  },
  {
   "cell_type": "code",
   "execution_count": 6,
   "metadata": {},
   "outputs": [],
   "source": [
    "# Let's load Training and Validation Datasets\n",
    "train_file = 'linear_train.csv'\n",
    "validation_file = 'linear_validation.csv'\n",
    "\n",
    "# Specify the column names as the file does not have column header\n",
    "df_train = pd.read_csv(train_file,names=['y','x'])\n",
    "df_validation = pd.read_csv(validation_file,names=['y','x'])"
   ]
  },
  {
   "cell_type": "code",
   "execution_count": 7,
   "metadata": {},
   "outputs": [
    {
     "data": {
      "text/html": [
       "<div>\n",
       "<style scoped>\n",
       "    .dataframe tbody tr th:only-of-type {\n",
       "        vertical-align: middle;\n",
       "    }\n",
       "\n",
       "    .dataframe tbody tr th {\n",
       "        vertical-align: top;\n",
       "    }\n",
       "\n",
       "    .dataframe thead th {\n",
       "        text-align: right;\n",
       "    }\n",
       "</style>\n",
       "<table border=\"1\" class=\"dataframe\">\n",
       "  <thead>\n",
       "    <tr style=\"text-align: right;\">\n",
       "      <th></th>\n",
       "      <th>y</th>\n",
       "      <th>x</th>\n",
       "    </tr>\n",
       "  </thead>\n",
       "  <tbody>\n",
       "    <tr>\n",
       "      <th>0</th>\n",
       "      <td>739.990485</td>\n",
       "      <td>149</td>\n",
       "    </tr>\n",
       "    <tr>\n",
       "      <th>1</th>\n",
       "      <td>265.212541</td>\n",
       "      <td>51</td>\n",
       "    </tr>\n",
       "    <tr>\n",
       "      <th>2</th>\n",
       "      <td>245.919634</td>\n",
       "      <td>45</td>\n",
       "    </tr>\n",
       "    <tr>\n",
       "      <th>3</th>\n",
       "      <td>653.910077</td>\n",
       "      <td>130</td>\n",
       "    </tr>\n",
       "    <tr>\n",
       "      <th>4</th>\n",
       "      <td>700.097979</td>\n",
       "      <td>137</td>\n",
       "    </tr>\n",
       "  </tbody>\n",
       "</table>\n",
       "</div>"
      ],
      "text/plain": [
       "            y    x\n",
       "0  739.990485  149\n",
       "1  265.212541   51\n",
       "2  245.919634   45\n",
       "3  653.910077  130\n",
       "4  700.097979  137"
      ]
     },
     "execution_count": 7,
     "metadata": {},
     "output_type": "execute_result"
    }
   ],
   "source": [
    "df_train.head()"
   ]
  },
  {
   "cell_type": "code",
   "execution_count": 8,
   "metadata": {},
   "outputs": [
    {
     "data": {
      "text/html": [
       "<div>\n",
       "<style scoped>\n",
       "    .dataframe tbody tr th:only-of-type {\n",
       "        vertical-align: middle;\n",
       "    }\n",
       "\n",
       "    .dataframe tbody tr th {\n",
       "        vertical-align: top;\n",
       "    }\n",
       "\n",
       "    .dataframe thead th {\n",
       "        text-align: right;\n",
       "    }\n",
       "</style>\n",
       "<table border=\"1\" class=\"dataframe\">\n",
       "  <thead>\n",
       "    <tr style=\"text-align: right;\">\n",
       "      <th></th>\n",
       "      <th>y</th>\n",
       "      <th>x</th>\n",
       "    </tr>\n",
       "  </thead>\n",
       "  <tbody>\n",
       "    <tr>\n",
       "      <th>0</th>\n",
       "      <td>396.726546</td>\n",
       "      <td>76</td>\n",
       "    </tr>\n",
       "    <tr>\n",
       "      <th>1</th>\n",
       "      <td>529.535314</td>\n",
       "      <td>106</td>\n",
       "    </tr>\n",
       "    <tr>\n",
       "      <th>2</th>\n",
       "      <td>705.471526</td>\n",
       "      <td>138</td>\n",
       "    </tr>\n",
       "    <tr>\n",
       "      <th>3</th>\n",
       "      <td>218.615323</td>\n",
       "      <td>39</td>\n",
       "    </tr>\n",
       "    <tr>\n",
       "      <th>4</th>\n",
       "      <td>165.930533</td>\n",
       "      <td>30</td>\n",
       "    </tr>\n",
       "  </tbody>\n",
       "</table>\n",
       "</div>"
      ],
      "text/plain": [
       "            y    x\n",
       "0  396.726546   76\n",
       "1  529.535314  106\n",
       "2  705.471526  138\n",
       "3  218.615323   39\n",
       "4  165.930533   30"
      ]
     },
     "execution_count": 8,
     "metadata": {},
     "output_type": "execute_result"
    }
   ],
   "source": [
    "df_validation.head()"
   ]
  },
  {
   "cell_type": "code",
   "execution_count": 9,
   "metadata": {},
   "outputs": [
    {
     "data": {
      "image/png": "[encoded data removed]",
      "text/plain": [
       "<Figure size 432x288 with 1 Axes>"
      ]
     },
     "metadata": {
      "needs_background": "light"
     },
     "output_type": "display_data"
    }
   ],
   "source": [
    "plt.scatter(df_train.x,df_train.y,label='Training',marker='.')\n",
    "plt.scatter(df_validation.x,df_validation.y,label='Validation',marker='.')\n",
    "plt.grid(True)\n",
    "plt.xlabel('Input Feature')\n",
    "plt.ylabel('Target')\n",
    "plt.title('Simple Regression Dataset')\n",
    "plt.legend()\n",
    "plt.show()"
   ]
  },
  {
   "cell_type": "code",
   "execution_count": 10,
   "metadata": {},
   "outputs": [],
   "source": [
    "X_train = df_train.iloc[:,1:] # Features: 1st column onwards \n",
    "y_train = df_train.iloc[:,0].ravel() # Target: 0th column\n",
    "\n",
    "X_validation = df_validation.iloc[:,1:]\n",
    "y_validation = df_validation.iloc[:,0].ravel()"
   ]
  },
  {
   "cell_type": "code",
   "execution_count": 11,
   "metadata": {},
   "outputs": [],
   "source": [
    "# Create an instance of XGBoost Regressor\n",
    "# XGBoost Training Parameter Reference: \n",
    "#   https://github.com/dmlc/xgboost/blob/master/doc/parameter.md\n",
    "regressor = xgb.XGBRegressor()"
   ]
  },
  {
   "cell_type": "code",
   "execution_count": 12,
   "metadata": {},
   "outputs": [
    {
     "data": {
      "text/plain": [
       "XGBRegressor(base_score=None, booster=None, colsample_bylevel=None,\n",
       "             colsample_bynode=None, colsample_bytree=None, gamma=None,\n",
       "             gpu_id=None, importance_type='gain', interaction_constraints=None,\n",
       "             learning_rate=None, max_delta_step=None, max_depth=None,\n",
       "             min_child_weight=None, missing=nan, monotone_constraints=None,\n",
       "             n_estimators=100, n_jobs=None, num_parallel_tree=None,\n",
       "             random_state=None, reg_alpha=None, reg_lambda=None,\n",
       "             scale_pos_weight=None, subsample=None, tree_method=None,\n",
       "             validate_parameters=None, verbosity=None)"
      ]
     },
     "execution_count": 12,
     "metadata": {},
     "output_type": "execute_result"
    }
   ],
   "source": [
    "# Default Options\n",
    "regressor"
   ]
  },
  {
   "cell_type": "code",
   "execution_count": 13,
   "metadata": {},
   "outputs": [
    {
     "name": "stdout",
     "output_type": "stream",
     "text": [
      "[0]\tvalidation_0-rmse:313.05090\tvalidation_1-rmse:310.05872\n",
      "[1]\tvalidation_0-rmse:224.20618\tvalidation_1-rmse:222.66801\n",
      "[2]\tvalidation_0-rmse:160.98831\tvalidation_1-rmse:158.88425\n",
      "[3]\tvalidation_0-rmse:115.90715\tvalidation_1-rmse:113.38197\n",
      "[4]\tvalidation_0-rmse:83.55917\tvalidation_1-rmse:80.23167\n",
      "[5]\tvalidation_0-rmse:60.49068\tvalidation_1-rmse:57.10988\n",
      "[6]\tvalidation_0-rmse:44.07119\tvalidation_1-rmse:41.19356\n",
      "[7]\tvalidation_0-rmse:32.39693\tvalidation_1-rmse:30.78043\n",
      "[8]\tvalidation_0-rmse:24.11682\tvalidation_1-rmse:23.69798\n",
      "[9]\tvalidation_0-rmse:18.44434\tvalidation_1-rmse:19.62466\n",
      "[10]\tvalidation_0-rmse:14.25661\tvalidation_1-rmse:17.26435\n",
      "[11]\tvalidation_0-rmse:11.33219\tvalidation_1-rmse:16.59787\n",
      "[12]\tvalidation_0-rmse:9.21126\tvalidation_1-rmse:16.17716\n",
      "[13]\tvalidation_0-rmse:7.64174\tvalidation_1-rmse:15.92972\n",
      "[14]\tvalidation_0-rmse:6.52090\tvalidation_1-rmse:15.82738\n",
      "[15]\tvalidation_0-rmse:5.69092\tvalidation_1-rmse:15.92554\n",
      "[16]\tvalidation_0-rmse:5.07866\tvalidation_1-rmse:15.96233\n",
      "[17]\tvalidation_0-rmse:4.56609\tvalidation_1-rmse:16.01015\n",
      "[18]\tvalidation_0-rmse:4.15511\tvalidation_1-rmse:16.14294\n",
      "[19]\tvalidation_0-rmse:3.91618\tvalidation_1-rmse:16.19001\n",
      "[20]\tvalidation_0-rmse:3.50640\tvalidation_1-rmse:16.11070\n",
      "[21]\tvalidation_0-rmse:3.20516\tvalidation_1-rmse:16.05351\n",
      "[22]\tvalidation_0-rmse:2.97506\tvalidation_1-rmse:15.97661\n",
      "[23]\tvalidation_0-rmse:2.79302\tvalidation_1-rmse:15.91980\n",
      "[24]\tvalidation_0-rmse:2.66059\tvalidation_1-rmse:15.87361\n",
      "[25]\tvalidation_0-rmse:2.55158\tvalidation_1-rmse:15.86770\n",
      "[26]\tvalidation_0-rmse:2.34511\tvalidation_1-rmse:15.93046\n",
      "[27]\tvalidation_0-rmse:2.25542\tvalidation_1-rmse:15.91800\n",
      "[28]\tvalidation_0-rmse:2.14107\tvalidation_1-rmse:15.93688\n",
      "[29]\tvalidation_0-rmse:2.08175\tvalidation_1-rmse:15.96919\n",
      "[30]\tvalidation_0-rmse:2.02100\tvalidation_1-rmse:15.95658\n",
      "[31]\tvalidation_0-rmse:1.95421\tvalidation_1-rmse:15.96618\n",
      "[32]\tvalidation_0-rmse:1.86039\tvalidation_1-rmse:16.00055\n",
      "[33]\tvalidation_0-rmse:1.82288\tvalidation_1-rmse:16.01355\n",
      "[34]\tvalidation_0-rmse:1.69052\tvalidation_1-rmse:16.04204\n",
      "[35]\tvalidation_0-rmse:1.60164\tvalidation_1-rmse:16.05635\n",
      "[36]\tvalidation_0-rmse:1.55066\tvalidation_1-rmse:16.06299\n",
      "[37]\tvalidation_0-rmse:1.48985\tvalidation_1-rmse:16.07243\n",
      "[38]\tvalidation_0-rmse:1.44461\tvalidation_1-rmse:16.06197\n",
      "[39]\tvalidation_0-rmse:1.40985\tvalidation_1-rmse:16.06218\n",
      "[40]\tvalidation_0-rmse:1.38423\tvalidation_1-rmse:16.06983\n",
      "[41]\tvalidation_0-rmse:1.34166\tvalidation_1-rmse:16.06066\n",
      "[42]\tvalidation_0-rmse:1.32400\tvalidation_1-rmse:16.06774\n",
      "[43]\tvalidation_0-rmse:1.26136\tvalidation_1-rmse:16.05154\n",
      "[44]\tvalidation_0-rmse:1.19730\tvalidation_1-rmse:16.06095\n",
      "[45]\tvalidation_0-rmse:1.15365\tvalidation_1-rmse:16.05946\n",
      "[46]\tvalidation_0-rmse:1.13155\tvalidation_1-rmse:16.06595\n",
      "[47]\tvalidation_0-rmse:1.10624\tvalidation_1-rmse:16.06557\n",
      "[48]\tvalidation_0-rmse:1.05303\tvalidation_1-rmse:16.05158\n",
      "[49]\tvalidation_0-rmse:1.02783\tvalidation_1-rmse:16.04545\n",
      "[50]\tvalidation_0-rmse:0.98929\tvalidation_1-rmse:16.04493\n",
      "[51]\tvalidation_0-rmse:0.95609\tvalidation_1-rmse:16.05415\n",
      "[52]\tvalidation_0-rmse:0.93753\tvalidation_1-rmse:16.05479\n",
      "[53]\tvalidation_0-rmse:0.89643\tvalidation_1-rmse:16.04103\n",
      "[54]\tvalidation_0-rmse:0.88454\tvalidation_1-rmse:16.04478\n",
      "[55]\tvalidation_0-rmse:0.86489\tvalidation_1-rmse:16.03445\n",
      "[56]\tvalidation_0-rmse:0.83832\tvalidation_1-rmse:16.04024\n",
      "[57]\tvalidation_0-rmse:0.82310\tvalidation_1-rmse:16.04117\n",
      "[58]\tvalidation_0-rmse:0.79015\tvalidation_1-rmse:16.03720\n",
      "[59]\tvalidation_0-rmse:0.74469\tvalidation_1-rmse:16.03958\n",
      "[60]\tvalidation_0-rmse:0.73891\tvalidation_1-rmse:16.03864\n",
      "[61]\tvalidation_0-rmse:0.72504\tvalidation_1-rmse:16.03896\n",
      "[62]\tvalidation_0-rmse:0.68354\tvalidation_1-rmse:16.03708\n",
      "[63]\tvalidation_0-rmse:0.65111\tvalidation_1-rmse:16.04718\n",
      "[64]\tvalidation_0-rmse:0.62777\tvalidation_1-rmse:16.04690\n",
      "[65]\tvalidation_0-rmse:0.61790\tvalidation_1-rmse:16.04776\n",
      "[66]\tvalidation_0-rmse:0.60335\tvalidation_1-rmse:16.04641\n",
      "[67]\tvalidation_0-rmse:0.57098\tvalidation_1-rmse:16.04908\n",
      "[68]\tvalidation_0-rmse:0.56049\tvalidation_1-rmse:16.04860\n",
      "[69]\tvalidation_0-rmse:0.55170\tvalidation_1-rmse:16.05270\n",
      "[70]\tvalidation_0-rmse:0.53544\tvalidation_1-rmse:16.05774\n",
      "[71]\tvalidation_0-rmse:0.52790\tvalidation_1-rmse:16.05738\n",
      "[72]\tvalidation_0-rmse:0.50655\tvalidation_1-rmse:16.06169\n",
      "[73]\tvalidation_0-rmse:0.48185\tvalidation_1-rmse:16.05526\n",
      "[74]\tvalidation_0-rmse:0.47247\tvalidation_1-rmse:16.05568\n",
      "[75]\tvalidation_0-rmse:0.46676\tvalidation_1-rmse:16.05857\n",
      "[76]\tvalidation_0-rmse:0.45392\tvalidation_1-rmse:16.05934\n",
      "[77]\tvalidation_0-rmse:0.44697\tvalidation_1-rmse:16.05929\n",
      "[78]\tvalidation_0-rmse:0.42772\tvalidation_1-rmse:16.06590\n",
      "[79]\tvalidation_0-rmse:0.41987\tvalidation_1-rmse:16.06465\n",
      "[80]\tvalidation_0-rmse:0.39712\tvalidation_1-rmse:16.05729\n",
      "[81]\tvalidation_0-rmse:0.38146\tvalidation_1-rmse:16.06339\n",
      "[82]\tvalidation_0-rmse:0.37012\tvalidation_1-rmse:16.06587\n",
      "[83]\tvalidation_0-rmse:0.36375\tvalidation_1-rmse:16.06583\n",
      "[84]\tvalidation_0-rmse:0.35838\tvalidation_1-rmse:16.06553\n",
      "[85]\tvalidation_0-rmse:0.35154\tvalidation_1-rmse:16.06573\n",
      "[86]\tvalidation_0-rmse:0.32818\tvalidation_1-rmse:16.06245\n",
      "[87]\tvalidation_0-rmse:0.32330\tvalidation_1-rmse:16.06282\n",
      "[88]\tvalidation_0-rmse:0.31801\tvalidation_1-rmse:16.06257\n",
      "[89]\tvalidation_0-rmse:0.30315\tvalidation_1-rmse:16.05856\n",
      "[90]\tvalidation_0-rmse:0.29406\tvalidation_1-rmse:16.06129\n",
      "[91]\tvalidation_0-rmse:0.28961\tvalidation_1-rmse:16.06099\n",
      "[92]\tvalidation_0-rmse:0.28451\tvalidation_1-rmse:16.06028\n",
      "[93]\tvalidation_0-rmse:0.28293\tvalidation_1-rmse:16.05993\n",
      "[94]\tvalidation_0-rmse:0.28007\tvalidation_1-rmse:16.06126\n",
      "[95]\tvalidation_0-rmse:0.26420\tvalidation_1-rmse:16.05424\n",
      "[96]\tvalidation_0-rmse:0.25607\tvalidation_1-rmse:16.05593\n",
      "[97]\tvalidation_0-rmse:0.24216\tvalidation_1-rmse:16.05280\n",
      "[98]\tvalidation_0-rmse:0.23910\tvalidation_1-rmse:16.05287\n",
      "[99]\tvalidation_0-rmse:0.22808\tvalidation_1-rmse:16.04994\n"
     ]
    },
    {
     "data": {
      "text/plain": [
       "XGBRegressor(base_score=0.5, booster='gbtree', colsample_bylevel=1,\n",
       "             colsample_bynode=1, colsample_bytree=1, gamma=0, gpu_id=-1,\n",
       "             importance_type='gain', interaction_constraints='',\n",
       "             learning_rate=0.300000012, max_delta_step=0, max_depth=6,\n",
       "             min_child_weight=1, missing=nan, monotone_constraints='()',\n",
       "             n_estimators=100, n_jobs=8, num_parallel_tree=1, random_state=0,\n",
       "             reg_alpha=0, reg_lambda=1, scale_pos_weight=1, subsample=1,\n",
       "             tree_method='exact', validate_parameters=1, verbosity=None)"
      ]
     },
     "execution_count": 13,
     "metadata": {},
     "output_type": "execute_result"
    }
   ],
   "source": [
    "# Train the model\n",
    "# Provide Training Dataset and Validation Dataset\n",
    "# XGBoost reports training and validation error\n",
    "regressor.fit(X_train,y_train, eval_set = [(X_train, y_train), (X_validation, y_validation)])"
   ]
  },
  {
   "cell_type": "code",
   "execution_count": 14,
   "metadata": {},
   "outputs": [],
   "source": [
    "# Get the Training RMSE and Evaluation RMSE\n",
    "eval_result = regressor.evals_result()"
   ]
  },
  {
   "cell_type": "code",
   "execution_count": 15,
   "metadata": {},
   "outputs": [
    {
     "data": {
      "text/plain": [
       "{'validation_0': OrderedDict([('rmse',\n",
       "               [313.050903,\n",
       "                224.206177,\n",
       "                160.988312,\n",
       "                115.90715,\n",
       "                83.559166,\n",
       "                60.490681,\n",
       "                44.071186,\n",
       "                32.396935,\n",
       "                24.116819,\n",
       "                18.444344,\n",
       "                14.256609,\n",
       "                11.332191,\n",
       "                9.211264,\n",
       "                7.641739,\n",
       "                6.520897,\n",
       "                5.69092,\n",
       "                5.078658,\n",
       "                4.566087,\n",
       "                4.155112,\n",
       "                3.916179,\n",
       "                3.5064,\n",
       "                3.205157,\n",
       "                2.975065,\n",
       "                2.793017,\n",
       "                2.660594,\n",
       "                2.551584,\n",
       "                2.345107,\n",
       "                2.255423,\n",
       "                2.141075,\n",
       "                2.081747,\n",
       "                2.021001,\n",
       "                1.954208,\n",
       "                1.860391,\n",
       "                1.822876,\n",
       "                1.690521,\n",
       "                1.601645,\n",
       "                1.550662,\n",
       "                1.489848,\n",
       "                1.444606,\n",
       "                1.409848,\n",
       "                1.384226,\n",
       "                1.341655,\n",
       "                1.324003,\n",
       "                1.261356,\n",
       "                1.197304,\n",
       "                1.153647,\n",
       "                1.131552,\n",
       "                1.106237,\n",
       "                1.053032,\n",
       "                1.027832,\n",
       "                0.989289,\n",
       "                0.956094,\n",
       "                0.937527,\n",
       "                0.896425,\n",
       "                0.884537,\n",
       "                0.864887,\n",
       "                0.838319,\n",
       "                0.823102,\n",
       "                0.790152,\n",
       "                0.744686,\n",
       "                0.738912,\n",
       "                0.725043,\n",
       "                0.683538,\n",
       "                0.651107,\n",
       "                0.627773,\n",
       "                0.617896,\n",
       "                0.603354,\n",
       "                0.570985,\n",
       "                0.560489,\n",
       "                0.5517,\n",
       "                0.535437,\n",
       "                0.527896,\n",
       "                0.50655,\n",
       "                0.481848,\n",
       "                0.472468,\n",
       "                0.466761,\n",
       "                0.453919,\n",
       "                0.446971,\n",
       "                0.427715,\n",
       "                0.419868,\n",
       "                0.397116,\n",
       "                0.38146,\n",
       "                0.370123,\n",
       "                0.363746,\n",
       "                0.358384,\n",
       "                0.35154,\n",
       "                0.328182,\n",
       "                0.323296,\n",
       "                0.318009,\n",
       "                0.303147,\n",
       "                0.294057,\n",
       "                0.289609,\n",
       "                0.284507,\n",
       "                0.282928,\n",
       "                0.280072,\n",
       "                0.264197,\n",
       "                0.256066,\n",
       "                0.242162,\n",
       "                0.239097,\n",
       "                0.228082])]),\n",
       " 'validation_1': OrderedDict([('rmse',\n",
       "               [310.058716,\n",
       "                222.668015,\n",
       "                158.884247,\n",
       "                113.381973,\n",
       "                80.231674,\n",
       "                57.109875,\n",
       "                41.193562,\n",
       "                30.780426,\n",
       "                23.697981,\n",
       "                19.624659,\n",
       "                17.264347,\n",
       "                16.59787,\n",
       "                16.177156,\n",
       "                15.929725,\n",
       "                15.82738,\n",
       "                15.925537,\n",
       "                15.962332,\n",
       "                16.010149,\n",
       "                16.142942,\n",
       "                16.190012,\n",
       "                16.110701,\n",
       "                16.053509,\n",
       "                15.976613,\n",
       "                15.919798,\n",
       "                15.87361,\n",
       "                15.867699,\n",
       "                15.930458,\n",
       "                15.918003,\n",
       "                15.936882,\n",
       "                15.969192,\n",
       "                15.956575,\n",
       "                15.96618,\n",
       "                16.000553,\n",
       "                16.01355,\n",
       "                16.042038,\n",
       "                16.056347,\n",
       "                16.062986,\n",
       "                16.07243,\n",
       "                16.061966,\n",
       "                16.062181,\n",
       "                16.069834,\n",
       "                16.060659,\n",
       "                16.067736,\n",
       "                16.051542,\n",
       "                16.060946,\n",
       "                16.059458,\n",
       "                16.06595,\n",
       "                16.065567,\n",
       "                16.05158,\n",
       "                16.045452,\n",
       "                16.044926,\n",
       "                16.054153,\n",
       "                16.054794,\n",
       "                16.041025,\n",
       "                16.044777,\n",
       "                16.034447,\n",
       "                16.040243,\n",
       "                16.041172,\n",
       "                16.037199,\n",
       "                16.039576,\n",
       "                16.038645,\n",
       "                16.038963,\n",
       "                16.037079,\n",
       "                16.04718,\n",
       "                16.046898,\n",
       "                16.04776,\n",
       "                16.046413,\n",
       "                16.049082,\n",
       "                16.048603,\n",
       "                16.052702,\n",
       "                16.057735,\n",
       "                16.057381,\n",
       "                16.061689,\n",
       "                16.05526,\n",
       "                16.055681,\n",
       "                16.058573,\n",
       "                16.059343,\n",
       "                16.059288,\n",
       "                16.065903,\n",
       "                16.064651,\n",
       "                16.057289,\n",
       "                16.063385,\n",
       "                16.06587,\n",
       "                16.065828,\n",
       "                16.065531,\n",
       "                16.065725,\n",
       "                16.062447,\n",
       "                16.062819,\n",
       "                16.062572,\n",
       "                16.058556,\n",
       "                16.061287,\n",
       "                16.060993,\n",
       "                16.06028,\n",
       "                16.059935,\n",
       "                16.061258,\n",
       "                16.054239,\n",
       "                16.055927,\n",
       "                16.052801,\n",
       "                16.052874,\n",
       "                16.04994])])}"
      ]
     },
     "execution_count": 15,
     "metadata": {},
     "output_type": "execute_result"
    }
   ],
   "source": [
    "eval_result"
   ]
  },
  {
   "cell_type": "code",
   "execution_count": 16,
   "metadata": {},
   "outputs": [],
   "source": [
    "training_rounds = range(len(eval_result['validation_0']['rmse']))"
   ]
  },
  {
   "cell_type": "code",
   "execution_count": 17,
   "metadata": {},
   "outputs": [
    {
     "name": "stdout",
     "output_type": "stream",
     "text": [
      "range(0, 100)\n"
     ]
    }
   ],
   "source": [
    "print(training_rounds)"
   ]
  },
  {
   "cell_type": "code",
   "execution_count": 18,
   "metadata": {},
   "outputs": [
    {
     "data": {
      "image/png": "[encoded data removed]",
      "text/plain": [
       "<Figure size 432x288 with 1 Axes>"
      ]
     },
     "metadata": {
      "needs_background": "light"
     },
     "output_type": "display_data"
    }
   ],
   "source": [
    "plt.scatter(x=training_rounds,y=eval_result['validation_0']['rmse'],label='Training Error')\n",
    "plt.scatter(x=training_rounds,y=eval_result['validation_1']['rmse'],label='Validation Error')\n",
    "plt.grid(True)\n",
    "plt.xlabel('Iterations')\n",
    "plt.ylabel('RMSE')\n",
    "plt.title('XGBoost Training Vs Validation Error')\n",
    "plt.legend()\n",
    "plt.show()"
   ]
  },
  {
   "cell_type": "code",
   "execution_count": 19,
   "metadata": {},
   "outputs": [
    {
     "data": {
      "image/png": "[encoded data removed]",
      "text/plain": [
       "<Figure size 432x288 with 1 Axes>"
      ]
     },
     "metadata": {
      "needs_background": "light"
     },
     "output_type": "display_data"
    }
   ],
   "source": [
    "xgb.plot_importance(regressor)\n",
    "plt.show()"
   ]
  },
  {
   "cell_type": "markdown",
   "metadata": {},
   "source": [
    "## Validation Dataset Compare Actual and Predicted"
   ]
  },
  {
   "cell_type": "code",
   "execution_count": 20,
   "metadata": {},
   "outputs": [],
   "source": [
    "result = regressor.predict(X_validation)"
   ]
  },
  {
   "cell_type": "code",
   "execution_count": 21,
   "metadata": {},
   "outputs": [
    {
     "data": {
      "text/plain": [
       "array([368.9108 , 543.1702 , 717.6492 , 205.00276, 156.46977],\n",
       "      dtype=float32)"
      ]
     },
     "execution_count": 21,
     "metadata": {},
     "output_type": "execute_result"
    }
   ],
   "source": [
    "result[:5]"
   ]
  },
  {
   "cell_type": "code",
   "execution_count": 22,
   "metadata": {},
   "outputs": [
    {
     "data": {
      "image/png": "[encoded data removed]",
      "text/plain": [
       "<Figure size 432x288 with 1 Axes>"
      ]
     },
     "metadata": {
      "needs_background": "light"
     },
     "output_type": "display_data"
    }
   ],
   "source": [
    "plt.title('XGBoost - Validation Dataset')\n",
    "plt.scatter(df_validation.x,df_validation.y,label='actual',marker='.')\n",
    "plt.scatter(df_validation.x,result,label='predicted',marker='.')\n",
    "plt.grid(True)\n",
    "plt.legend()\n",
    "plt.show()"
   ]
  },
  {
   "cell_type": "code",
   "execution_count": 23,
   "metadata": {},
   "outputs": [
    {
     "name": "stdout",
     "output_type": "stream",
     "text": [
      "XGBoost Algorithm Metrics\n",
      " Mean Squared Error: 257.60\n",
      " Root Mean Square Error: 16.05\n"
     ]
    }
   ],
   "source": [
    "# RMSE Metrics\n",
    "print('XGBoost Algorithm Metrics')\n",
    "mse = mean_squared_error(df_validation.y,result)\n",
    "print(\" Mean Squared Error: {0:.2f}\".format(mse))\n",
    "print(\" Root Mean Square Error: {0:.2f}\".format(mse**.5))"
   ]
  },
  {
   "cell_type": "code",
   "execution_count": 24,
   "metadata": {},
   "outputs": [
    {
     "data": {
      "image/png": "[encoded data removed]",
      "text/plain": [
       "<Figure size 432x288 with 1 Axes>"
      ]
     },
     "metadata": {
      "needs_background": "light"
     },
     "output_type": "display_data"
    }
   ],
   "source": [
    "# Residual\n",
    "# Over prediction and Under Prediction needs to be balanced\n",
    "# Training Data Residuals\n",
    "residuals = df_validation.y - result\n",
    "plt.hist(residuals)\n",
    "plt.grid(True)\n",
    "plt.xlabel('Actual - Predicted')\n",
    "plt.ylabel('Count')\n",
    "plt.title('XGBoost Residual')\n",
    "plt.axvline(color='r')\n",
    "plt.show()"
   ]
  },
  {
   "cell_type": "code",
   "execution_count": 25,
   "metadata": {},
   "outputs": [
    {
     "name": "stdout",
     "output_type": "stream",
     "text": [
      " Under Estimation: 20\n",
      " Over  Estimation: 25\n"
     ]
    }
   ],
   "source": [
    "# Count number of values greater than zero and less than zero\n",
    "value_counts = (residuals > 0).value_counts(sort=False)\n",
    "\n",
    "print(' Under Estimation: {0}'.format(value_counts[True]))\n",
    "print(' Over  Estimation: {0}'.format(value_counts[False]))"
   ]
  },
  {
   "cell_type": "code",
   "execution_count": 26,
   "metadata": {},
   "outputs": [
    {
     "data": {
      "image/png": "[encoded data removed]",
      "text/plain": [
       "<Figure size 432x288 with 1 Axes>"
      ]
     },
     "metadata": {
      "needs_background": "light"
     },
     "output_type": "display_data"
    }
   ],
   "source": [
    "# Plot for entire dataset\n",
    "plt.plot(df.x,df.y,label='Target')\n",
    "plt.plot(df.x,regressor.predict(df[['x']]) ,label='Predicted')\n",
    "plt.grid(True)\n",
    "plt.xlabel('Input Feature')\n",
    "plt.ylabel('Target')\n",
    "plt.legend()\n",
    "plt.title('XGBoost')\n",
    "plt.show()"
   ]
  },
  {
   "cell_type": "markdown",
   "metadata": {},
   "source": [
    "## Linear Regression Algorithm "
   ]
  },
  {
   "cell_type": "code",
   "execution_count": 27,
   "metadata": {},
   "outputs": [],
   "source": [
    "lin_regressor = LinearRegression()"
   ]
  },
  {
   "cell_type": "code",
   "execution_count": 28,
   "metadata": {},
   "outputs": [
    {
     "data": {
      "text/plain": [
       "LinearRegression()"
      ]
     },
     "execution_count": 28,
     "metadata": {},
     "output_type": "execute_result"
    }
   ],
   "source": [
    "lin_regressor.fit(X_train,y_train)"
   ]
  },
  {
   "cell_type": "markdown",
   "metadata": {},
   "source": [
    "Compare Weights assigned by Linear Regression.\n",
    "\n",
    "Original Function: 5*x + 8 + some noise\n"
   ]
  },
  {
   "cell_type": "code",
   "execution_count": 29,
   "metadata": {},
   "outputs": [
    {
     "data": {
      "text/plain": [
       "array([4.99621021])"
      ]
     },
     "execution_count": 29,
     "metadata": {},
     "output_type": "execute_result"
    }
   ],
   "source": [
    "lin_regressor.coef_"
   ]
  },
  {
   "cell_type": "code",
   "execution_count": 30,
   "metadata": {},
   "outputs": [
    {
     "data": {
      "text/plain": [
       "8.97441753725576"
      ]
     },
     "execution_count": 30,
     "metadata": {},
     "output_type": "execute_result"
    }
   ],
   "source": [
    "lin_regressor.intercept_"
   ]
  },
  {
   "cell_type": "code",
   "execution_count": 31,
   "metadata": {},
   "outputs": [],
   "source": [
    "result = lin_regressor.predict(df_validation[['x']])"
   ]
  },
  {
   "cell_type": "code",
   "execution_count": 32,
   "metadata": {},
   "outputs": [
    {
     "data": {
      "image/png": "[encoded data removed]",
      "text/plain": [
       "<Figure size 432x288 with 1 Axes>"
      ]
     },
     "metadata": {
      "needs_background": "light"
     },
     "output_type": "display_data"
    }
   ],
   "source": [
    "plt.title('LinearRegression - Validation Dataset')\n",
    "plt.scatter(df_validation.x,df_validation.y,label='actual',marker='.')\n",
    "plt.scatter(df_validation.x,result,label='predicted',marker='.')\n",
    "plt.grid(True)\n",
    "plt.legend()\n",
    "plt.show()"
   ]
  },
  {
   "cell_type": "code",
   "execution_count": 33,
   "metadata": {},
   "outputs": [
    {
     "name": "stdout",
     "output_type": "stream",
     "text": [
      "Linear Regression Metrics\n",
      " Mean Squared Error: 122.64\n",
      " Root Mean Square Error: 11.07\n"
     ]
    }
   ],
   "source": [
    "# RMSE Metrics\n",
    "print('Linear Regression Metrics')\n",
    "mse = mean_squared_error(df_validation.y,result)\n",
    "print(\" Mean Squared Error: {0:.2f}\".format(mse))\n",
    "print(\" Root Mean Square Error: {0:.2f}\".format(mse**.5))"
   ]
  },
  {
   "cell_type": "code",
   "execution_count": 34,
   "metadata": {},
   "outputs": [
    {
     "data": {
      "image/png": "[encoded data removed]",
      "text/plain": [
       "<Figure size 432x288 with 1 Axes>"
      ]
     },
     "metadata": {
      "needs_background": "light"
     },
     "output_type": "display_data"
    }
   ],
   "source": [
    "# Residual\n",
    "# Over prediction and Under Prediction needs to be balanced\n",
    "# Training Data Residuals\n",
    "residuals = df_validation.y - result\n",
    "plt.hist(residuals)\n",
    "plt.grid(True)\n",
    "plt.xlabel('Actual - Predicted')\n",
    "plt.ylabel('Count')\n",
    "plt.title('Linear Regression Residual')\n",
    "plt.axvline(color='r')\n",
    "plt.show()"
   ]
  },
  {
   "cell_type": "code",
   "execution_count": 35,
   "metadata": {},
   "outputs": [
    {
     "name": "stdout",
     "output_type": "stream",
     "text": [
      " Under Estimation: 21\n",
      " Over  Estimation: 24\n"
     ]
    }
   ],
   "source": [
    "# Count number of values greater than zero and less than zero\n",
    "value_counts = (residuals > 0).value_counts(sort=False)\n",
    "\n",
    "print(' Under Estimation: {0}'.format(value_counts[True]))\n",
    "print(' Over  Estimation: {0}'.format(value_counts[False]))"
   ]
  },
  {
   "cell_type": "code",
   "execution_count": 36,
   "metadata": {},
   "outputs": [
    {
     "data": {
      "image/png": "[encoded data removed]",
      "text/plain": [
       "<Figure size 432x288 with 1 Axes>"
      ]
     },
     "metadata": {
      "needs_background": "light"
     },
     "output_type": "display_data"
    }
   ],
   "source": [
    "# Plot for entire dataset\n",
    "plt.plot(df.x,df.y,label='Target')\n",
    "plt.plot(df.x,lin_regressor.predict(df[['x']]) ,label='Predicted')\n",
    "plt.grid(True)\n",
    "plt.xlabel('Input Feature')\n",
    "plt.ylabel('Target')\n",
    "plt.legend()\n",
    "plt.title('LinearRegression')\n",
    "plt.show()"
   ]
  },
  {
   "cell_type": "markdown",
   "metadata": {},
   "source": [
    "<h2>Input Features - Outside range used for training</h2>\n",
    "\n",
    "XGBoost Prediction has an upper and lower bound (applies to tree based algorithms)\n",
    "\n",
    "Linear Regression extrapolates"
   ]
  },
  {
   "cell_type": "code",
   "execution_count": 37,
   "metadata": {},
   "outputs": [],
   "source": [
    "# True Function\n",
    "def straight_line(x):\n",
    "    return 5*x + 8"
   ]
  },
  {
   "cell_type": "code",
   "execution_count": 38,
   "metadata": {},
   "outputs": [],
   "source": [
    "# X is outside range of training samples\n",
    "X = np.array([-100,-5,160,1000,5000])\n",
    "y = straight_line(X)\n",
    "\n",
    "df_tmp = pd.DataFrame({'x':X,'y':y})\n",
    "df_tmp['xgboost']=regressor.predict(df_tmp[['x']])\n",
    "df_tmp['linear']=lin_regressor.predict(df_tmp[['x']])"
   ]
  },
  {
   "cell_type": "code",
   "execution_count": 39,
   "metadata": {},
   "outputs": [
    {
     "data": {
      "text/html": [
       "<div>\n",
       "<style scoped>\n",
       "    .dataframe tbody tr th:only-of-type {\n",
       "        vertical-align: middle;\n",
       "    }\n",
       "\n",
       "    .dataframe tbody tr th {\n",
       "        vertical-align: top;\n",
       "    }\n",
       "\n",
       "    .dataframe thead th {\n",
       "        text-align: right;\n",
       "    }\n",
       "</style>\n",
       "<table border=\"1\" class=\"dataframe\">\n",
       "  <thead>\n",
       "    <tr style=\"text-align: right;\">\n",
       "      <th></th>\n",
       "      <th>x</th>\n",
       "      <th>y</th>\n",
       "      <th>xgboost</th>\n",
       "      <th>linear</th>\n",
       "    </tr>\n",
       "  </thead>\n",
       "  <tbody>\n",
       "    <tr>\n",
       "      <th>0</th>\n",
       "      <td>-100</td>\n",
       "      <td>-492</td>\n",
       "      <td>12.435506</td>\n",
       "      <td>-490.646603</td>\n",
       "    </tr>\n",
       "    <tr>\n",
       "      <th>1</th>\n",
       "      <td>-5</td>\n",
       "      <td>-17</td>\n",
       "      <td>12.435506</td>\n",
       "      <td>-16.006634</td>\n",
       "    </tr>\n",
       "    <tr>\n",
       "      <th>2</th>\n",
       "      <td>160</td>\n",
       "      <td>808</td>\n",
       "      <td>740.047485</td>\n",
       "      <td>808.368051</td>\n",
       "    </tr>\n",
       "    <tr>\n",
       "      <th>3</th>\n",
       "      <td>1000</td>\n",
       "      <td>5008</td>\n",
       "      <td>740.047485</td>\n",
       "      <td>5005.184626</td>\n",
       "    </tr>\n",
       "    <tr>\n",
       "      <th>4</th>\n",
       "      <td>5000</td>\n",
       "      <td>25008</td>\n",
       "      <td>740.047485</td>\n",
       "      <td>24990.025460</td>\n",
       "    </tr>\n",
       "  </tbody>\n",
       "</table>\n",
       "</div>"
      ],
      "text/plain": [
       "      x      y     xgboost        linear\n",
       "0  -100   -492   12.435506   -490.646603\n",
       "1    -5    -17   12.435506    -16.006634\n",
       "2   160    808  740.047485    808.368051\n",
       "3  1000   5008  740.047485   5005.184626\n",
       "4  5000  25008  740.047485  24990.025460"
      ]
     },
     "execution_count": 39,
     "metadata": {},
     "output_type": "execute_result"
    }
   ],
   "source": [
    "df_tmp"
   ]
  },
  {
   "cell_type": "code",
   "execution_count": 40,
   "metadata": {},
   "outputs": [
    {
     "data": {
      "image/png": "[encoded data removed]",
      "text/plain": [
       "<Figure size 432x288 with 1 Axes>"
      ]
     },
     "metadata": {
      "needs_background": "light"
     },
     "output_type": "display_data"
    }
   ],
   "source": [
    "# XGBoost Predictions have an upper bound and lower bound\n",
    "# Linear Regression Extrapolates\n",
    "plt.scatter(df_tmp.x,df_tmp.y,label='Actual',color='r')\n",
    "plt.plot(df_tmp.x,df_tmp.linear,label='LinearRegression')\n",
    "plt.plot(df_tmp.x,df_tmp.xgboost,label='XGBoost')\n",
    "plt.legend()\n",
    "plt.xlabel('X')\n",
    "plt.ylabel('y')\n",
    "plt.title('Input Outside Range')\n",
    "plt.show()"
   ]
  },
  {
   "cell_type": "code",
   "execution_count": 41,
   "metadata": {},
   "outputs": [],
   "source": [
    "# X is inside range of training samples\n",
    "X = np.array([0,1,3,5,7,9,11,15,18,125])\n",
    "y = straight_line(X)\n",
    "\n",
    "df_tmp = pd.DataFrame({'x':X,'y':y})\n",
    "df_tmp['xgboost']=regressor.predict(df_tmp[['x']])\n",
    "df_tmp['linear']=lin_regressor.predict(df_tmp[['x']])"
   ]
  },
  {
   "cell_type": "code",
   "execution_count": 42,
   "metadata": {},
   "outputs": [
    {
     "data": {
      "text/html": [
       "<div>\n",
       "<style scoped>\n",
       "    .dataframe tbody tr th:only-of-type {\n",
       "        vertical-align: middle;\n",
       "    }\n",
       "\n",
       "    .dataframe tbody tr th {\n",
       "        vertical-align: top;\n",
       "    }\n",
       "\n",
       "    .dataframe thead th {\n",
       "        text-align: right;\n",
       "    }\n",
       "</style>\n",
       "<table border=\"1\" class=\"dataframe\">\n",
       "  <thead>\n",
       "    <tr style=\"text-align: right;\">\n",
       "      <th></th>\n",
       "      <th>x</th>\n",
       "      <th>y</th>\n",
       "      <th>xgboost</th>\n",
       "      <th>linear</th>\n",
       "    </tr>\n",
       "  </thead>\n",
       "  <tbody>\n",
       "    <tr>\n",
       "      <th>0</th>\n",
       "      <td>0</td>\n",
       "      <td>8</td>\n",
       "      <td>12.435506</td>\n",
       "      <td>8.974418</td>\n",
       "    </tr>\n",
       "    <tr>\n",
       "      <th>1</th>\n",
       "      <td>1</td>\n",
       "      <td>13</td>\n",
       "      <td>9.790728</td>\n",
       "      <td>13.970628</td>\n",
       "    </tr>\n",
       "    <tr>\n",
       "      <th>2</th>\n",
       "      <td>3</td>\n",
       "      <td>23</td>\n",
       "      <td>20.675346</td>\n",
       "      <td>23.963048</td>\n",
       "    </tr>\n",
       "    <tr>\n",
       "      <th>3</th>\n",
       "      <td>5</td>\n",
       "      <td>33</td>\n",
       "      <td>48.608994</td>\n",
       "      <td>33.955469</td>\n",
       "    </tr>\n",
       "    <tr>\n",
       "      <th>4</th>\n",
       "      <td>7</td>\n",
       "      <td>43</td>\n",
       "      <td>37.112389</td>\n",
       "      <td>43.947889</td>\n",
       "    </tr>\n",
       "    <tr>\n",
       "      <th>5</th>\n",
       "      <td>9</td>\n",
       "      <td>53</td>\n",
       "      <td>49.584694</td>\n",
       "      <td>53.940309</td>\n",
       "    </tr>\n",
       "    <tr>\n",
       "      <th>6</th>\n",
       "      <td>11</td>\n",
       "      <td>63</td>\n",
       "      <td>60.966640</td>\n",
       "      <td>63.932730</td>\n",
       "    </tr>\n",
       "    <tr>\n",
       "      <th>7</th>\n",
       "      <td>15</td>\n",
       "      <td>83</td>\n",
       "      <td>61.323814</td>\n",
       "      <td>83.917571</td>\n",
       "    </tr>\n",
       "    <tr>\n",
       "      <th>8</th>\n",
       "      <td>18</td>\n",
       "      <td>98</td>\n",
       "      <td>109.408699</td>\n",
       "      <td>98.906201</td>\n",
       "    </tr>\n",
       "    <tr>\n",
       "      <th>9</th>\n",
       "      <td>125</td>\n",
       "      <td>633</td>\n",
       "      <td>625.286438</td>\n",
       "      <td>633.500694</td>\n",
       "    </tr>\n",
       "  </tbody>\n",
       "</table>\n",
       "</div>"
      ],
      "text/plain": [
       "     x    y     xgboost      linear\n",
       "0    0    8   12.435506    8.974418\n",
       "1    1   13    9.790728   13.970628\n",
       "2    3   23   20.675346   23.963048\n",
       "3    5   33   48.608994   33.955469\n",
       "4    7   43   37.112389   43.947889\n",
       "5    9   53   49.584694   53.940309\n",
       "6   11   63   60.966640   63.932730\n",
       "7   15   83   61.323814   83.917571\n",
       "8   18   98  109.408699   98.906201\n",
       "9  125  633  625.286438  633.500694"
      ]
     },
     "execution_count": 42,
     "metadata": {},
     "output_type": "execute_result"
    }
   ],
   "source": [
    "df_tmp"
   ]
  },
  {
   "cell_type": "code",
   "execution_count": 43,
   "metadata": {},
   "outputs": [
    {
     "data": {
      "image/png": "[encoded data removed]",
      "text/plain": [
       "<Figure size 432x288 with 1 Axes>"
      ]
     },
     "metadata": {
      "needs_background": "light"
     },
     "output_type": "display_data"
    }
   ],
   "source": [
    "# XGBoost Predictions have an upper bound and lower bound\n",
    "# Linear Regression Extrapolates\n",
    "plt.scatter(df_tmp.x,df_tmp.y,label='Actual',color='r')\n",
    "plt.plot(df_tmp.x,df_tmp.linear,label='LinearRegression')\n",
    "plt.plot(df_tmp.x,df_tmp.xgboost,label='XGBoost')\n",
    "plt.legend()\n",
    "plt.xlabel('X')\n",
    "plt.ylabel('y')\n",
    "plt.title('Input within range')\n",
    "plt.show()"
   ]
  },
  {
   "cell_type": "markdown",
   "metadata": {},
   "source": [
    "<h2>Summary</h2>"
   ]
  },
  {
   "cell_type": "markdown",
   "metadata": {},
   "source": [
    "1. Use sagemaker notebook as your own server on the cloud\n",
    "2. Install python packages\n",
    "3. Train directly on SageMaker Notebook (for small datasets, it takes few seconds).\n",
    "4. Once happy with algorithm and performance, you can train on sagemaker cloud (takes several minutes even for small datasets)\n",
    "5. Not all algorithms are available for installation (for example: AWS algorithms like DeepAR are available only in SageMaker)\n",
    "6. In this exercise, we installed XGBoost and compared performance of XGBoost model and Linear Regression"
   ]
  }
 ],
 "metadata": {
  "kernelspec": {
   "display_name": "Python 3",
   "language": "python",
   "name": "python3"
  },
  "language_info": {
   "codemirror_mode": {
    "name": "ipython",
    "version": 3
   },
   "file_extension": ".py",
   "mimetype": "text/x-python",
   "name": "python",
   "nbconvert_exporter": "python",
   "pygments_lexer": "ipython3",
   "version": "3.9.2"
  }
 },
 "nbformat": 4,
 "nbformat_minor": 2
}
