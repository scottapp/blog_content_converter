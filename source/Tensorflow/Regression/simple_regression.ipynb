{
 "cells": [
  {
   "cell_type": "markdown",
   "id": "648152f7",
   "metadata": {},
   "source": [
    "## Simple Regression Model Using Tensorflow"
   ]
  },
  {
   "cell_type": "code",
   "execution_count": 1,
   "id": "b76adb66",
   "metadata": {},
   "outputs": [
    {
     "name": "stdout",
     "output_type": "stream",
     "text": [
      "2.4.1\n"
     ]
    }
   ],
   "source": [
    "import tensorflow as tf\n",
    "print(tf.__version__)\n",
    "import numpy as np\n",
    "import matplotlib.pyplot as plt"
   ]
  },
  {
   "cell_type": "code",
   "execution_count": 2,
   "id": "d5e4295d",
   "metadata": {},
   "outputs": [
    {
     "data": {
      "text/plain": [
       "<matplotlib.collections.PathCollection at 0x7effdc6a5550>"
      ]
     },
     "execution_count": 2,
     "metadata": {},
     "output_type": "execute_result"
    },
    {
     "data": {
      "image/png": "[encoded data removed]",
      "text/plain": [
       "<Figure size 432x288 with 1 Axes>"
      ]
     },
     "metadata": {
      "needs_background": "light"
     },
     "output_type": "display_data"
    }
   ],
   "source": [
    "# generate some randome numbers\n",
    "rng = np.random.RandomState(1)\n",
    "X = 10 * rng.rand(50)\n",
    "y = 3 * X - 5 + rng.randn(50)\n",
    "\n",
    "# convert to tensor\n",
    "X = tf.constant(X)\n",
    "y = tf.constant(y)\n",
    "\n",
    "plt.scatter(X, y)"
   ]
  },
  {
   "cell_type": "code",
   "execution_count": 3,
   "id": "67095116",
   "metadata": {},
   "outputs": [
    {
     "data": {
      "text/plain": [
       "(<tf.Tensor: shape=(50,), dtype=float64, numpy=\n",
       " array([4.17022005e+00, 7.20324493e+00, 1.14374817e-03, 3.02332573e+00,\n",
       "        1.46755891e+00, 9.23385948e-01, 1.86260211e+00, 3.45560727e+00,\n",
       "        3.96767474e+00, 5.38816734e+00, 4.19194514e+00, 6.85219500e+00,\n",
       "        2.04452250e+00, 8.78117436e+00, 2.73875932e-01, 6.70467510e+00,\n",
       "        4.17304802e+00, 5.58689828e+00, 1.40386939e+00, 1.98101489e+00,\n",
       "        8.00744569e+00, 9.68261576e+00, 3.13424178e+00, 6.92322616e+00,\n",
       "        8.76389152e+00, 8.94606664e+00, 8.50442114e-01, 3.90547832e-01,\n",
       "        1.69830420e+00, 8.78142503e+00, 9.83468338e-01, 4.21107625e+00,\n",
       "        9.57889530e+00, 5.33165285e+00, 6.91877114e+00, 3.15515631e+00,\n",
       "        6.86500928e+00, 8.34625672e+00, 1.82882773e-01, 7.50144315e+00,\n",
       "        9.88861089e+00, 7.48165654e+00, 2.80443992e+00, 7.89279328e+00,\n",
       "        1.03226007e+00, 4.47893526e+00, 9.08595503e+00, 2.93614148e+00,\n",
       "        2.87775339e+00, 1.30028572e+00])>,\n",
       " <tf.Tensor: shape=(50,), dtype=float64, numpy=\n",
       " array([ 6.82348744, 15.76452916, -5.66781489,  4.05731258, -1.71463362,\n",
       "        -1.99542646,  2.24760852,  6.10886597,  6.71118867, 10.27687306,\n",
       "         6.82867714, 17.24903961,  1.18437525, 20.70652745, -3.98745672,\n",
       "        17.21428044,  7.63930302, 12.37789796, -0.48822152,  0.59079483,\n",
       "        17.87981886, 23.69850455,  4.19383111, 16.35630166, 22.13065798,\n",
       "        22.76930199, -2.16308633, -2.94321534, -0.65948535, 22.59714326,\n",
       "        -1.53666516,  7.33513592, 24.22520405, 10.91938684, 16.88794281,\n",
       "         5.98528575, 17.78060324, 18.64227382, -5.89546549, 16.99986359,\n",
       "        24.82586974, 18.32113855,  3.72895471, 16.65617864, -2.20942382,\n",
       "         9.26478043, 22.48795983,  4.57043563,  3.41093201, -1.29990091])>)"
      ]
     },
     "execution_count": 3,
     "metadata": {},
     "output_type": "execute_result"
    }
   ],
   "source": [
    "X, y"
   ]
  },
  {
   "cell_type": "code",
   "execution_count": 4,
   "id": "24e7fd38",
   "metadata": {},
   "outputs": [
    {
     "data": {
      "text/plain": [
       "(<tf.Tensor: shape=(), dtype=float64, numpy=4.17022004702574>, TensorShape([]))"
      ]
     },
     "execution_count": 4,
     "metadata": {},
     "output_type": "execute_result"
    }
   ],
   "source": [
    "# shape of a single element from input, due to scalar type\n",
    "X[0], X[0].shape"
   ]
  },
  {
   "cell_type": "code",
   "execution_count": 5,
   "id": "2beee818",
   "metadata": {},
   "outputs": [
    {
     "data": {
      "text/plain": [
       "(<tf.Tensor: shape=(), dtype=float64, numpy=6.823487440957622>,\n",
       " TensorShape([]))"
      ]
     },
     "execution_count": 5,
     "metadata": {},
     "output_type": "execute_result"
    }
   ],
   "source": [
    "# shape of a single element from output, due to scalar type\n",
    "y[0], y[0].shape"
   ]
  },
  {
   "cell_type": "code",
   "execution_count": 29,
   "id": "e5c11bd6",
   "metadata": {},
   "outputs": [
    {
     "name": "stdout",
     "output_type": "stream",
     "text": [
      "Epoch 1/100\n",
      "2/2 [==============================] - 0s 2ms/step - loss: 10.8209 - mae: 10.8209\n",
      "Epoch 2/100\n",
      "2/2 [==============================] - 0s 2ms/step - loss: 9.9278 - mae: 9.9278\n",
      "Epoch 3/100\n",
      "2/2 [==============================] - 0s 2ms/step - loss: 9.3380 - mae: 9.3380\n",
      "Epoch 4/100\n",
      "2/2 [==============================] - 0s 2ms/step - loss: 8.5396 - mae: 8.5396\n",
      "Epoch 5/100\n",
      "2/2 [==============================] - 0s 2ms/step - loss: 8.2878 - mae: 8.2878\n",
      "Epoch 6/100\n",
      "2/2 [==============================] - 0s 2ms/step - loss: 7.4968 - mae: 7.4968\n",
      "Epoch 7/100\n",
      "2/2 [==============================] - 0s 2ms/step - loss: 6.8774 - mae: 6.8774\n",
      "Epoch 8/100\n",
      "2/2 [==============================] - 0s 2ms/step - loss: 5.9697 - mae: 5.9697\n",
      "Epoch 9/100\n",
      "2/2 [==============================] - 0s 1ms/step - loss: 5.1658 - mae: 5.1658\n",
      "Epoch 10/100\n",
      "2/2 [==============================] - 0s 2ms/step - loss: 4.4618 - mae: 4.4618\n",
      "Epoch 11/100\n",
      "2/2 [==============================] - 0s 2ms/step - loss: 3.5941 - mae: 3.5941\n",
      "Epoch 12/100\n",
      "2/2 [==============================] - 0s 2ms/step - loss: 3.0349 - mae: 3.0349\n",
      "Epoch 13/100\n",
      "2/2 [==============================] - 0s 2ms/step - loss: 2.7883 - mae: 2.7883\n",
      "Epoch 14/100\n",
      "2/2 [==============================] - 0s 2ms/step - loss: 2.6974 - mae: 2.6974\n",
      "Epoch 15/100\n",
      "2/2 [==============================] - 0s 1ms/step - loss: 2.5122 - mae: 2.5122\n",
      "Epoch 16/100\n",
      "2/2 [==============================] - 0s 3ms/step - loss: 2.5411 - mae: 2.5411\n",
      "Epoch 17/100\n",
      "2/2 [==============================] - 0s 2ms/step - loss: 2.6124 - mae: 2.6124\n",
      "Epoch 18/100\n",
      "2/2 [==============================] - 0s 3ms/step - loss: 2.5763 - mae: 2.5763\n",
      "Epoch 19/100\n",
      "2/2 [==============================] - 0s 1ms/step - loss: 2.5027 - mae: 2.5027\n",
      "Epoch 20/100\n",
      "2/2 [==============================] - 0s 2ms/step - loss: 2.4674 - mae: 2.4674\n",
      "Epoch 21/100\n",
      "2/2 [==============================] - 0s 2ms/step - loss: 2.4986 - mae: 2.4986\n",
      "Epoch 22/100\n",
      "2/2 [==============================] - 0s 1ms/step - loss: 2.5249 - mae: 2.5249\n",
      "Epoch 23/100\n",
      "2/2 [==============================] - 0s 2ms/step - loss: 2.4908 - mae: 2.4908\n",
      "Epoch 24/100\n",
      "2/2 [==============================] - 0s 2ms/step - loss: 2.4357 - mae: 2.4357\n",
      "Epoch 25/100\n",
      "2/2 [==============================] - 0s 2ms/step - loss: 2.4704 - mae: 2.4704\n",
      "Epoch 26/100\n",
      "2/2 [==============================] - 0s 1ms/step - loss: 2.3447 - mae: 2.3447\n",
      "Epoch 27/100\n",
      "2/2 [==============================] - 0s 1ms/step - loss: 2.3643 - mae: 2.3643\n",
      "Epoch 28/100\n",
      "2/2 [==============================] - 0s 2ms/step - loss: 2.4491 - mae: 2.4491\n",
      "Epoch 29/100\n",
      "2/2 [==============================] - 0s 2ms/step - loss: 2.4368 - mae: 2.4368\n",
      "Epoch 30/100\n",
      "2/2 [==============================] - 0s 1ms/step - loss: 2.3229 - mae: 2.3229\n",
      "Epoch 31/100\n",
      "2/2 [==============================] - 0s 1ms/step - loss: 2.3694 - mae: 2.3694\n",
      "Epoch 32/100\n",
      "2/2 [==============================] - 0s 2ms/step - loss: 2.4255 - mae: 2.4255\n",
      "Epoch 33/100\n",
      "2/2 [==============================] - 0s 1ms/step - loss: 2.3640 - mae: 2.3640\n",
      "Epoch 34/100\n",
      "2/2 [==============================] - 0s 1ms/step - loss: 2.2617 - mae: 2.2617\n",
      "Epoch 35/100\n",
      "2/2 [==============================] - 0s 2ms/step - loss: 2.2831 - mae: 2.2831\n",
      "Epoch 36/100\n",
      "2/2 [==============================] - 0s 1ms/step - loss: 2.3579 - mae: 2.3579\n",
      "Epoch 37/100\n",
      "2/2 [==============================] - 0s 2ms/step - loss: 2.3197 - mae: 2.3197\n",
      "Epoch 38/100\n",
      "2/2 [==============================] - 0s 1ms/step - loss: 2.2772 - mae: 2.2772\n",
      "Epoch 39/100\n",
      "2/2 [==============================] - 0s 1ms/step - loss: 2.3032 - mae: 2.3032\n",
      "Epoch 40/100\n",
      "2/2 [==============================] - 0s 1ms/step - loss: 2.2392 - mae: 2.2392\n",
      "Epoch 41/100\n",
      "2/2 [==============================] - 0s 1ms/step - loss: 2.3468 - mae: 2.3468\n",
      "Epoch 42/100\n",
      "2/2 [==============================] - 0s 1ms/step - loss: 2.2578 - mae: 2.2578\n",
      "Epoch 43/100\n",
      "2/2 [==============================] - 0s 1ms/step - loss: 2.1730 - mae: 2.1730\n",
      "Epoch 44/100\n",
      "2/2 [==============================] - 0s 1ms/step - loss: 2.1729 - mae: 2.1729\n",
      "Epoch 45/100\n",
      "2/2 [==============================] - 0s 1ms/step - loss: 2.2284 - mae: 2.2284\n",
      "Epoch 46/100\n",
      "2/2 [==============================] - 0s 2ms/step - loss: 2.1473 - mae: 2.1473\n",
      "Epoch 47/100\n",
      "2/2 [==============================] - 0s 2ms/step - loss: 2.1951 - mae: 2.1951\n",
      "Epoch 48/100\n",
      "2/2 [==============================] - 0s 1ms/step - loss: 2.1378 - mae: 2.1378\n",
      "Epoch 49/100\n",
      "2/2 [==============================] - 0s 2ms/step - loss: 2.1915 - mae: 2.1915\n",
      "Epoch 50/100\n",
      "2/2 [==============================] - 0s 2ms/step - loss: 2.2136 - mae: 2.2136\n",
      "Epoch 51/100\n",
      "2/2 [==============================] - 0s 1ms/step - loss: 2.1672 - mae: 2.1672\n",
      "Epoch 52/100\n",
      "2/2 [==============================] - 0s 1ms/step - loss: 2.1376 - mae: 2.1376\n",
      "Epoch 53/100\n",
      "2/2 [==============================] - 0s 2ms/step - loss: 2.0681 - mae: 2.0681\n",
      "Epoch 54/100\n",
      "2/2 [==============================] - 0s 1ms/step - loss: 2.1199 - mae: 2.1199\n",
      "Epoch 55/100\n",
      "2/2 [==============================] - 0s 1ms/step - loss: 2.1640 - mae: 2.1640\n",
      "Epoch 56/100\n",
      "2/2 [==============================] - 0s 2ms/step - loss: 2.1671 - mae: 2.1671\n",
      "Epoch 57/100\n",
      "2/2 [==============================] - 0s 1ms/step - loss: 2.0326 - mae: 2.0326\n",
      "Epoch 58/100\n",
      "2/2 [==============================] - 0s 1ms/step - loss: 2.0574 - mae: 2.0574\n",
      "Epoch 59/100\n",
      "2/2 [==============================] - 0s 1ms/step - loss: 2.0204 - mae: 2.0204\n",
      "Epoch 60/100\n",
      "2/2 [==============================] - 0s 2ms/step - loss: 2.0794 - mae: 2.0794\n",
      "Epoch 61/100\n",
      "2/2 [==============================] - 0s 1ms/step - loss: 2.0291 - mae: 2.0291\n",
      "Epoch 62/100\n",
      "2/2 [==============================] - 0s 1ms/step - loss: 2.0448 - mae: 2.0448\n",
      "Epoch 63/100\n",
      "2/2 [==============================] - 0s 2ms/step - loss: 1.9979 - mae: 1.9979\n",
      "Epoch 64/100\n",
      "2/2 [==============================] - 0s 1ms/step - loss: 1.9920 - mae: 1.9920\n",
      "Epoch 65/100\n",
      "2/2 [==============================] - 0s 1ms/step - loss: 2.0001 - mae: 2.0001\n",
      "Epoch 66/100\n",
      "2/2 [==============================] - 0s 1ms/step - loss: 1.9927 - mae: 1.9927\n",
      "Epoch 67/100\n",
      "2/2 [==============================] - 0s 2ms/step - loss: 1.9405 - mae: 1.9405\n",
      "Epoch 68/100\n",
      "2/2 [==============================] - 0s 1ms/step - loss: 1.9229 - mae: 1.9229\n",
      "Epoch 69/100\n",
      "2/2 [==============================] - 0s 1ms/step - loss: 1.9873 - mae: 1.9873\n",
      "Epoch 70/100\n",
      "2/2 [==============================] - 0s 1ms/step - loss: 1.8549 - mae: 1.8549\n",
      "Epoch 71/100\n",
      "2/2 [==============================] - 0s 2ms/step - loss: 1.8832 - mae: 1.8832\n",
      "Epoch 72/100\n",
      "2/2 [==============================] - 0s 1ms/step - loss: 1.8250 - mae: 1.8250\n",
      "Epoch 73/100\n",
      "2/2 [==============================] - 0s 2ms/step - loss: 1.8763 - mae: 1.8763\n",
      "Epoch 74/100\n",
      "2/2 [==============================] - 0s 1ms/step - loss: 1.8704 - mae: 1.8704\n",
      "Epoch 75/100\n",
      "2/2 [==============================] - 0s 2ms/step - loss: 1.8534 - mae: 1.8534\n",
      "Epoch 76/100\n",
      "2/2 [==============================] - 0s 1ms/step - loss: 1.8031 - mae: 1.8031\n",
      "Epoch 77/100\n",
      "2/2 [==============================] - 0s 1ms/step - loss: 1.8235 - mae: 1.8235\n",
      "Epoch 78/100\n",
      "2/2 [==============================] - 0s 1ms/step - loss: 1.8580 - mae: 1.8580\n",
      "Epoch 79/100\n",
      "2/2 [==============================] - 0s 2ms/step - loss: 1.8296 - mae: 1.8296\n",
      "Epoch 80/100\n",
      "2/2 [==============================] - 0s 2ms/step - loss: 1.7909 - mae: 1.7909\n",
      "Epoch 81/100\n",
      "2/2 [==============================] - 0s 1ms/step - loss: 1.8845 - mae: 1.8845\n",
      "Epoch 82/100\n",
      "2/2 [==============================] - 0s 1ms/step - loss: 1.8134 - mae: 1.8134\n",
      "Epoch 83/100\n",
      "2/2 [==============================] - 0s 2ms/step - loss: 1.7456 - mae: 1.7456\n",
      "Epoch 84/100\n",
      "2/2 [==============================] - 0s 2ms/step - loss: 1.7052 - mae: 1.7052\n",
      "Epoch 85/100\n",
      "2/2 [==============================] - 0s 2ms/step - loss: 1.7629 - mae: 1.7629\n",
      "Epoch 86/100\n",
      "2/2 [==============================] - 0s 1ms/step - loss: 1.7428 - mae: 1.7428\n",
      "Epoch 87/100\n",
      "2/2 [==============================] - 0s 2ms/step - loss: 1.7172 - mae: 1.7172\n",
      "Epoch 88/100\n",
      "2/2 [==============================] - 0s 2ms/step - loss: 1.6738 - mae: 1.6738\n",
      "Epoch 89/100\n"
     ]
    },
    {
     "name": "stdout",
     "output_type": "stream",
     "text": [
      "2/2 [==============================] - 0s 1ms/step - loss: 1.7127 - mae: 1.7127\n",
      "Epoch 90/100\n",
      "2/2 [==============================] - 0s 1ms/step - loss: 1.7039 - mae: 1.7039\n",
      "Epoch 91/100\n",
      "2/2 [==============================] - 0s 1ms/step - loss: 1.6307 - mae: 1.6307\n",
      "Epoch 92/100\n",
      "2/2 [==============================] - 0s 2ms/step - loss: 1.5933 - mae: 1.5933\n",
      "Epoch 93/100\n",
      "2/2 [==============================] - 0s 1ms/step - loss: 1.6732 - mae: 1.6732\n",
      "Epoch 94/100\n",
      "2/2 [==============================] - 0s 2ms/step - loss: 1.6218 - mae: 1.6218\n",
      "Epoch 95/100\n",
      "2/2 [==============================] - 0s 1ms/step - loss: 1.6296 - mae: 1.6296\n",
      "Epoch 96/100\n",
      "2/2 [==============================] - 0s 2ms/step - loss: 1.6501 - mae: 1.6501\n",
      "Epoch 97/100\n",
      "2/2 [==============================] - 0s 2ms/step - loss: 1.6303 - mae: 1.6303\n",
      "Epoch 98/100\n",
      "2/2 [==============================] - 0s 1ms/step - loss: 1.5774 - mae: 1.5774\n",
      "Epoch 99/100\n",
      "2/2 [==============================] - 0s 1ms/step - loss: 1.5524 - mae: 1.5524\n",
      "Epoch 100/100\n",
      "2/2 [==============================] - 0s 1ms/step - loss: 1.5667 - mae: 1.5667\n"
     ]
    },
    {
     "data": {
      "text/plain": [
       "<tensorflow.python.keras.callbacks.History at 0x7eff6bfa3310>"
      ]
     },
     "execution_count": 29,
     "metadata": {},
     "output_type": "execute_result"
    }
   ],
   "source": [
    "# random seed\n",
    "tf.random.set_seed(1)\n",
    "\n",
    "# create model\n",
    "model = tf.keras.Sequential([\n",
    "    tf.keras.layers.Dense(100, activation=\"relu\"),\n",
    "    tf.keras.layers.Dense(1)\n",
    "])\n",
    "\n",
    "# compile model\n",
    "model.compile(loss=[\"mae\"], optimizer=\"sgd\", metrics=[\"mae\"])\n",
    "\n",
    "# fit the model\n",
    "model.fit(X, y, epochs=100)"
   ]
  },
  {
   "cell_type": "code",
   "execution_count": 30,
   "id": "4b1894fa",
   "metadata": {},
   "outputs": [
    {
     "data": {
      "text/plain": [
       "(<tf.Tensor: shape=(50,), dtype=float64, numpy=\n",
       " array([4.17022005e+00, 7.20324493e+00, 1.14374817e-03, 3.02332573e+00,\n",
       "        1.46755891e+00, 9.23385948e-01, 1.86260211e+00, 3.45560727e+00,\n",
       "        3.96767474e+00, 5.38816734e+00, 4.19194514e+00, 6.85219500e+00,\n",
       "        2.04452250e+00, 8.78117436e+00, 2.73875932e-01, 6.70467510e+00,\n",
       "        4.17304802e+00, 5.58689828e+00, 1.40386939e+00, 1.98101489e+00,\n",
       "        8.00744569e+00, 9.68261576e+00, 3.13424178e+00, 6.92322616e+00,\n",
       "        8.76389152e+00, 8.94606664e+00, 8.50442114e-01, 3.90547832e-01,\n",
       "        1.69830420e+00, 8.78142503e+00, 9.83468338e-01, 4.21107625e+00,\n",
       "        9.57889530e+00, 5.33165285e+00, 6.91877114e+00, 3.15515631e+00,\n",
       "        6.86500928e+00, 8.34625672e+00, 1.82882773e-01, 7.50144315e+00,\n",
       "        9.88861089e+00, 7.48165654e+00, 2.80443992e+00, 7.89279328e+00,\n",
       "        1.03226007e+00, 4.47893526e+00, 9.08595503e+00, 2.93614148e+00,\n",
       "        2.87775339e+00, 1.30028572e+00])>,\n",
       " <tf.Tensor: shape=(50,), dtype=float64, numpy=\n",
       " array([ 6.82348744, 15.76452916, -5.66781489,  4.05731258, -1.71463362,\n",
       "        -1.99542646,  2.24760852,  6.10886597,  6.71118867, 10.27687306,\n",
       "         6.82867714, 17.24903961,  1.18437525, 20.70652745, -3.98745672,\n",
       "        17.21428044,  7.63930302, 12.37789796, -0.48822152,  0.59079483,\n",
       "        17.87981886, 23.69850455,  4.19383111, 16.35630166, 22.13065798,\n",
       "        22.76930199, -2.16308633, -2.94321534, -0.65948535, 22.59714326,\n",
       "        -1.53666516,  7.33513592, 24.22520405, 10.91938684, 16.88794281,\n",
       "         5.98528575, 17.78060324, 18.64227382, -5.89546549, 16.99986359,\n",
       "        24.82586974, 18.32113855,  3.72895471, 16.65617864, -2.20942382,\n",
       "         9.26478043, 22.48795983,  4.57043563,  3.41093201, -1.29990091])>)"
      ]
     },
     "execution_count": 30,
     "metadata": {},
     "output_type": "execute_result"
    }
   ],
   "source": [
    "X, y"
   ]
  },
  {
   "cell_type": "code",
   "execution_count": 35,
   "id": "7246cdf5",
   "metadata": {},
   "outputs": [
    {
     "data": {
      "text/plain": [
       "array([ 8.5164757e+00,  1.6472843e+01, -6.7713028e-01,  5.5078912e+00,\n",
       "        1.4267336e+00, -7.6550245e-04,  2.4630289e+00,  6.6418719e+00,\n",
       "        7.9851499e+00,  1.1711450e+01,  8.5734663e+00,  1.5551954e+01,\n",
       "        2.9402509e+00,  2.0612139e+01, -6.7968333e-01,  1.5164973e+01,\n",
       "        8.5238943e+00,  1.2232771e+01,  1.2596605e+00,  2.7736545e+00,\n",
       "        1.8582458e+01,  2.2976843e+01,  5.7988515e+00,  1.5738287e+01,\n",
       "        2.0566801e+01,  2.1044693e+01, -1.9211498e-01, -6.7866004e-01,\n",
       "        2.0320349e+00,  2.0612799e+01,  1.5684545e-01,  8.6236515e+00,\n",
       "        2.2704760e+01,  1.1563198e+01,  1.5726601e+01,  5.8537154e+00,\n",
       "        1.5585569e+01,  1.9471241e+01, -6.7910641e-01,  1.7255091e+01,\n",
       "        2.3517216e+01,  1.7203184e+01,  4.9337006e+00,  1.8281698e+01,\n",
       "        2.8483808e-01,  9.3263111e+00,  2.1411654e+01,  5.2791858e+00,\n",
       "        5.1260190e+00,  9.8793495e-01], dtype=float32)"
      ]
     },
     "execution_count": 35,
     "metadata": {},
     "output_type": "execute_result"
    }
   ],
   "source": [
    "y_pred = model.predict(X)\n",
    "type(y_pred)\n",
    "y_pred.flatten()"
   ]
  },
  {
   "cell_type": "code",
   "execution_count": 53,
   "id": "d42efe71",
   "metadata": {
    "scrolled": false
   },
   "outputs": [
    {
     "data": {
      "text/plain": [
       "<matplotlib.legend.Legend at 0x7eff99ed9070>"
      ]
     },
     "execution_count": 53,
     "metadata": {},
     "output_type": "execute_result"
    },
    {
     "data": {
      "image/png": "[encoded data removed]",
      "text/plain": [
       "<Figure size 720x504 with 1 Axes>"
      ]
     },
     "metadata": {
      "needs_background": "light"
     },
     "output_type": "display_data"
    }
   ],
   "source": [
    "# plot the original points and the predicted point by the model\n",
    "plt.figure(figsize=(10, 7))\n",
    "#plt.scatter(X, y, c='b', label='Actual')\n",
    "plt.scatter(X[0:3].numpy(), y_pred.flatten()[0:3], c='r', label='Predicted')\n",
    "plt.legend()\n"
   ]
  },
  {
   "cell_type": "code",
   "execution_count": 50,
   "id": "c7354a46",
   "metadata": {},
   "outputs": [
    {
     "data": {
      "text/plain": [
       "(array([4.17022005e+00, 7.20324493e+00, 1.14374817e-03]),\n",
       " array([ 8.516476 , 16.472843 , -0.6771303], dtype=float32))"
      ]
     },
     "execution_count": 50,
     "metadata": {},
     "output_type": "execute_result"
    }
   ],
   "source": [
    "X[0:3].numpy(), y_pred.flatten()[0:3]"
   ]
  },
  {
   "cell_type": "code",
   "execution_count": 10,
   "id": "f7a13b38",
   "metadata": {},
   "outputs": [
    {
     "name": "stdout",
     "output_type": "stream",
     "text": [
      "Epoch 1/100\n",
      "2/2 [==============================] - 0s 1ms/step - loss: 10.5661 - mae: 10.5661\n",
      "Epoch 2/100\n",
      "2/2 [==============================] - 0s 2ms/step - loss: 9.5982 - mae: 9.5982\n",
      "Epoch 3/100\n",
      "2/2 [==============================] - 0s 1ms/step - loss: 8.9170 - mae: 8.9170\n",
      "Epoch 4/100\n",
      "2/2 [==============================] - 0s 3ms/step - loss: 8.0535 - mae: 8.0535\n",
      "Epoch 5/100\n",
      "2/2 [==============================] - 0s 1ms/step - loss: 7.6864 - mae: 7.6864\n",
      "Epoch 6/100\n",
      "2/2 [==============================] - 0s 1ms/step - loss: 6.7770 - mae: 6.7770\n",
      "Epoch 7/100\n",
      "2/2 [==============================] - 0s 2ms/step - loss: 5.9640 - mae: 5.9640\n",
      "Epoch 8/100\n",
      "2/2 [==============================] - 0s 4ms/step - loss: 4.9587 - mae: 4.9587\n",
      "Epoch 9/100\n",
      "2/2 [==============================] - 0s 1ms/step - loss: 4.1324 - mae: 4.1324\n",
      "Epoch 10/100\n",
      "2/2 [==============================] - 0s 2ms/step - loss: 3.4753 - mae: 3.4753\n",
      "Epoch 11/100\n",
      "2/2 [==============================] - 0s 2ms/step - loss: 3.0379 - mae: 3.0379\n",
      "Epoch 12/100\n",
      "2/2 [==============================] - 0s 1ms/step - loss: 2.6677 - mae: 2.6677\n",
      "Epoch 13/100\n",
      "2/2 [==============================] - 0s 2ms/step - loss: 2.5428 - mae: 2.5428\n",
      "Epoch 14/100\n",
      "2/2 [==============================] - 0s 1ms/step - loss: 2.6503 - mae: 2.6503\n",
      "Epoch 15/100\n",
      "2/2 [==============================] - 0s 2ms/step - loss: 2.4877 - mae: 2.4877\n",
      "Epoch 16/100\n",
      "2/2 [==============================] - 0s 1ms/step - loss: 2.5120 - mae: 2.5120\n",
      "Epoch 17/100\n",
      "2/2 [==============================] - 0s 3ms/step - loss: 2.5881 - mae: 2.5881\n",
      "Epoch 18/100\n",
      "2/2 [==============================] - 0s 1ms/step - loss: 2.5523 - mae: 2.5523\n",
      "Epoch 19/100\n",
      "2/2 [==============================] - 0s 1ms/step - loss: 2.4773 - mae: 2.4773\n",
      "Epoch 20/100\n",
      "2/2 [==============================] - 0s 3ms/step - loss: 2.4402 - mae: 2.4402\n",
      "Epoch 21/100\n",
      "2/2 [==============================] - 0s 2ms/step - loss: 2.4681 - mae: 2.4681\n",
      "Epoch 22/100\n",
      "2/2 [==============================] - 0s 2ms/step - loss: 2.4974 - mae: 2.4974\n",
      "Epoch 23/100\n",
      "2/2 [==============================] - 0s 2ms/step - loss: 2.4659 - mae: 2.4659\n",
      "Epoch 24/100\n",
      "2/2 [==============================] - 0s 1ms/step - loss: 2.4126 - mae: 2.4126\n",
      "Epoch 25/100\n",
      "2/2 [==============================] - 0s 2ms/step - loss: 2.4472 - mae: 2.4472\n",
      "Epoch 26/100\n",
      "2/2 [==============================] - 0s 2ms/step - loss: 2.3193 - mae: 2.3193\n",
      "Epoch 27/100\n",
      "2/2 [==============================] - 0s 2ms/step - loss: 2.3438 - mae: 2.3438\n",
      "Epoch 28/100\n",
      "2/2 [==============================] - 0s 1ms/step - loss: 2.4277 - mae: 2.4277\n",
      "Epoch 29/100\n",
      "2/2 [==============================] - 0s 1ms/step - loss: 2.4052 - mae: 2.4052\n",
      "Epoch 30/100\n",
      "2/2 [==============================] - 0s 2ms/step - loss: 2.2938 - mae: 2.2938\n",
      "Epoch 31/100\n",
      "2/2 [==============================] - 0s 2ms/step - loss: 2.3433 - mae: 2.3433\n",
      "Epoch 32/100\n",
      "2/2 [==============================] - 0s 1ms/step - loss: 2.3966 - mae: 2.3966\n",
      "Epoch 33/100\n",
      "2/2 [==============================] - 0s 1ms/step - loss: 2.3384 - mae: 2.3384\n",
      "Epoch 34/100\n",
      "2/2 [==============================] - 0s 2ms/step - loss: 2.2382 - mae: 2.2382\n",
      "Epoch 35/100\n",
      "2/2 [==============================] - 0s 2ms/step - loss: 2.2571 - mae: 2.2571\n",
      "Epoch 36/100\n",
      "2/2 [==============================] - 0s 2ms/step - loss: 2.3323 - mae: 2.3323\n",
      "Epoch 37/100\n",
      "2/2 [==============================] - 0s 1ms/step - loss: 2.2875 - mae: 2.2875\n",
      "Epoch 38/100\n",
      "2/2 [==============================] - 0s 2ms/step - loss: 2.2474 - mae: 2.2474\n",
      "Epoch 39/100\n",
      "2/2 [==============================] - 0s 2ms/step - loss: 2.2754 - mae: 2.2754\n",
      "Epoch 40/100\n",
      "2/2 [==============================] - 0s 1ms/step - loss: 2.2127 - mae: 2.2127\n",
      "Epoch 41/100\n",
      "2/2 [==============================] - 0s 1ms/step - loss: 2.3173 - mae: 2.3173\n",
      "Epoch 42/100\n",
      "2/2 [==============================] - 0s 2ms/step - loss: 2.2238 - mae: 2.2238\n",
      "Epoch 43/100\n",
      "2/2 [==============================] - 0s 2ms/step - loss: 2.1462 - mae: 2.1462\n",
      "Epoch 44/100\n",
      "2/2 [==============================] - 0s 1ms/step - loss: 2.1461 - mae: 2.1461\n",
      "Epoch 45/100\n",
      "2/2 [==============================] - 0s 2ms/step - loss: 2.2044 - mae: 2.2044\n",
      "Epoch 46/100\n",
      "2/2 [==============================] - 0s 3ms/step - loss: 2.1243 - mae: 2.1243\n",
      "Epoch 47/100\n",
      "2/2 [==============================] - 0s 2ms/step - loss: 2.1693 - mae: 2.1693\n",
      "Epoch 48/100\n",
      "2/2 [==============================] - 0s 2ms/step - loss: 2.1106 - mae: 2.1106\n",
      "Epoch 49/100\n",
      "2/2 [==============================] - 0s 3ms/step - loss: 2.1640 - mae: 2.1640\n",
      "Epoch 50/100\n",
      "2/2 [==============================] - 0s 2ms/step - loss: 2.1846 - mae: 2.1846\n",
      "Epoch 51/100\n",
      "2/2 [==============================] - 0s 3ms/step - loss: 2.1375 - mae: 2.1375\n",
      "Epoch 52/100\n",
      "2/2 [==============================] - 0s 2ms/step - loss: 2.1055 - mae: 2.1055\n",
      "Epoch 53/100\n",
      "2/2 [==============================] - 0s 2ms/step - loss: 2.0352 - mae: 2.0352\n",
      "Epoch 54/100\n",
      "2/2 [==============================] - 0s 2ms/step - loss: 2.0941 - mae: 2.0941\n",
      "Epoch 55/100\n",
      "2/2 [==============================] - 0s 2ms/step - loss: 2.1506 - mae: 2.1506\n",
      "Epoch 56/100\n",
      "2/2 [==============================] - 0s 3ms/step - loss: 2.1700 - mae: 2.1700\n",
      "Epoch 57/100\n",
      "2/2 [==============================] - 0s 1ms/step - loss: 2.0049 - mae: 2.0049\n",
      "Epoch 58/100\n",
      "2/2 [==============================] - 0s 2ms/step - loss: 2.0323 - mae: 2.0323\n",
      "Epoch 59/100\n",
      "2/2 [==============================] - 0s 2ms/step - loss: 1.9966 - mae: 1.9966\n",
      "Epoch 60/100\n",
      "2/2 [==============================] - 0s 1ms/step - loss: 2.0516 - mae: 2.0516\n",
      "Epoch 61/100\n",
      "2/2 [==============================] - 0s 2ms/step - loss: 2.0012 - mae: 2.0012\n",
      "Epoch 62/100\n",
      "2/2 [==============================] - 0s 3ms/step - loss: 2.0145 - mae: 2.0145\n",
      "Epoch 63/100\n",
      "2/2 [==============================] - 0s 2ms/step - loss: 1.9691 - mae: 1.9691\n",
      "Epoch 64/100\n",
      "2/2 [==============================] - 0s 3ms/step - loss: 1.9631 - mae: 1.9631\n",
      "Epoch 65/100\n",
      "2/2 [==============================] - 0s 1ms/step - loss: 1.9727 - mae: 1.9727\n",
      "Epoch 66/100\n",
      "2/2 [==============================] - 0s 1ms/step - loss: 1.9639 - mae: 1.9639\n",
      "Epoch 67/100\n",
      "2/2 [==============================] - 0s 2ms/step - loss: 1.9127 - mae: 1.9127\n",
      "Epoch 68/100\n",
      "2/2 [==============================] - 0s 1ms/step - loss: 1.9076 - mae: 1.9076\n",
      "Epoch 69/100\n",
      "2/2 [==============================] - 0s 2ms/step - loss: 1.9555 - mae: 1.9555\n",
      "Epoch 70/100\n",
      "2/2 [==============================] - 0s 1ms/step - loss: 1.8323 - mae: 1.8323\n",
      "Epoch 71/100\n",
      "2/2 [==============================] - 0s 2ms/step - loss: 1.8560 - mae: 1.8560\n",
      "Epoch 72/100\n",
      "2/2 [==============================] - 0s 2ms/step - loss: 1.7980 - mae: 1.7980\n",
      "Epoch 73/100\n",
      "2/2 [==============================] - 0s 2ms/step - loss: 1.8574 - mae: 1.8574\n",
      "Epoch 74/100\n",
      "2/2 [==============================] - 0s 1ms/step - loss: 1.8480 - mae: 1.8480\n",
      "Epoch 75/100\n",
      "2/2 [==============================] - 0s 2ms/step - loss: 1.8297 - mae: 1.8297\n",
      "Epoch 76/100\n",
      "2/2 [==============================] - 0s 1ms/step - loss: 1.7874 - mae: 1.7874\n",
      "Epoch 77/100\n",
      "2/2 [==============================] - 0s 1ms/step - loss: 1.7843 - mae: 1.7843\n",
      "Epoch 78/100\n",
      "2/2 [==============================] - 0s 2ms/step - loss: 1.8266 - mae: 1.8266\n",
      "Epoch 79/100\n",
      "2/2 [==============================] - 0s 2ms/step - loss: 1.7958 - mae: 1.7958\n",
      "Epoch 80/100\n",
      "2/2 [==============================] - 0s 2ms/step - loss: 1.7667 - mae: 1.7667\n",
      "Epoch 81/100\n",
      "2/2 [==============================] - 0s 3ms/step - loss: 1.8524 - mae: 1.8524\n",
      "Epoch 82/100\n",
      "2/2 [==============================] - 0s 2ms/step - loss: 1.7856 - mae: 1.7856\n",
      "Epoch 83/100\n",
      "2/2 [==============================] - 0s 1ms/step - loss: 1.7096 - mae: 1.7096\n",
      "Epoch 84/100\n",
      "2/2 [==============================] - 0s 2ms/step - loss: 1.6758 - mae: 1.6758\n",
      "Epoch 85/100\n",
      "2/2 [==============================] - 0s 1ms/step - loss: 1.7435 - mae: 1.7435\n",
      "Epoch 86/100\n",
      "2/2 [==============================] - 0s 1ms/step - loss: 1.7186 - mae: 1.7186\n",
      "Epoch 87/100\n",
      "2/2 [==============================] - 0s 1ms/step - loss: 1.6841 - mae: 1.6841\n",
      "Epoch 88/100\n",
      "2/2 [==============================] - 0s 1ms/step - loss: 1.6274 - mae: 1.6274\n",
      "Epoch 89/100\n"
     ]
    },
    {
     "name": "stdout",
     "output_type": "stream",
     "text": [
      "2/2 [==============================] - 0s 1ms/step - loss: 1.6892 - mae: 1.6892\n",
      "Epoch 90/100\n",
      "2/2 [==============================] - 0s 1ms/step - loss: 1.6790 - mae: 1.6790\n",
      "Epoch 91/100\n",
      "2/2 [==============================] - 0s 1ms/step - loss: 1.5984 - mae: 1.5984\n",
      "Epoch 92/100\n",
      "2/2 [==============================] - 0s 1ms/step - loss: 1.5615 - mae: 1.5615\n",
      "Epoch 93/100\n",
      "2/2 [==============================] - 0s 2ms/step - loss: 1.6472 - mae: 1.6472\n",
      "Epoch 94/100\n",
      "2/2 [==============================] - 0s 2ms/step - loss: 1.5925 - mae: 1.5925\n",
      "Epoch 95/100\n",
      "2/2 [==============================] - 0s 1ms/step - loss: 1.5964 - mae: 1.5964\n",
      "Epoch 96/100\n",
      "2/2 [==============================] - 0s 2ms/step - loss: 1.6264 - mae: 1.6264\n",
      "Epoch 97/100\n",
      "2/2 [==============================] - 0s 2ms/step - loss: 1.5967 - mae: 1.5967\n",
      "Epoch 98/100\n",
      "2/2 [==============================] - 0s 1ms/step - loss: 1.5419 - mae: 1.5419\n",
      "Epoch 99/100\n",
      "2/2 [==============================] - 0s 1ms/step - loss: 1.5213 - mae: 1.5213\n",
      "Epoch 100/100\n",
      "2/2 [==============================] - 0s 1ms/step - loss: 1.5302 - mae: 1.5302\n"
     ]
    },
    {
     "data": {
      "text/plain": [
       "<tensorflow.python.keras.callbacks.History at 0x7eff980753a0>"
      ]
     },
     "execution_count": 10,
     "metadata": {},
     "output_type": "execute_result"
    }
   ],
   "source": [
    "# to improve the model, add a dense layer with relu activation\n",
    "model = tf.keras.Sequential([\n",
    "    tf.keras.layers.Dense(100, activation=\"relu\"),\n",
    "    tf.keras.layers.Dense(1)\n",
    "])\n",
    "\n",
    "# compile model\n",
    "model.compile(loss=[\"mae\"], optimizer=\"sgd\", metrics=[\"mae\"])\n",
    "\n",
    "# fit the model\n",
    "model.fit(X, y, epochs=100)"
   ]
  },
  {
   "cell_type": "code",
   "execution_count": 17,
   "id": "1298fc60",
   "metadata": {},
   "outputs": [
    {
     "data": {
      "text/plain": [
       "(TensorShape([50]), (50, 1))"
      ]
     },
     "execution_count": 17,
     "metadata": {},
     "output_type": "execute_result"
    }
   ],
   "source": [
    "y_pred = model.predict(X)\n",
    "X.shape, y_pred.shape"
   ]
  },
  {
   "cell_type": "code",
   "execution_count": 12,
   "id": "60d0b1f9",
   "metadata": {},
   "outputs": [
    {
     "data": {
      "text/plain": [
       "<matplotlib.legend.Legend at 0x7eff6b765fd0>"
      ]
     },
     "execution_count": 12,
     "metadata": {},
     "output_type": "execute_result"
    },
    {
     "data": {
      "image/png": "[encoded data removed]",
      "text/plain": [
       "<Figure size 720x504 with 1 Axes>"
      ]
     },
     "metadata": {
      "needs_background": "light"
     },
     "output_type": "display_data"
    }
   ],
   "source": [
    "# plot the original points and the predicted point by the model\n",
    "plt.figure(figsize=(10, 7))\n",
    "plt.scatter(X, y, c='b', label='Actual')\n",
    "plt.plot(X, y_pred, c='r', label='Predicted')\n",
    "plt.legend()"
   ]
  },
  {
   "cell_type": "code",
   "execution_count": null,
   "id": "9db2e04f",
   "metadata": {},
   "outputs": [],
   "source": []
  }
 ],
 "metadata": {
  "kernelspec": {
   "display_name": "Python 3",
   "language": "python",
   "name": "python3"
  },
  "language_info": {
   "codemirror_mode": {
    "name": "ipython",
    "version": 3
   },
   "file_extension": ".py",
   "mimetype": "text/x-python",
   "name": "python",
   "nbconvert_exporter": "python",
   "pygments_lexer": "ipython3",
   "version": "3.9.2"
  }
 },
 "nbformat": 4,
 "nbformat_minor": 5
}
