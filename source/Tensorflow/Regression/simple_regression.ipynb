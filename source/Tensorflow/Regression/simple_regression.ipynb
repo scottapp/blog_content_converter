{
 "cells": [
  {
   "cell_type": "markdown",
   "id": "648152f7",
   "metadata": {},
   "source": [
    "## Simple Regression Model Using Tensorflow"
   ]
  },
  {
   "cell_type": "markdown",
   "id": "7ab67255",
   "metadata": {},
   "source": [
    "Load the necessary modules"
   ]
  },
  {
   "cell_type": "code",
   "execution_count": 1,
   "id": "b76adb66",
   "metadata": {},
   "outputs": [
    {
     "name": "stdout",
     "output_type": "stream",
     "text": [
      "2.4.1\n"
     ]
    }
   ],
   "source": [
    "import tensorflow as tf\n",
    "print(tf.__version__)\n",
    "import numpy as np\n",
    "import matplotlib.pyplot as plt"
   ]
  },
  {
   "cell_type": "code",
   "execution_count": 2,
   "id": "d5e4295d",
   "metadata": {},
   "outputs": [
    {
     "data": {
      "text/plain": [
       "<matplotlib.collections.PathCollection at 0x7f5c441aa4f0>"
      ]
     },
     "execution_count": 2,
     "metadata": {},
     "output_type": "execute_result"
    },
    {
     "data": {
      "image/png": "[encoded data removed]",
      "text/plain": [
       "<Figure size 432x288 with 1 Axes>"
      ]
     },
     "metadata": {
      "needs_background": "light"
     },
     "output_type": "display_data"
    }
   ],
   "source": [
    "# generate some randome numbers\n",
    "rng = np.random.RandomState(1)\n",
    "X = 10 * rng.rand(50)\n",
    "y = 3 * X - 5 + rng.randn(50)\n",
    "\n",
    "# convert to tensor\n",
    "X = tf.constant(X)\n",
    "y = tf.constant(y)\n",
    "\n",
    "plt.scatter(X, y)"
   ]
  },
  {
   "cell_type": "code",
   "execution_count": 3,
   "id": "67095116",
   "metadata": {},
   "outputs": [
    {
     "data": {
      "text/plain": [
       "(<tf.Tensor: shape=(50,), dtype=float64, numpy=\n",
       " array([4.17022005e+00, 7.20324493e+00, 1.14374817e-03, 3.02332573e+00,\n",
       "        1.46755891e+00, 9.23385948e-01, 1.86260211e+00, 3.45560727e+00,\n",
       "        3.96767474e+00, 5.38816734e+00, 4.19194514e+00, 6.85219500e+00,\n",
       "        2.04452250e+00, 8.78117436e+00, 2.73875932e-01, 6.70467510e+00,\n",
       "        4.17304802e+00, 5.58689828e+00, 1.40386939e+00, 1.98101489e+00,\n",
       "        8.00744569e+00, 9.68261576e+00, 3.13424178e+00, 6.92322616e+00,\n",
       "        8.76389152e+00, 8.94606664e+00, 8.50442114e-01, 3.90547832e-01,\n",
       "        1.69830420e+00, 8.78142503e+00, 9.83468338e-01, 4.21107625e+00,\n",
       "        9.57889530e+00, 5.33165285e+00, 6.91877114e+00, 3.15515631e+00,\n",
       "        6.86500928e+00, 8.34625672e+00, 1.82882773e-01, 7.50144315e+00,\n",
       "        9.88861089e+00, 7.48165654e+00, 2.80443992e+00, 7.89279328e+00,\n",
       "        1.03226007e+00, 4.47893526e+00, 9.08595503e+00, 2.93614148e+00,\n",
       "        2.87775339e+00, 1.30028572e+00])>,\n",
       " <tf.Tensor: shape=(50,), dtype=float64, numpy=\n",
       " array([ 6.82348744, 15.76452916, -5.66781489,  4.05731258, -1.71463362,\n",
       "        -1.99542646,  2.24760852,  6.10886597,  6.71118867, 10.27687306,\n",
       "         6.82867714, 17.24903961,  1.18437525, 20.70652745, -3.98745672,\n",
       "        17.21428044,  7.63930302, 12.37789796, -0.48822152,  0.59079483,\n",
       "        17.87981886, 23.69850455,  4.19383111, 16.35630166, 22.13065798,\n",
       "        22.76930199, -2.16308633, -2.94321534, -0.65948535, 22.59714326,\n",
       "        -1.53666516,  7.33513592, 24.22520405, 10.91938684, 16.88794281,\n",
       "         5.98528575, 17.78060324, 18.64227382, -5.89546549, 16.99986359,\n",
       "        24.82586974, 18.32113855,  3.72895471, 16.65617864, -2.20942382,\n",
       "         9.26478043, 22.48795983,  4.57043563,  3.41093201, -1.29990091])>)"
      ]
     },
     "execution_count": 3,
     "metadata": {},
     "output_type": "execute_result"
    }
   ],
   "source": [
    "X, y"
   ]
  },
  {
   "cell_type": "code",
   "execution_count": 4,
   "id": "24e7fd38",
   "metadata": {},
   "outputs": [
    {
     "data": {
      "text/plain": [
       "(<tf.Tensor: shape=(), dtype=float64, numpy=4.17022004702574>, TensorShape([]))"
      ]
     },
     "execution_count": 4,
     "metadata": {},
     "output_type": "execute_result"
    }
   ],
   "source": [
    "# shape of a single element from input, due to scalar type\n",
    "X[0], X[0].shape"
   ]
  },
  {
   "cell_type": "code",
   "execution_count": 5,
   "id": "2beee818",
   "metadata": {},
   "outputs": [
    {
     "data": {
      "text/plain": [
       "(<tf.Tensor: shape=(), dtype=float64, numpy=6.823487440957622>,\n",
       " TensorShape([]))"
      ]
     },
     "execution_count": 5,
     "metadata": {},
     "output_type": "execute_result"
    }
   ],
   "source": [
    "# shape of a single element from output, due to scalar type\n",
    "y[0], y[0].shape"
   ]
  },
  {
   "cell_type": "code",
   "execution_count": 6,
   "id": "e5c11bd6",
   "metadata": {},
   "outputs": [
    {
     "name": "stdout",
     "output_type": "stream",
     "text": [
      "Epoch 1/100\n",
      "2/2 [==============================] - 0s 2ms/step - loss: 15.3487 - mae: 15.3487\n",
      "Epoch 2/100\n",
      "2/2 [==============================] - 0s 3ms/step - loss: 14.5287 - mae: 14.5287\n",
      "Epoch 3/100\n",
      "2/2 [==============================] - 0s 2ms/step - loss: 14.2642 - mae: 14.2642\n",
      "Epoch 4/100\n",
      "2/2 [==============================] - 0s 4ms/step - loss: 13.6308 - mae: 13.6308\n",
      "Epoch 5/100\n",
      "2/2 [==============================] - 0s 3ms/step - loss: 13.8267 - mae: 13.8267\n",
      "Epoch 6/100\n",
      "2/2 [==============================] - 0s 3ms/step - loss: 13.2976 - mae: 13.2976\n",
      "Epoch 7/100\n",
      "2/2 [==============================] - 0s 3ms/step - loss: 13.0131 - mae: 13.0131\n",
      "Epoch 8/100\n",
      "2/2 [==============================] - 0s 3ms/step - loss: 12.3062 - mae: 12.3062\n",
      "Epoch 9/100\n",
      "2/2 [==============================] - 0s 4ms/step - loss: 12.2252 - mae: 12.2252\n",
      "Epoch 10/100\n",
      "2/2 [==============================] - 0s 3ms/step - loss: 11.9429 - mae: 11.9429\n",
      "Epoch 11/100\n",
      "2/2 [==============================] - 0s 5ms/step - loss: 11.2862 - mae: 11.2862\n",
      "Epoch 12/100\n",
      "2/2 [==============================] - 0s 6ms/step - loss: 11.0476 - mae: 11.0476\n",
      "Epoch 13/100\n",
      "2/2 [==============================] - 0s 3ms/step - loss: 11.4137 - mae: 11.4137\n",
      "Epoch 14/100\n",
      "2/2 [==============================] - 0s 4ms/step - loss: 9.9123 - mae: 9.9123\n",
      "Epoch 15/100\n",
      "2/2 [==============================] - 0s 5ms/step - loss: 10.0955 - mae: 10.0955\n",
      "Epoch 16/100\n",
      "2/2 [==============================] - 0s 4ms/step - loss: 9.7566 - mae: 9.7566\n",
      "Epoch 17/100\n",
      "2/2 [==============================] - 0s 3ms/step - loss: 9.0581 - mae: 9.0581\n",
      "Epoch 18/100\n",
      "2/2 [==============================] - 0s 5ms/step - loss: 8.7850 - mae: 8.7850\n",
      "Epoch 19/100\n",
      "2/2 [==============================] - 0s 3ms/step - loss: 8.3449 - mae: 8.3449\n",
      "Epoch 20/100\n",
      "2/2 [==============================] - 0s 4ms/step - loss: 8.1931 - mae: 8.1931\n",
      "Epoch 21/100\n",
      "2/2 [==============================] - 0s 4ms/step - loss: 7.7820 - mae: 7.7820\n",
      "Epoch 22/100\n",
      "2/2 [==============================] - 0s 3ms/step - loss: 7.2857 - mae: 7.2857\n",
      "Epoch 23/100\n",
      "2/2 [==============================] - 0s 5ms/step - loss: 7.1243 - mae: 7.1243\n",
      "Epoch 24/100\n",
      "2/2 [==============================] - 0s 4ms/step - loss: 6.9955 - mae: 6.9955\n",
      "Epoch 25/100\n",
      "2/2 [==============================] - 0s 5ms/step - loss: 6.8600 - mae: 6.8600\n",
      "Epoch 26/100\n",
      "2/2 [==============================] - 0s 3ms/step - loss: 6.2333 - mae: 6.2333\n",
      "Epoch 27/100\n",
      "2/2 [==============================] - 0s 6ms/step - loss: 5.7661 - mae: 5.7661\n",
      "Epoch 28/100\n",
      "2/2 [==============================] - 0s 6ms/step - loss: 5.4090 - mae: 5.4090\n",
      "Epoch 29/100\n",
      "2/2 [==============================] - 0s 4ms/step - loss: 5.1343 - mae: 5.1343\n",
      "Epoch 30/100\n",
      "2/2 [==============================] - 0s 4ms/step - loss: 5.0365 - mae: 5.0365\n",
      "Epoch 31/100\n",
      "2/2 [==============================] - 0s 5ms/step - loss: 4.8484 - mae: 4.8484\n",
      "Epoch 32/100\n",
      "2/2 [==============================] - 0s 3ms/step - loss: 4.4865 - mae: 4.4865\n",
      "Epoch 33/100\n",
      "2/2 [==============================] - 0s 5ms/step - loss: 3.9902 - mae: 3.9902\n",
      "Epoch 34/100\n",
      "2/2 [==============================] - 0s 3ms/step - loss: 4.0512 - mae: 4.0512\n",
      "Epoch 35/100\n",
      "2/2 [==============================] - 0s 3ms/step - loss: 3.6821 - mae: 3.6821\n",
      "Epoch 36/100\n",
      "2/2 [==============================] - 0s 3ms/step - loss: 3.6318 - mae: 3.6318\n",
      "Epoch 37/100\n",
      "2/2 [==============================] - 0s 3ms/step - loss: 3.3735 - mae: 3.3735\n",
      "Epoch 38/100\n",
      "2/2 [==============================] - 0s 4ms/step - loss: 3.3418 - mae: 3.3418\n",
      "Epoch 39/100\n",
      "2/2 [==============================] - 0s 3ms/step - loss: 3.2237 - mae: 3.2237\n",
      "Epoch 40/100\n",
      "2/2 [==============================] - 0s 4ms/step - loss: 3.2033 - mae: 3.2033\n",
      "Epoch 41/100\n",
      "2/2 [==============================] - 0s 5ms/step - loss: 3.0351 - mae: 3.0351\n",
      "Epoch 42/100\n",
      "2/2 [==============================] - 0s 3ms/step - loss: 2.9495 - mae: 2.9495\n",
      "Epoch 43/100\n",
      "2/2 [==============================] - 0s 6ms/step - loss: 2.8647 - mae: 2.8647\n",
      "Epoch 44/100\n",
      "2/2 [==============================] - 0s 3ms/step - loss: 2.8017 - mae: 2.8017\n",
      "Epoch 45/100\n",
      "2/2 [==============================] - 0s 3ms/step - loss: 2.8029 - mae: 2.8029\n",
      "Epoch 46/100\n",
      "2/2 [==============================] - 0s 6ms/step - loss: 2.6945 - mae: 2.6945\n",
      "Epoch 47/100\n",
      "2/2 [==============================] - 0s 3ms/step - loss: 2.7026 - mae: 2.7026\n",
      "Epoch 48/100\n",
      "2/2 [==============================] - 0s 3ms/step - loss: 2.6155 - mae: 2.6155\n",
      "Epoch 49/100\n",
      "2/2 [==============================] - 0s 3ms/step - loss: 2.6487 - mae: 2.6487\n",
      "Epoch 50/100\n",
      "2/2 [==============================] - 0s 3ms/step - loss: 2.6796 - mae: 2.6796\n",
      "Epoch 51/100\n",
      "2/2 [==============================] - 0s 5ms/step - loss: 2.6337 - mae: 2.6337\n",
      "Epoch 52/100\n",
      "2/2 [==============================] - 0s 3ms/step - loss: 2.6131 - mae: 2.6131\n",
      "Epoch 53/100\n",
      "2/2 [==============================] - 0s 4ms/step - loss: 2.5522 - mae: 2.5522\n",
      "Epoch 54/100\n",
      "2/2 [==============================] - 0s 5ms/step - loss: 2.6074 - mae: 2.6074\n",
      "Epoch 55/100\n",
      "2/2 [==============================] - 0s 2ms/step - loss: 2.6784 - mae: 2.6784\n",
      "Epoch 56/100\n",
      "2/2 [==============================] - 0s 6ms/step - loss: 2.6720 - mae: 2.6720\n",
      "Epoch 57/100\n",
      "2/2 [==============================] - 0s 4ms/step - loss: 2.5282 - mae: 2.5282\n",
      "Epoch 58/100\n",
      "2/2 [==============================] - 0s 3ms/step - loss: 2.5742 - mae: 2.5742\n",
      "Epoch 59/100\n",
      "2/2 [==============================] - 0s 6ms/step - loss: 2.5269 - mae: 2.5269\n",
      "Epoch 60/100\n",
      "2/2 [==============================] - 0s 3ms/step - loss: 2.6332 - mae: 2.6332\n",
      "Epoch 61/100\n",
      "2/2 [==============================] - 0s 5ms/step - loss: 2.5382 - mae: 2.5382\n",
      "Epoch 62/100\n",
      "2/2 [==============================] - 0s 2ms/step - loss: 2.5771 - mae: 2.5771\n",
      "Epoch 63/100\n",
      "2/2 [==============================] - 0s 4ms/step - loss: 2.5666 - mae: 2.5666\n",
      "Epoch 64/100\n",
      "2/2 [==============================] - 0s 2ms/step - loss: 2.5609 - mae: 2.5609\n",
      "Epoch 65/100\n",
      "2/2 [==============================] - 0s 3ms/step - loss: 2.5802 - mae: 2.5802\n",
      "Epoch 66/100\n",
      "2/2 [==============================] - 0s 2ms/step - loss: 2.5725 - mae: 2.5725\n",
      "Epoch 67/100\n",
      "2/2 [==============================] - 0s 4ms/step - loss: 2.5214 - mae: 2.5214\n",
      "Epoch 68/100\n",
      "2/2 [==============================] - 0s 2ms/step - loss: 2.5145 - mae: 2.5145\n",
      "Epoch 69/100\n",
      "2/2 [==============================] - 0s 3ms/step - loss: 2.5954 - mae: 2.5954\n",
      "Epoch 70/100\n",
      "2/2 [==============================] - 0s 3ms/step - loss: 2.4468 - mae: 2.4468\n",
      "Epoch 71/100\n",
      "2/2 [==============================] - 0s 4ms/step - loss: 2.4798 - mae: 2.4798\n",
      "Epoch 72/100\n",
      "2/2 [==============================] - 0s 2ms/step - loss: 2.4335 - mae: 2.4335\n",
      "Epoch 73/100\n",
      "2/2 [==============================] - 0s 4ms/step - loss: 2.4623 - mae: 2.4623\n",
      "Epoch 74/100\n",
      "2/2 [==============================] - 0s 3ms/step - loss: 2.5289 - mae: 2.5289\n",
      "Epoch 75/100\n",
      "2/2 [==============================] - 0s 3ms/step - loss: 2.4831 - mae: 2.4831\n",
      "Epoch 76/100\n",
      "2/2 [==============================] - 0s 3ms/step - loss: 2.4262 - mae: 2.4262\n",
      "Epoch 77/100\n",
      "2/2 [==============================] - 0s 3ms/step - loss: 2.4575 - mae: 2.4575\n",
      "Epoch 78/100\n",
      "2/2 [==============================] - 0s 3ms/step - loss: 2.5180 - mae: 2.5180\n",
      "Epoch 79/100\n",
      "2/2 [==============================] - 0s 3ms/step - loss: 2.4998 - mae: 2.4998\n",
      "Epoch 80/100\n",
      "2/2 [==============================] - 0s 2ms/step - loss: 2.5052 - mae: 2.5052\n",
      "Epoch 81/100\n",
      "2/2 [==============================] - 0s 3ms/step - loss: 2.6047 - mae: 2.6047\n",
      "Epoch 82/100\n",
      "2/2 [==============================] - 0s 2ms/step - loss: 2.5202 - mae: 2.5202\n",
      "Epoch 83/100\n",
      "2/2 [==============================] - 0s 3ms/step - loss: 2.4441 - mae: 2.4441\n",
      "Epoch 84/100\n",
      "2/2 [==============================] - 0s 8ms/step - loss: 2.4373 - mae: 2.4373\n",
      "Epoch 85/100\n",
      "2/2 [==============================] - 0s 3ms/step - loss: 2.4894 - mae: 2.4894\n",
      "Epoch 86/100\n",
      "2/2 [==============================] - 0s 2ms/step - loss: 2.5021 - mae: 2.5021\n",
      "Epoch 87/100\n",
      "2/2 [==============================] - 0s 3ms/step - loss: 2.4677 - mae: 2.4677\n",
      "Epoch 88/100\n"
     ]
    },
    {
     "name": "stdout",
     "output_type": "stream",
     "text": [
      "2/2 [==============================] - 0s 3ms/step - loss: 2.4226 - mae: 2.4226\n",
      "Epoch 89/100\n",
      "2/2 [==============================] - 0s 3ms/step - loss: 2.4568 - mae: 2.4568\n",
      "Epoch 90/100\n",
      "2/2 [==============================] - 0s 3ms/step - loss: 2.5417 - mae: 2.5417\n",
      "Epoch 91/100\n",
      "2/2 [==============================] - 0s 3ms/step - loss: 2.4022 - mae: 2.4022\n",
      "Epoch 92/100\n",
      "2/2 [==============================] - 0s 3ms/step - loss: 2.3578 - mae: 2.3578\n",
      "Epoch 93/100\n",
      "2/2 [==============================] - 0s 3ms/step - loss: 2.4798 - mae: 2.4798\n",
      "Epoch 94/100\n",
      "2/2 [==============================] - 0s 2ms/step - loss: 2.4629 - mae: 2.4629\n",
      "Epoch 95/100\n",
      "2/2 [==============================] - 0s 3ms/step - loss: 2.4573 - mae: 2.4573\n",
      "Epoch 96/100\n",
      "2/2 [==============================] - 0s 2ms/step - loss: 2.4546 - mae: 2.4546\n",
      "Epoch 97/100\n",
      "2/2 [==============================] - 0s 2ms/step - loss: 2.4619 - mae: 2.4619\n",
      "Epoch 98/100\n",
      "2/2 [==============================] - 0s 6ms/step - loss: 2.4414 - mae: 2.4414\n",
      "Epoch 99/100\n",
      "2/2 [==============================] - 0s 2ms/step - loss: 2.4107 - mae: 2.4107\n",
      "Epoch 100/100\n",
      "2/2 [==============================] - 0s 3ms/step - loss: 2.4485 - mae: 2.4485\n"
     ]
    },
    {
     "data": {
      "text/plain": [
       "<tensorflow.python.keras.callbacks.History at 0x7f5c3c7a8490>"
      ]
     },
     "execution_count": 6,
     "metadata": {},
     "output_type": "execute_result"
    }
   ],
   "source": [
    "# random seed\n",
    "tf.random.set_seed(1)\n",
    "\n",
    "# create model\n",
    "model = tf.keras.Sequential([\n",
    "    tf.keras.layers.Dense(1)\n",
    "])\n",
    "\n",
    "# compile model\n",
    "model.compile(loss=[\"mae\"], optimizer=\"sgd\", metrics=[\"mae\"])\n",
    "\n",
    "# fit the model\n",
    "model.fit(X, y, epochs=100)"
   ]
  },
  {
   "cell_type": "code",
   "execution_count": 7,
   "id": "4b1894fa",
   "metadata": {},
   "outputs": [
    {
     "data": {
      "text/plain": [
       "(<tf.Tensor: shape=(50,), dtype=float64, numpy=\n",
       " array([4.17022005e+00, 7.20324493e+00, 1.14374817e-03, 3.02332573e+00,\n",
       "        1.46755891e+00, 9.23385948e-01, 1.86260211e+00, 3.45560727e+00,\n",
       "        3.96767474e+00, 5.38816734e+00, 4.19194514e+00, 6.85219500e+00,\n",
       "        2.04452250e+00, 8.78117436e+00, 2.73875932e-01, 6.70467510e+00,\n",
       "        4.17304802e+00, 5.58689828e+00, 1.40386939e+00, 1.98101489e+00,\n",
       "        8.00744569e+00, 9.68261576e+00, 3.13424178e+00, 6.92322616e+00,\n",
       "        8.76389152e+00, 8.94606664e+00, 8.50442114e-01, 3.90547832e-01,\n",
       "        1.69830420e+00, 8.78142503e+00, 9.83468338e-01, 4.21107625e+00,\n",
       "        9.57889530e+00, 5.33165285e+00, 6.91877114e+00, 3.15515631e+00,\n",
       "        6.86500928e+00, 8.34625672e+00, 1.82882773e-01, 7.50144315e+00,\n",
       "        9.88861089e+00, 7.48165654e+00, 2.80443992e+00, 7.89279328e+00,\n",
       "        1.03226007e+00, 4.47893526e+00, 9.08595503e+00, 2.93614148e+00,\n",
       "        2.87775339e+00, 1.30028572e+00])>,\n",
       " <tf.Tensor: shape=(50,), dtype=float64, numpy=\n",
       " array([ 6.82348744, 15.76452916, -5.66781489,  4.05731258, -1.71463362,\n",
       "        -1.99542646,  2.24760852,  6.10886597,  6.71118867, 10.27687306,\n",
       "         6.82867714, 17.24903961,  1.18437525, 20.70652745, -3.98745672,\n",
       "        17.21428044,  7.63930302, 12.37789796, -0.48822152,  0.59079483,\n",
       "        17.87981886, 23.69850455,  4.19383111, 16.35630166, 22.13065798,\n",
       "        22.76930199, -2.16308633, -2.94321534, -0.65948535, 22.59714326,\n",
       "        -1.53666516,  7.33513592, 24.22520405, 10.91938684, 16.88794281,\n",
       "         5.98528575, 17.78060324, 18.64227382, -5.89546549, 16.99986359,\n",
       "        24.82586974, 18.32113855,  3.72895471, 16.65617864, -2.20942382,\n",
       "         9.26478043, 22.48795983,  4.57043563,  3.41093201, -1.29990091])>)"
      ]
     },
     "execution_count": 7,
     "metadata": {},
     "output_type": "execute_result"
    }
   ],
   "source": [
    "X, y"
   ]
  },
  {
   "cell_type": "code",
   "execution_count": 8,
   "id": "7246cdf5",
   "metadata": {},
   "outputs": [],
   "source": [
    "y_pred = model.predict(X)"
   ]
  },
  {
   "cell_type": "code",
   "execution_count": 9,
   "id": "d42efe71",
   "metadata": {
    "scrolled": false
   },
   "outputs": [
    {
     "data": {
      "text/plain": [
       "<matplotlib.legend.Legend at 0x7f5c3c029340>"
      ]
     },
     "execution_count": 9,
     "metadata": {},
     "output_type": "execute_result"
    },
    {
     "data": {
      "image/png": "[encoded data removed]",
      "text/plain": [
       "<Figure size 720x504 with 1 Axes>"
      ]
     },
     "metadata": {
      "needs_background": "light"
     },
     "output_type": "display_data"
    }
   ],
   "source": [
    "# plot the original points and the predicted point by the model\n",
    "plt.figure(figsize=(10, 7))\n",
    "plt.scatter(X, y, c='b', label='Actual')\n",
    "plt.scatter(X, y_pred, c='r', label='Predicted')\n",
    "plt.legend()"
   ]
  },
  {
   "cell_type": "markdown",
   "id": "a59872ac",
   "metadata": {},
   "source": [
    "Let's see if we can improve the above model a littl bit."
   ]
  },
  {
   "cell_type": "code",
   "execution_count": 10,
   "id": "f7a13b38",
   "metadata": {},
   "outputs": [
    {
     "name": "stdout",
     "output_type": "stream",
     "text": [
      "Epoch 1/100\n",
      "2/2 [==============================] - 0s 3ms/step - loss: 11.4839 - mae: 11.4839\n",
      "Epoch 2/100\n",
      "2/2 [==============================] - 0s 3ms/step - loss: 9.7649 - mae: 9.7649\n",
      "Epoch 3/100\n",
      "2/2 [==============================] - 0s 5ms/step - loss: 8.4448 - mae: 8.4448\n",
      "Epoch 4/100\n",
      "2/2 [==============================] - 0s 2ms/step - loss: 6.9295 - mae: 6.9295\n",
      "Epoch 5/100\n",
      "2/2 [==============================] - 0s 4ms/step - loss: 5.9344 - mae: 5.9344\n",
      "Epoch 6/100\n",
      "2/2 [==============================] - 0s 4ms/step - loss: 4.5299 - mae: 4.5299\n",
      "Epoch 7/100\n",
      "2/2 [==============================] - 0s 5ms/step - loss: 3.6187 - mae: 3.6187\n",
      "Epoch 8/100\n",
      "2/2 [==============================] - 0s 4ms/step - loss: 3.0934 - mae: 3.0934\n",
      "Epoch 9/100\n",
      "2/2 [==============================] - 0s 4ms/step - loss: 3.4237 - mae: 3.4237\n",
      "Epoch 10/100\n",
      "2/2 [==============================] - 0s 4ms/step - loss: 3.9313 - mae: 3.9313\n",
      "Epoch 11/100\n",
      "2/2 [==============================] - 0s 4ms/step - loss: 3.6029 - mae: 3.6029\n",
      "Epoch 12/100\n",
      "2/2 [==============================] - 0s 3ms/step - loss: 2.9697 - mae: 2.9697\n",
      "Epoch 13/100\n",
      "2/2 [==============================] - 0s 4ms/step - loss: 2.6958 - mae: 2.6958\n",
      "Epoch 14/100\n",
      "2/2 [==============================] - 0s 4ms/step - loss: 2.9141 - mae: 2.9141\n",
      "Epoch 15/100\n",
      "2/2 [==============================] - 0s 3ms/step - loss: 2.8326 - mae: 2.8326\n",
      "Epoch 16/100\n",
      "2/2 [==============================] - 0s 3ms/step - loss: 2.8952 - mae: 2.8952\n",
      "Epoch 17/100\n",
      "2/2 [==============================] - 0s 3ms/step - loss: 2.8400 - mae: 2.8400\n",
      "Epoch 18/100\n",
      "2/2 [==============================] - 0s 4ms/step - loss: 2.6202 - mae: 2.6202\n",
      "Epoch 19/100\n",
      "2/2 [==============================] - 0s 3ms/step - loss: 2.3834 - mae: 2.3834\n",
      "Epoch 20/100\n",
      "2/2 [==============================] - 0s 4ms/step - loss: 2.2899 - mae: 2.2899\n",
      "Epoch 21/100\n",
      "2/2 [==============================] - 0s 4ms/step - loss: 2.3071 - mae: 2.3071\n",
      "Epoch 22/100\n",
      "2/2 [==============================] - 0s 3ms/step - loss: 2.2661 - mae: 2.2661\n",
      "Epoch 23/100\n",
      "2/2 [==============================] - 0s 3ms/step - loss: 2.1442 - mae: 2.1442\n",
      "Epoch 24/100\n",
      "2/2 [==============================] - 0s 2ms/step - loss: 1.9634 - mae: 1.9634\n",
      "Epoch 25/100\n",
      "2/2 [==============================] - 0s 3ms/step - loss: 1.8947 - mae: 1.8947\n",
      "Epoch 26/100\n",
      "2/2 [==============================] - 0s 2ms/step - loss: 1.7364 - mae: 1.7364\n",
      "Epoch 27/100\n",
      "2/2 [==============================] - 0s 4ms/step - loss: 1.7403 - mae: 1.7403\n",
      "Epoch 28/100\n",
      "2/2 [==============================] - 0s 4ms/step - loss: 1.7039 - mae: 1.7039\n",
      "Epoch 29/100\n",
      "2/2 [==============================] - 0s 3ms/step - loss: 1.5501 - mae: 1.5501\n",
      "Epoch 30/100\n",
      "2/2 [==============================] - 0s 4ms/step - loss: 1.4067 - mae: 1.4067\n",
      "Epoch 31/100\n",
      "2/2 [==============================] - 0s 2ms/step - loss: 1.3571 - mae: 1.3571\n",
      "Epoch 32/100\n",
      "2/2 [==============================] - 0s 4ms/step - loss: 1.2874 - mae: 1.2874\n",
      "Epoch 33/100\n",
      "2/2 [==============================] - 0s 4ms/step - loss: 1.1657 - mae: 1.1657\n",
      "Epoch 34/100\n",
      "2/2 [==============================] - 0s 3ms/step - loss: 1.0300 - mae: 1.0300\n",
      "Epoch 35/100\n",
      "2/2 [==============================] - 0s 4ms/step - loss: 0.9493 - mae: 0.9493\n",
      "Epoch 36/100\n",
      "2/2 [==============================] - 0s 3ms/step - loss: 0.9071 - mae: 0.9071\n",
      "Epoch 37/100\n",
      "2/2 [==============================] - 0s 3ms/step - loss: 0.8117 - mae: 0.8117\n",
      "Epoch 38/100\n",
      "2/2 [==============================] - 0s 3ms/step - loss: 0.7410 - mae: 0.7410\n",
      "Epoch 39/100\n",
      "2/2 [==============================] - 0s 3ms/step - loss: 0.7628 - mae: 0.7628\n",
      "Epoch 40/100\n",
      "2/2 [==============================] - 0s 3ms/step - loss: 0.7429 - mae: 0.7429\n",
      "Epoch 41/100\n",
      "2/2 [==============================] - 0s 3ms/step - loss: 0.7568 - mae: 0.7568\n",
      "Epoch 42/100\n",
      "2/2 [==============================] - 0s 4ms/step - loss: 0.7657 - mae: 0.7657\n",
      "Epoch 43/100\n",
      "2/2 [==============================] - 0s 4ms/step - loss: 0.8058 - mae: 0.8058\n",
      "Epoch 44/100\n",
      "2/2 [==============================] - 0s 4ms/step - loss: 0.7994 - mae: 0.7994\n",
      "Epoch 45/100\n",
      "2/2 [==============================] - 0s 3ms/step - loss: 0.7606 - mae: 0.7606\n",
      "Epoch 46/100\n",
      "2/2 [==============================] - 0s 2ms/step - loss: 0.7907 - mae: 0.7907\n",
      "Epoch 47/100\n",
      "2/2 [==============================] - 0s 2ms/step - loss: 0.7669 - mae: 0.7669\n",
      "Epoch 48/100\n",
      "2/2 [==============================] - 0s 3ms/step - loss: 0.7345 - mae: 0.7345\n",
      "Epoch 49/100\n",
      "2/2 [==============================] - 0s 6ms/step - loss: 0.7375 - mae: 0.7375\n",
      "Epoch 50/100\n",
      "2/2 [==============================] - 0s 5ms/step - loss: 0.7105 - mae: 0.7105\n",
      "Epoch 51/100\n",
      "2/2 [==============================] - 0s 3ms/step - loss: 0.7535 - mae: 0.7535\n",
      "Epoch 52/100\n",
      "2/2 [==============================] - 0s 4ms/step - loss: 0.7849 - mae: 0.7849\n",
      "Epoch 53/100\n",
      "2/2 [==============================] - 0s 4ms/step - loss: 0.7648 - mae: 0.7648\n",
      "Epoch 54/100\n",
      "2/2 [==============================] - 0s 3ms/step - loss: 0.7691 - mae: 0.7691\n",
      "Epoch 55/100\n",
      "2/2 [==============================] - 0s 3ms/step - loss: 0.7258 - mae: 0.7258\n",
      "Epoch 56/100\n",
      "2/2 [==============================] - 0s 6ms/step - loss: 0.7487 - mae: 0.7487\n",
      "Epoch 57/100\n",
      "2/2 [==============================] - 0s 3ms/step - loss: 0.7574 - mae: 0.7574\n",
      "Epoch 58/100\n",
      "2/2 [==============================] - 0s 3ms/step - loss: 0.7072 - mae: 0.7072\n",
      "Epoch 59/100\n",
      "2/2 [==============================] - 0s 2ms/step - loss: 0.7071 - mae: 0.7071\n",
      "Epoch 60/100\n",
      "2/2 [==============================] - 0s 3ms/step - loss: 0.7392 - mae: 0.7392\n",
      "Epoch 61/100\n",
      "2/2 [==============================] - 0s 4ms/step - loss: 0.7231 - mae: 0.7231\n",
      "Epoch 62/100\n",
      "2/2 [==============================] - 0s 3ms/step - loss: 0.7174 - mae: 0.7174\n",
      "Epoch 63/100\n",
      "2/2 [==============================] - 0s 4ms/step - loss: 0.7108 - mae: 0.7108\n",
      "Epoch 64/100\n",
      "2/2 [==============================] - 0s 3ms/step - loss: 0.7319 - mae: 0.7319\n",
      "Epoch 65/100\n",
      "2/2 [==============================] - 0s 3ms/step - loss: 0.7310 - mae: 0.7310\n",
      "Epoch 66/100\n",
      "2/2 [==============================] - 0s 6ms/step - loss: 0.7617 - mae: 0.7617\n",
      "Epoch 67/100\n",
      "2/2 [==============================] - 0s 3ms/step - loss: 0.7949 - mae: 0.7949\n",
      "Epoch 68/100\n",
      "2/2 [==============================] - 0s 5ms/step - loss: 0.7366 - mae: 0.7366\n",
      "Epoch 69/100\n",
      "2/2 [==============================] - 0s 5ms/step - loss: 0.7454 - mae: 0.7454\n",
      "Epoch 70/100\n",
      "2/2 [==============================] - 0s 8ms/step - loss: 0.7552 - mae: 0.7552\n",
      "Epoch 71/100\n",
      "2/2 [==============================] - 0s 4ms/step - loss: 0.7578 - mae: 0.7578\n",
      "Epoch 72/100\n",
      "2/2 [==============================] - 0s 10ms/step - loss: 0.7669 - mae: 0.7669\n",
      "Epoch 73/100\n",
      "2/2 [==============================] - 0s 3ms/step - loss: 0.7461 - mae: 0.7461\n",
      "Epoch 74/100\n",
      "2/2 [==============================] - 0s 4ms/step - loss: 0.6847 - mae: 0.6847\n",
      "Epoch 75/100\n",
      "2/2 [==============================] - 0s 3ms/step - loss: 0.7389 - mae: 0.7389\n",
      "Epoch 76/100\n",
      "2/2 [==============================] - 0s 4ms/step - loss: 0.7877 - mae: 0.7877\n",
      "Epoch 77/100\n",
      "2/2 [==============================] - 0s 6ms/step - loss: 0.7175 - mae: 0.7175\n",
      "Epoch 78/100\n",
      "2/2 [==============================] - 0s 3ms/step - loss: 0.7843 - mae: 0.7843\n",
      "Epoch 79/100\n",
      "2/2 [==============================] - 0s 3ms/step - loss: 0.7938 - mae: 0.7938\n",
      "Epoch 80/100\n",
      "2/2 [==============================] - 0s 3ms/step - loss: 0.7177 - mae: 0.7177\n",
      "Epoch 81/100\n",
      "2/2 [==============================] - 0s 3ms/step - loss: 0.7978 - mae: 0.7978\n",
      "Epoch 82/100\n",
      "2/2 [==============================] - 0s 3ms/step - loss: 0.8101 - mae: 0.8101\n",
      "Epoch 83/100\n",
      "2/2 [==============================] - 0s 3ms/step - loss: 0.7365 - mae: 0.7365\n",
      "Epoch 84/100\n",
      "2/2 [==============================] - 0s 3ms/step - loss: 0.7735 - mae: 0.7735\n",
      "Epoch 85/100\n",
      "2/2 [==============================] - 0s 4ms/step - loss: 0.7657 - mae: 0.7657\n",
      "Epoch 86/100\n",
      "2/2 [==============================] - 0s 3ms/step - loss: 0.7146 - mae: 0.7146\n",
      "Epoch 87/100\n",
      "2/2 [==============================] - 0s 3ms/step - loss: 0.7571 - mae: 0.7571\n",
      "Epoch 88/100\n",
      "2/2 [==============================] - 0s 5ms/step - loss: 0.7883 - mae: 0.7883\n",
      "Epoch 89/100\n"
     ]
    },
    {
     "name": "stdout",
     "output_type": "stream",
     "text": [
      "2/2 [==============================] - 0s 3ms/step - loss: 0.7445 - mae: 0.7445\n",
      "Epoch 90/100\n",
      "2/2 [==============================] - 0s 4ms/step - loss: 0.7301 - mae: 0.7301\n",
      "Epoch 91/100\n",
      "2/2 [==============================] - 0s 5ms/step - loss: 0.7669 - mae: 0.7669\n",
      "Epoch 92/100\n",
      "2/2 [==============================] - 0s 4ms/step - loss: 0.7495 - mae: 0.7495\n",
      "Epoch 93/100\n",
      "2/2 [==============================] - 0s 3ms/step - loss: 0.7361 - mae: 0.7361\n",
      "Epoch 94/100\n",
      "2/2 [==============================] - 0s 5ms/step - loss: 0.7135 - mae: 0.7135\n",
      "Epoch 95/100\n",
      "2/2 [==============================] - 0s 3ms/step - loss: 0.7490 - mae: 0.7490\n",
      "Epoch 96/100\n",
      "2/2 [==============================] - 0s 5ms/step - loss: 0.7427 - mae: 0.7427\n",
      "Epoch 97/100\n",
      "2/2 [==============================] - 0s 3ms/step - loss: 0.7221 - mae: 0.7221\n",
      "Epoch 98/100\n",
      "2/2 [==============================] - 0s 3ms/step - loss: 0.7400 - mae: 0.7400\n",
      "Epoch 99/100\n",
      "2/2 [==============================] - 0s 5ms/step - loss: 0.7948 - mae: 0.7948\n",
      "Epoch 100/100\n",
      "2/2 [==============================] - 0s 2ms/step - loss: 0.7329 - mae: 0.7329\n"
     ]
    },
    {
     "data": {
      "text/plain": [
       "<tensorflow.python.keras.callbacks.History at 0x7f5c207e97f0>"
      ]
     },
     "execution_count": 10,
     "metadata": {},
     "output_type": "execute_result"
    }
   ],
   "source": [
    "# to improve the model, add a dense layer with relu activation\n",
    "model = tf.keras.Sequential([\n",
    "    tf.keras.layers.Dense(50, activation=None),\n",
    "    tf.keras.layers.Dense(1)\n",
    "])\n",
    "\n",
    "# compile model\n",
    "model.compile(loss=[\"mae\"], optimizer=tf.keras.optimizers.Adam(lr=0.01), metrics=[\"mae\"])\n",
    "\n",
    "# fit the model\n",
    "model.fit(X, y, epochs=100)"
   ]
  },
  {
   "cell_type": "code",
   "execution_count": 11,
   "id": "1298fc60",
   "metadata": {},
   "outputs": [],
   "source": [
    "y_pred = model.predict(X)"
   ]
  },
  {
   "cell_type": "code",
   "execution_count": 12,
   "id": "60d0b1f9",
   "metadata": {},
   "outputs": [
    {
     "data": {
      "text/plain": [
       "<matplotlib.legend.Legend at 0x7f5c2069e430>"
      ]
     },
     "execution_count": 12,
     "metadata": {},
     "output_type": "execute_result"
    },
    {
     "data": {
      "image/png": "[encoded data removed]",
      "text/plain": [
       "<Figure size 720x504 with 1 Axes>"
      ]
     },
     "metadata": {
      "needs_background": "light"
     },
     "output_type": "display_data"
    }
   ],
   "source": [
    "# plot the original points and the predicted point by the model\n",
    "plt.figure(figsize=(10, 7))\n",
    "plt.scatter(X, y, c='b', label='Actual')\n",
    "plt.scatter(X, y_pred, c='r', label='Predicted')\n",
    "plt.legend()"
   ]
  },
  {
   "cell_type": "markdown",
   "id": "c700de82",
   "metadata": {},
   "source": [
    "Now we can see that the slope of the predicted values is more in line with the actual values."
   ]
  }
 ],
 "metadata": {
  "kernelspec": {
   "display_name": "Python 3",
   "language": "python",
   "name": "python3"
  },
  "language_info": {
   "codemirror_mode": {
    "name": "ipython",
    "version": 3
   },
   "file_extension": ".py",
   "mimetype": "text/x-python",
   "name": "python",
   "nbconvert_exporter": "python",
   "pygments_lexer": "ipython3",
   "version": "3.9.2"
  }
 },
 "nbformat": 4,
 "nbformat_minor": 5
}
