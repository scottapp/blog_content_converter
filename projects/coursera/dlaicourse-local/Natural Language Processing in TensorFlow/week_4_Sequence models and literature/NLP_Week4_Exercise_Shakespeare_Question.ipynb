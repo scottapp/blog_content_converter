{
 "cells": [
  {
   "cell_type": "code",
   "execution_count": null,
   "metadata": {
    "id": "zX4Kg8DUTKWO"
   },
   "outputs": [],
   "source": [
    "#@title Licensed under the Apache License, Version 2.0 (the \"License\");\n",
    "# you may not use this file except in compliance with the License.\n",
    "# You may obtain a copy of the License at\n",
    "#\n",
    "# https://www.apache.org/licenses/LICENSE-2.0\n",
    "#\n",
    "# Unless required by applicable law or agreed to in writing, software\n",
    "# distributed under the License is distributed on an \"AS IS\" BASIS,\n",
    "# WITHOUT WARRANTIES OR CONDITIONS OF ANY KIND, either express or implied.\n",
    "# See the License for the specific language governing permissions and\n",
    "# limitations under the License."
   ]
  },
  {
   "cell_type": "code",
   "execution_count": 1,
   "metadata": {
    "id": "BOwsuGQQY9OL"
   },
   "outputs": [],
   "source": [
    "from tensorflow.keras.preprocessing.sequence import pad_sequences\n",
    "from tensorflow.keras.layers import Embedding, LSTM, Dense, Dropout, Bidirectional\n",
    "from tensorflow.keras.preprocessing.text import Tokenizer\n",
    "from tensorflow.keras.models import Sequential\n",
    "from tensorflow.keras.optimizers import Adam\n",
    "### YOUR CODE HERE\n",
    "# Figure out how to import regularizers\n",
    "from tensorflow.keras import regularizers\n",
    "###\n",
    "import tensorflow.keras.utils as ku \n",
    "import numpy as np "
   ]
  },
  {
   "cell_type": "code",
   "execution_count": 5,
   "metadata": {
    "id": "PRnDnCW-Z7qv"
   },
   "outputs": [],
   "source": [
    "tokenizer = Tokenizer()\n",
    "#!wget --no-check-certificate \\\n",
    "#    https://storage.googleapis.com/laurencemoroney-blog.appspot.com/sonnets.txt \\\n",
    "#    -O /tmp/sonnets.txt\n",
    "data = open('../../data/sonnets.txt', 'r', encoding='utf8').read()\n",
    "\n",
    "corpus = data.lower().split(\"\\n\")\n",
    "\n",
    "\n",
    "tokenizer.fit_on_texts(corpus)\n",
    "total_words = len(tokenizer.word_index) + 1\n",
    "\n",
    "# create input sequences using list of tokens\n",
    "input_sequences = []\n",
    "for line in corpus:\n",
    "\ttoken_list = tokenizer.texts_to_sequences([line])[0]\n",
    "\tfor i in range(1, len(token_list)):\n",
    "\t\tn_gram_sequence = token_list[:i+1]\n",
    "\t\tinput_sequences.append(n_gram_sequence)\n",
    "\n",
    "\n",
    "# pad sequences \n",
    "max_sequence_len = max([len(x) for x in input_sequences])\n",
    "input_sequences = np.array(pad_sequences(input_sequences, maxlen=max_sequence_len, padding='pre'))\n",
    "\n",
    "# create predictors and label\n",
    "predictors, label = input_sequences[:,:-1],input_sequences[:,-1]"
   ]
  },
  {
   "cell_type": "code",
   "execution_count": 8,
   "metadata": {},
   "outputs": [
    {
     "name": "stdout",
     "output_type": "stream",
     "text": [
      "(15462,)\n",
      "[417 877 166 213 517 878 134 351 102 156]\n"
     ]
    }
   ],
   "source": [
    "print(label.shape)\n",
    "print(label[0:10])"
   ]
  },
  {
   "cell_type": "code",
   "execution_count": null,
   "metadata": {},
   "outputs": [],
   "source": [
    "label = ku.to_categorical(label, num_classes=total_words)"
   ]
  },
  {
   "cell_type": "code",
   "execution_count": 3,
   "metadata": {},
   "outputs": [
    {
     "data": {
      "text/plain": [
       "(3211, 11)"
      ]
     },
     "execution_count": 3,
     "metadata": {},
     "output_type": "execute_result"
    }
   ],
   "source": [
    "total_words, max_sequence_len"
   ]
  },
  {
   "cell_type": "code",
   "execution_count": 4,
   "metadata": {},
   "outputs": [
    {
     "data": {
      "text/plain": [
       "(15462, 3211)"
      ]
     },
     "execution_count": 4,
     "metadata": {},
     "output_type": "execute_result"
    }
   ],
   "source": [
    "label.shape"
   ]
  },
  {
   "cell_type": "code",
   "execution_count": null,
   "metadata": {},
   "outputs": [],
   "source": [
    "#model = Sequential()\n",
    "#model.add(# Your Embedding Layer)\n",
    "#model.add(# An LSTM Layer)\n",
    "#model.add(# A dropout layer)\n",
    "#model.add(# Another LSTM Layer)\n",
    "#model.add(# A Dense Layer including regularizers)\n",
    "#model.add(# A Dense Layer)\n",
    "# Pick an optimizer\n",
    "#model.compile(# Pick a loss function and an optimizer)\n",
    "#print(model.summary())"
   ]
  },
  {
   "cell_type": "code",
   "execution_count": 10,
   "metadata": {
    "id": "w9vH8Y59ajYL"
   },
   "outputs": [
    {
     "name": "stdout",
     "output_type": "stream",
     "text": [
      "Model: \"sequential_6\"\n",
      "_________________________________________________________________\n",
      "Layer (type)                 Output Shape              Param #   \n",
      "=================================================================\n",
      "embedding_5 (Embedding)      (None, 10, 100)           321100    \n",
      "_________________________________________________________________\n",
      "bidirectional_3 (Bidirection (None, 10, 300)           301200    \n",
      "_________________________________________________________________\n",
      "dropout_5 (Dropout)          (None, 10, 300)           0         \n",
      "_________________________________________________________________\n",
      "lstm_11 (LSTM)               (None, 100)               160400    \n",
      "_________________________________________________________________\n",
      "dense_6 (Dense)              (None, 1605)              162105    \n",
      "_________________________________________________________________\n",
      "dense_7 (Dense)              (None, 3211)              5156866   \n",
      "=================================================================\n",
      "Total params: 6,101,671\n",
      "Trainable params: 6,101,671\n",
      "Non-trainable params: 0\n",
      "_________________________________________________________________\n",
      "None\n"
     ]
    }
   ],
   "source": [
    "model = Sequential()\n",
    "model.add(Embedding(total_words, 100, input_length=max_sequence_len-1))\n",
    "model.add(Bidirectional(LSTM(150, return_sequences=True)))\n",
    "model.add(Dropout(0.2))\n",
    "model.add(LSTM(100))\n",
    "model.add(Dense(total_words/2, activation='relu', kernel_regularizer=regularizers.l2(0.01)))\n",
    "model.add(Dense(total_words, activation='softmax'))\n",
    "# Pick an optimizer\n",
    "model.compile(loss='categorical_crossentropy', optimizer='adam', metrics=['accuracy'])\n",
    "print(model.summary())\n"
   ]
  },
  {
   "cell_type": "code",
   "execution_count": 11,
   "metadata": {
    "id": "AIg2f1HBxqof"
   },
   "outputs": [
    {
     "name": "stdout",
     "output_type": "stream",
     "text": [
      "Epoch 1/100\n",
      "484/484 [==============================] - 13s 12ms/step - loss: 7.3172 - accuracy: 0.0217\n",
      "Epoch 2/100\n",
      "484/484 [==============================] - 6s 11ms/step - loss: 6.4692 - accuracy: 0.0233\n",
      "Epoch 3/100\n",
      "484/484 [==============================] - 5s 11ms/step - loss: 6.3940 - accuracy: 0.0240\n",
      "Epoch 4/100\n",
      "484/484 [==============================] - 6s 12ms/step - loss: 6.2644 - accuracy: 0.0281\n",
      "Epoch 5/100\n",
      "484/484 [==============================] - 5s 11ms/step - loss: 6.1534 - accuracy: 0.0356\n",
      "Epoch 6/100\n",
      "484/484 [==============================] - 6s 11ms/step - loss: 6.0890 - accuracy: 0.0371\n",
      "Epoch 7/100\n",
      "484/484 [==============================] - 6s 11ms/step - loss: 6.0133 - accuracy: 0.0395\n",
      "Epoch 8/100\n",
      "484/484 [==============================] - 5s 11ms/step - loss: 5.9219 - accuracy: 0.0454\n",
      "Epoch 9/100\n",
      "484/484 [==============================] - 5s 11ms/step - loss: 5.8304 - accuracy: 0.0474\n",
      "Epoch 10/100\n",
      "484/484 [==============================] - 5s 11ms/step - loss: 5.7217 - accuracy: 0.0542\n",
      "Epoch 11/100\n",
      "484/484 [==============================] - 6s 11ms/step - loss: 5.6318 - accuracy: 0.0597\n",
      "Epoch 12/100\n",
      "484/484 [==============================] - 5s 11ms/step - loss: 5.5132 - accuracy: 0.0696\n",
      "Epoch 13/100\n",
      "484/484 [==============================] - 5s 11ms/step - loss: 5.4122 - accuracy: 0.0766\n",
      "Epoch 14/100\n",
      "484/484 [==============================] - 5s 11ms/step - loss: 5.2987 - accuracy: 0.0878\n",
      "Epoch 15/100\n",
      "484/484 [==============================] - 5s 11ms/step - loss: 5.1764 - accuracy: 0.0879\n",
      "Epoch 16/100\n",
      "484/484 [==============================] - 5s 11ms/step - loss: 5.1081 - accuracy: 0.0978\n",
      "Epoch 17/100\n",
      "484/484 [==============================] - 5s 11ms/step - loss: 4.9836 - accuracy: 0.1039\n",
      "Epoch 18/100\n",
      "484/484 [==============================] - 5s 11ms/step - loss: 4.9101 - accuracy: 0.1127\n",
      "Epoch 19/100\n",
      "484/484 [==============================] - 5s 11ms/step - loss: 4.7816 - accuracy: 0.1215\n",
      "Epoch 20/100\n",
      "484/484 [==============================] - 5s 11ms/step - loss: 4.7180 - accuracy: 0.1295\n",
      "Epoch 21/100\n",
      "484/484 [==============================] - 6s 11ms/step - loss: 4.5910 - accuracy: 0.1408\n",
      "Epoch 22/100\n",
      "484/484 [==============================] - 5s 11ms/step - loss: 4.5005 - accuracy: 0.1495\n",
      "Epoch 23/100\n",
      "484/484 [==============================] - 5s 11ms/step - loss: 4.3636 - accuracy: 0.1651\n",
      "Epoch 24/100\n",
      "484/484 [==============================] - 5s 11ms/step - loss: 4.2580 - accuracy: 0.1797\n",
      "Epoch 25/100\n",
      "484/484 [==============================] - 5s 11ms/step - loss: 4.1675 - accuracy: 0.1900\n",
      "Epoch 26/100\n",
      "484/484 [==============================] - 5s 11ms/step - loss: 4.0725 - accuracy: 0.2022\n",
      "Epoch 27/100\n",
      "484/484 [==============================] - 5s 11ms/step - loss: 3.9717 - accuracy: 0.2168\n",
      "Epoch 28/100\n",
      "484/484 [==============================] - 5s 11ms/step - loss: 3.8731 - accuracy: 0.2332\n",
      "Epoch 29/100\n",
      "484/484 [==============================] - 5s 11ms/step - loss: 3.7481 - accuracy: 0.2518\n",
      "Epoch 30/100\n",
      "484/484 [==============================] - 5s 11ms/step - loss: 3.6843 - accuracy: 0.2631\n",
      "Epoch 31/100\n",
      "484/484 [==============================] - 5s 11ms/step - loss: 3.5597 - accuracy: 0.2923\n",
      "Epoch 32/100\n",
      "484/484 [==============================] - 5s 11ms/step - loss: 3.4614 - accuracy: 0.3131\n",
      "Epoch 33/100\n",
      "484/484 [==============================] - 5s 11ms/step - loss: 3.3862 - accuracy: 0.3229\n",
      "Epoch 34/100\n",
      "484/484 [==============================] - 5s 11ms/step - loss: 3.3104 - accuracy: 0.3427\n",
      "Epoch 35/100\n",
      "484/484 [==============================] - 5s 11ms/step - loss: 3.2397 - accuracy: 0.3566\n",
      "Epoch 36/100\n",
      "484/484 [==============================] - 5s 11ms/step - loss: 3.1142 - accuracy: 0.3852\n",
      "Epoch 37/100\n",
      "484/484 [==============================] - 5s 11ms/step - loss: 3.0716 - accuracy: 0.4018\n",
      "Epoch 38/100\n",
      "484/484 [==============================] - 5s 11ms/step - loss: 3.0023 - accuracy: 0.4096\n",
      "Epoch 39/100\n",
      "484/484 [==============================] - 5s 11ms/step - loss: 2.9242 - accuracy: 0.4325\n",
      "Epoch 40/100\n",
      "484/484 [==============================] - 6s 11ms/step - loss: 2.8217 - accuracy: 0.4530\n",
      "Epoch 41/100\n",
      "484/484 [==============================] - 5s 11ms/step - loss: 2.7716 - accuracy: 0.4706\n",
      "Epoch 42/100\n",
      "484/484 [==============================] - 6s 11ms/step - loss: 2.7423 - accuracy: 0.4755\n",
      "Epoch 43/100\n",
      "484/484 [==============================] - 6s 12ms/step - loss: 2.6334 - accuracy: 0.5032\n",
      "Epoch 44/100\n",
      "484/484 [==============================] - 6s 11ms/step - loss: 2.5854 - accuracy: 0.5125\n",
      "Epoch 45/100\n",
      "484/484 [==============================] - 6s 11ms/step - loss: 2.5619 - accuracy: 0.5169\n",
      "Epoch 46/100\n",
      "484/484 [==============================] - 5s 11ms/step - loss: 2.5212 - accuracy: 0.5256\n",
      "Epoch 47/100\n",
      "484/484 [==============================] - 5s 11ms/step - loss: 2.4433 - accuracy: 0.5465\n",
      "Epoch 48/100\n",
      "484/484 [==============================] - 5s 11ms/step - loss: 2.3638 - accuracy: 0.5561\n",
      "Epoch 49/100\n",
      "484/484 [==============================] - 5s 11ms/step - loss: 2.2917 - accuracy: 0.5728\n",
      "Epoch 50/100\n",
      "484/484 [==============================] - 6s 11ms/step - loss: 2.2943 - accuracy: 0.5730\n",
      "Epoch 51/100\n",
      "484/484 [==============================] - 6s 11ms/step - loss: 2.1911 - accuracy: 0.5975\n",
      "Epoch 52/100\n",
      "484/484 [==============================] - 5s 11ms/step - loss: 2.1987 - accuracy: 0.6002\n",
      "Epoch 53/100\n",
      "484/484 [==============================] - 5s 11ms/step - loss: 2.1344 - accuracy: 0.6145\n",
      "Epoch 54/100\n",
      "484/484 [==============================] - 5s 11ms/step - loss: 2.0846 - accuracy: 0.6215\n",
      "Epoch 55/100\n",
      "484/484 [==============================] - 5s 11ms/step - loss: 2.0633 - accuracy: 0.6278\n",
      "Epoch 56/100\n",
      "484/484 [==============================] - 6s 11ms/step - loss: 2.0352 - accuracy: 0.6397\n",
      "Epoch 57/100\n",
      "484/484 [==============================] - 5s 11ms/step - loss: 1.9653 - accuracy: 0.6507\n",
      "Epoch 58/100\n",
      "484/484 [==============================] - 6s 11ms/step - loss: 1.9532 - accuracy: 0.6497\n",
      "Epoch 59/100\n",
      "484/484 [==============================] - 5s 11ms/step - loss: 1.8762 - accuracy: 0.6658\n",
      "Epoch 60/100\n",
      "484/484 [==============================] - 5s 11ms/step - loss: 1.8643 - accuracy: 0.6714\n",
      "Epoch 61/100\n",
      "484/484 [==============================] - 5s 11ms/step - loss: 1.8342 - accuracy: 0.6774\n",
      "Epoch 62/100\n",
      "484/484 [==============================] - 5s 11ms/step - loss: 1.8096 - accuracy: 0.6873\n",
      "Epoch 63/100\n",
      "484/484 [==============================] - 5s 11ms/step - loss: 1.7873 - accuracy: 0.6824\n",
      "Epoch 64/100\n",
      "484/484 [==============================] - 5s 11ms/step - loss: 1.7642 - accuracy: 0.6917\n",
      "Epoch 65/100\n",
      "484/484 [==============================] - 6s 11ms/step - loss: 1.7262 - accuracy: 0.6960\n",
      "Epoch 66/100\n",
      "484/484 [==============================] - 5s 11ms/step - loss: 1.6907 - accuracy: 0.7027\n",
      "Epoch 67/100\n",
      "484/484 [==============================] - 5s 11ms/step - loss: 1.6382 - accuracy: 0.7154\n",
      "Epoch 68/100\n",
      "484/484 [==============================] - 5s 11ms/step - loss: 1.6620 - accuracy: 0.7143\n",
      "Epoch 69/100\n",
      "484/484 [==============================] - 5s 11ms/step - loss: 1.6139 - accuracy: 0.7229\n",
      "Epoch 70/100\n",
      "484/484 [==============================] - 5s 11ms/step - loss: 1.5864 - accuracy: 0.7317\n",
      "Epoch 71/100\n",
      "484/484 [==============================] - 5s 11ms/step - loss: 1.5765 - accuracy: 0.7301\n",
      "Epoch 72/100\n",
      "484/484 [==============================] - 5s 11ms/step - loss: 1.5301 - accuracy: 0.7407\n",
      "Epoch 73/100\n",
      "484/484 [==============================] - 5s 11ms/step - loss: 1.5289 - accuracy: 0.7364\n",
      "Epoch 74/100\n",
      "484/484 [==============================] - 5s 11ms/step - loss: 1.5123 - accuracy: 0.7390\n",
      "Epoch 75/100\n",
      "484/484 [==============================] - 6s 11ms/step - loss: 1.4845 - accuracy: 0.7441\n",
      "Epoch 76/100\n",
      "484/484 [==============================] - 6s 11ms/step - loss: 1.4401 - accuracy: 0.7567\n",
      "Epoch 77/100\n",
      "484/484 [==============================] - 5s 11ms/step - loss: 1.4718 - accuracy: 0.7444\n",
      "Epoch 78/100\n",
      "484/484 [==============================] - 5s 11ms/step - loss: 1.4169 - accuracy: 0.7569\n",
      "Epoch 79/100\n",
      "484/484 [==============================] - 5s 11ms/step - loss: 1.3708 - accuracy: 0.7738\n",
      "Epoch 80/100\n",
      "484/484 [==============================] - 5s 11ms/step - loss: 1.3858 - accuracy: 0.7657\n",
      "Epoch 81/100\n",
      "484/484 [==============================] - 5s 11ms/step - loss: 1.3889 - accuracy: 0.7603\n",
      "Epoch 82/100\n",
      "484/484 [==============================] - 5s 11ms/step - loss: 1.4011 - accuracy: 0.7559\n",
      "Epoch 83/100\n",
      "484/484 [==============================] - 5s 11ms/step - loss: 1.3424 - accuracy: 0.7722\n",
      "Epoch 84/100\n",
      "484/484 [==============================] - 5s 11ms/step - loss: 1.3371 - accuracy: 0.7681\n",
      "Epoch 85/100\n",
      "484/484 [==============================] - 5s 11ms/step - loss: 1.3127 - accuracy: 0.7755\n",
      "Epoch 86/100\n",
      "484/484 [==============================] - 5s 11ms/step - loss: 1.2581 - accuracy: 0.7901\n",
      "Epoch 87/100\n",
      "484/484 [==============================] - 5s 11ms/step - loss: 1.2927 - accuracy: 0.7797\n",
      "Epoch 88/100\n",
      "484/484 [==============================] - 5s 11ms/step - loss: 1.3027 - accuracy: 0.7704\n",
      "Epoch 89/100\n",
      "484/484 [==============================] - 5s 11ms/step - loss: 1.2798 - accuracy: 0.7831\n",
      "Epoch 90/100\n",
      "484/484 [==============================] - 5s 10ms/step - loss: 1.2416 - accuracy: 0.7858\n",
      "Epoch 91/100\n",
      "484/484 [==============================] - 5s 11ms/step - loss: 1.2275 - accuracy: 0.7897\n",
      "Epoch 92/100\n",
      "484/484 [==============================] - 5s 11ms/step - loss: 1.2122 - accuracy: 0.7951\n",
      "Epoch 93/100\n",
      "484/484 [==============================] - 5s 11ms/step - loss: 1.2003 - accuracy: 0.7948\n",
      "Epoch 94/100\n",
      "484/484 [==============================] - 5s 11ms/step - loss: 1.2099 - accuracy: 0.7909\n",
      "Epoch 95/100\n",
      "484/484 [==============================] - 5s 11ms/step - loss: 1.1671 - accuracy: 0.8045\n",
      "Epoch 96/100\n",
      "484/484 [==============================] - 5s 11ms/step - loss: 1.1903 - accuracy: 0.7952\n",
      "Epoch 97/100\n",
      "484/484 [==============================] - 6s 11ms/step - loss: 1.1636 - accuracy: 0.8041\n",
      "Epoch 98/100\n",
      "484/484 [==============================] - 5s 11ms/step - loss: 1.1503 - accuracy: 0.8026\n",
      "Epoch 99/100\n",
      "484/484 [==============================] - 6s 11ms/step - loss: 1.1318 - accuracy: 0.8037\n",
      "Epoch 100/100\n",
      "484/484 [==============================] - 5s 11ms/step - loss: 1.1304 - accuracy: 0.8062\n"
     ]
    }
   ],
   "source": [
    " history = model.fit(predictors, label, epochs=100, verbose=1)"
   ]
  },
  {
   "cell_type": "code",
   "execution_count": 12,
   "metadata": {
    "id": "1fXTEO3GJ282"
   },
   "outputs": [
    {
     "data": {
      "image/png": "[encoded data removed]",
      "text/plain": [
       "<Figure size 432x288 with 1 Axes>"
      ]
     },
     "metadata": {
      "needs_background": "light"
     },
     "output_type": "display_data"
    },
    {
     "data": {
      "image/png": "[encoded data removed]",
      "text/plain": [
       "<Figure size 432x288 with 1 Axes>"
      ]
     },
     "metadata": {
      "needs_background": "light"
     },
     "output_type": "display_data"
    }
   ],
   "source": [
    "import matplotlib.pyplot as plt\n",
    "acc = history.history['accuracy']\n",
    "loss = history.history['loss']\n",
    "\n",
    "epochs = range(len(acc))\n",
    "\n",
    "plt.plot(epochs, acc, 'b', label='Training accuracy')\n",
    "plt.title('Training accuracy')\n",
    "\n",
    "plt.figure()\n",
    "\n",
    "plt.plot(epochs, loss, 'b', label='Training Loss')\n",
    "plt.title('Training loss')\n",
    "plt.legend()\n",
    "\n",
    "plt.show()"
   ]
  },
  {
   "cell_type": "code",
   "execution_count": 22,
   "metadata": {
    "id": "6Vc6PHgxa6Hm"
   },
   "outputs": [
    {
     "name": "stdout",
     "output_type": "stream",
     "text": [
      "[591, 18, 5, 352, 393]\n",
      "Help me Obi Wan Kenobi, you're my only hope of\n"
     ]
    }
   ],
   "source": [
    "seed_text = \"Help me Obi Wan Kenobi, you're my only hope\"\n",
    "next_words = 100\n",
    "  \n",
    "for _ in range(next_words):\n",
    "    token_list = tokenizer.texts_to_sequences([seed_text])[0]\n",
    "    print(token_list)\n",
    "    token_list = pad_sequences([token_list], maxlen=max_sequence_len-1, padding='pre')\n",
    "    predicted = model.predict_classes(token_list, verbose=0)\n",
    "    output_word = \"\"\n",
    "    for word, index in tokenizer.word_index.items():\n",
    "        if index == predicted:\n",
    "            output_word = word\n",
    "            break\n",
    "    seed_text += \" \" + output_word\n",
    "    break\n",
    "    \n",
    "print(seed_text)"
   ]
  },
  {
   "cell_type": "code",
   "execution_count": null,
   "metadata": {},
   "outputs": [],
   "source": []
  }
 ],
 "metadata": {
  "accelerator": "GPU",
  "colab": {
   "name": "NLP_Week4_Exercise_Shakespeare_Question.ipynb",
   "provenance": [],
   "toc_visible": true
  },
  "kernelspec": {
   "display_name": "Python 3",
   "language": "python",
   "name": "python3"
  },
  "language_info": {
   "codemirror_mode": {
    "name": "ipython",
    "version": 3
   },
   "file_extension": ".py",
   "mimetype": "text/x-python",
   "name": "python",
   "nbconvert_exporter": "python",
   "pygments_lexer": "ipython3",
   "version": "3.8.0"
  }
 },
 "nbformat": 4,
 "nbformat_minor": 1
}
