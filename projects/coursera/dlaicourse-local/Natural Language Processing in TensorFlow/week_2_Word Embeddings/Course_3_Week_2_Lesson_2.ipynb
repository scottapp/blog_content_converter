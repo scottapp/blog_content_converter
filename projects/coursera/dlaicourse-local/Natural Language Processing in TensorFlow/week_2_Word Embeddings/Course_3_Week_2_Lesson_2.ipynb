{
 "cells": [
  {
   "cell_type": "code",
   "execution_count": null,
   "metadata": {
    "id": "zX4Kg8DUTKWO"
   },
   "outputs": [],
   "source": [
    "#@title Licensed under the Apache License, Version 2.0 (the \"License\");\n",
    "# you may not use this file except in compliance with the License.\n",
    "# You may obtain a copy of the License at\n",
    "#\n",
    "# https://www.apache.org/licenses/LICENSE-2.0\n",
    "#\n",
    "# Unless required by applicable law or agreed to in writing, software\n",
    "# distributed under the License is distributed on an \"AS IS\" BASIS,\n",
    "# WITHOUT WARRANTIES OR CONDITIONS OF ANY KIND, either express or implied.\n",
    "# See the License for the specific language governing permissions and\n",
    "# limitations under the License."
   ]
  },
  {
   "cell_type": "markdown",
   "metadata": {
    "id": "view-in-github"
   },
   "source": [
    "<a href=\"https://colab.research.google.com/github/lmoroney/dlaicourse/blob/master/TensorFlow%20In%20Practice/Course%203%20-%20NLP/Course%203%20-%20Week%202%20-%20Lesson%202.ipynb\" target=\"_parent\"><img src=\"https://colab.research.google.com/assets/colab-badge.svg\" alt=\"Open In Colab\"/></a>"
   ]
  },
  {
   "cell_type": "code",
   "execution_count": 1,
   "metadata": {
    "id": "4gs9htvM7n_x"
   },
   "outputs": [],
   "source": [
    "# Run this to ensure TensorFlow 2.x is used\n",
    "try:\n",
    "  # %tensorflow_version only exists in Colab.\n",
    "  %tensorflow_version 2.x\n",
    "except Exception:\n",
    "  pass"
   ]
  },
  {
   "cell_type": "code",
   "execution_count": 2,
   "metadata": {
    "id": "XYYDvoskkE61"
   },
   "outputs": [],
   "source": [
    "import json\n",
    "import tensorflow as tf\n",
    "\n",
    "from tensorflow.keras.preprocessing.text import Tokenizer\n",
    "from tensorflow.keras.preprocessing.sequence import pad_sequences"
   ]
  },
  {
   "cell_type": "code",
   "execution_count": 3,
   "metadata": {
    "id": "0eJSTTYnkJQd"
   },
   "outputs": [],
   "source": [
    "vocab_size = 10000\n",
    "embedding_dim = 16\n",
    "max_length = 100\n",
    "trunc_type='post'\n",
    "padding_type='post'\n",
    "oov_tok = \"<OOV>\"\n",
    "training_size = 20000\n"
   ]
  },
  {
   "cell_type": "code",
   "execution_count": 4,
   "metadata": {
    "colab": {
     "base_uri": "https://localhost:8080/"
    },
    "id": "BQVuQrZNkPn9",
    "outputId": "53458f7b-795f-484e-dda0-f8e7b1b25e0e"
   },
   "outputs": [
    {
     "name": "stdout",
     "output_type": "stream",
     "text": [
      "--2021-06-02 03:25:48--  https://storage.googleapis.com/laurencemoroney-blog.appspot.com/sarcasm.json\n",
      "Resolving storage.googleapis.com (storage.googleapis.com)... 172.217.2.112, 172.217.164.144, 172.253.62.128, ...\n",
      "Connecting to storage.googleapis.com (storage.googleapis.com)|172.217.2.112|:443... connected.\n",
      "HTTP request sent, awaiting response... 200 OK\n",
      "Length: 5643545 (5.4M) [application/json]\n",
      "Saving to: ‘/tmp/sarcasm.json’\n",
      "\n",
      "\r",
      "/tmp/sarcasm.json     0%[                    ]       0  --.-KB/s               \r",
      "/tmp/sarcasm.json   100%[===================>]   5.38M  --.-KB/s    in 0.02s   \n",
      "\n",
      "2021-06-02 03:25:48 (230 MB/s) - ‘/tmp/sarcasm.json’ saved [5643545/5643545]\n",
      "\n"
     ]
    }
   ],
   "source": [
    "!wget --no-check-certificate \\\n",
    "    https://storage.googleapis.com/laurencemoroney-blog.appspot.com/sarcasm.json \\\n",
    "    -O /tmp/sarcasm.json\n"
   ]
  },
  {
   "cell_type": "code",
   "execution_count": 5,
   "metadata": {
    "id": "oaLaaqhNkUPd"
   },
   "outputs": [],
   "source": [
    "with open(\"/tmp/sarcasm.json\", 'r') as f:\n",
    "    datastore = json.load(f)\n",
    "\n",
    "sentences = []\n",
    "labels = []\n",
    "\n",
    "for item in datastore:\n",
    "    sentences.append(item['headline'])\n",
    "    labels.append(item['is_sarcastic'])"
   ]
  },
  {
   "cell_type": "code",
   "execution_count": 6,
   "metadata": {
    "id": "S1sD-7v0kYWk"
   },
   "outputs": [],
   "source": [
    "training_sentences = sentences[0:training_size]\n",
    "testing_sentences = sentences[training_size:]\n",
    "training_labels = labels[0:training_size]\n",
    "testing_labels = labels[training_size:]"
   ]
  },
  {
   "cell_type": "code",
   "execution_count": 7,
   "metadata": {
    "id": "3u8UB0MCkZ5N"
   },
   "outputs": [],
   "source": [
    "tokenizer = Tokenizer(num_words=vocab_size, oov_token=oov_tok)\n",
    "tokenizer.fit_on_texts(training_sentences)\n",
    "\n",
    "word_index = tokenizer.word_index\n",
    "\n",
    "training_sequences = tokenizer.texts_to_sequences(training_sentences)\n",
    "training_padded = pad_sequences(training_sequences, maxlen=max_length, padding=padding_type, truncating=trunc_type)\n",
    "\n",
    "testing_sequences = tokenizer.texts_to_sequences(testing_sentences)\n",
    "testing_padded = pad_sequences(testing_sequences, maxlen=max_length, padding=padding_type, truncating=trunc_type)"
   ]
  },
  {
   "cell_type": "code",
   "execution_count": 11,
   "metadata": {
    "colab": {
     "base_uri": "https://localhost:8080/"
    },
    "id": "zEYXOUQ8xNe0",
    "outputId": "9d0bf100-6579-4b9a-bf9b-95188a915f84"
   },
   "outputs": [
    {
     "data": {
      "text/plain": [
       "numpy.ndarray"
      ]
     },
     "execution_count": 11,
     "metadata": {
      "tags": []
     },
     "output_type": "execute_result"
    }
   ],
   "source": [
    "type(training_padded)"
   ]
  },
  {
   "cell_type": "code",
   "execution_count": 12,
   "metadata": {
    "id": "GrAlWBKf99Ya"
   },
   "outputs": [],
   "source": [
    "# Need this block to get it to work with TensorFlow 2.x\n",
    "import numpy as np\n",
    "training_padded = np.array(training_padded)\n",
    "training_labels = np.array(training_labels)\n",
    "testing_padded = np.array(testing_padded)\n",
    "testing_labels = np.array(testing_labels)"
   ]
  },
  {
   "cell_type": "code",
   "execution_count": 14,
   "metadata": {
    "id": "FufaT4vlkiDE"
   },
   "outputs": [],
   "source": [
    "model = tf.keras.Sequential([\n",
    "    tf.keras.layers.Embedding(vocab_size, embedding_dim, input_length=max_length),\n",
    "    tf.keras.layers.GlobalAveragePooling1D(),\n",
    "    tf.keras.layers.Dense(24, activation='relu'),\n",
    "    tf.keras.layers.Dense(1, activation='sigmoid')\n",
    "])\n",
    "model.compile(loss='binary_crossentropy',optimizer='adam',metrics=['accuracy'])"
   ]
  },
  {
   "cell_type": "code",
   "execution_count": 15,
   "metadata": {
    "colab": {
     "base_uri": "https://localhost:8080/"
    },
    "id": "XfDt1hmYkiys",
    "outputId": "f9aee95f-4b78-46e2-d958-8fc1771bbc86"
   },
   "outputs": [
    {
     "name": "stdout",
     "output_type": "stream",
     "text": [
      "Model: \"sequential\"\n",
      "_________________________________________________________________\n",
      "Layer (type)                 Output Shape              Param #   \n",
      "=================================================================\n",
      "embedding (Embedding)        (None, 100, 16)           160000    \n",
      "_________________________________________________________________\n",
      "global_average_pooling1d (Gl (None, 16)                0         \n",
      "_________________________________________________________________\n",
      "dense (Dense)                (None, 24)                408       \n",
      "_________________________________________________________________\n",
      "dense_1 (Dense)              (None, 1)                 25        \n",
      "=================================================================\n",
      "Total params: 160,433\n",
      "Trainable params: 160,433\n",
      "Non-trainable params: 0\n",
      "_________________________________________________________________\n"
     ]
    }
   ],
   "source": [
    "model.summary()\n"
   ]
  },
  {
   "cell_type": "code",
   "execution_count": 16,
   "metadata": {
    "colab": {
     "base_uri": "https://localhost:8080/"
    },
    "id": "2DTKQFf1kkyc",
    "outputId": "1181c93c-e11f-4bb4-f885-71fac01c9cf0"
   },
   "outputs": [
    {
     "name": "stdout",
     "output_type": "stream",
     "text": [
      "Epoch 1/30\n",
      "625/625 - 5s - loss: 0.6680 - accuracy: 0.5809 - val_loss: 0.5844 - val_accuracy: 0.8013\n",
      "Epoch 2/30\n",
      "625/625 - 2s - loss: 0.4250 - accuracy: 0.8349 - val_loss: 0.3803 - val_accuracy: 0.8398\n",
      "Epoch 3/30\n",
      "625/625 - 2s - loss: 0.3054 - accuracy: 0.8794 - val_loss: 0.3542 - val_accuracy: 0.8480\n",
      "Epoch 4/30\n",
      "625/625 - 2s - loss: 0.2549 - accuracy: 0.9009 - val_loss: 0.3430 - val_accuracy: 0.8547\n",
      "Epoch 5/30\n",
      "625/625 - 2s - loss: 0.2197 - accuracy: 0.9161 - val_loss: 0.3499 - val_accuracy: 0.8504\n",
      "Epoch 6/30\n",
      "625/625 - 2s - loss: 0.1921 - accuracy: 0.9270 - val_loss: 0.3664 - val_accuracy: 0.8480\n",
      "Epoch 7/30\n",
      "625/625 - 2s - loss: 0.1709 - accuracy: 0.9354 - val_loss: 0.3709 - val_accuracy: 0.8532\n",
      "Epoch 8/30\n",
      "625/625 - 2s - loss: 0.1523 - accuracy: 0.9434 - val_loss: 0.3935 - val_accuracy: 0.8484\n",
      "Epoch 9/30\n",
      "625/625 - 2s - loss: 0.1381 - accuracy: 0.9504 - val_loss: 0.4030 - val_accuracy: 0.8504\n",
      "Epoch 10/30\n",
      "625/625 - 2s - loss: 0.1238 - accuracy: 0.9564 - val_loss: 0.4526 - val_accuracy: 0.8360\n",
      "Epoch 11/30\n",
      "625/625 - 2s - loss: 0.1123 - accuracy: 0.9610 - val_loss: 0.4472 - val_accuracy: 0.8474\n",
      "Epoch 12/30\n",
      "625/625 - 2s - loss: 0.1012 - accuracy: 0.9661 - val_loss: 0.4866 - val_accuracy: 0.8396\n",
      "Epoch 13/30\n",
      "625/625 - 2s - loss: 0.0935 - accuracy: 0.9686 - val_loss: 0.5008 - val_accuracy: 0.8441\n",
      "Epoch 14/30\n",
      "625/625 - 2s - loss: 0.0859 - accuracy: 0.9709 - val_loss: 0.5313 - val_accuracy: 0.8405\n",
      "Epoch 15/30\n",
      "625/625 - 2s - loss: 0.0763 - accuracy: 0.9744 - val_loss: 0.5610 - val_accuracy: 0.8383\n",
      "Epoch 16/30\n",
      "625/625 - 2s - loss: 0.0710 - accuracy: 0.9773 - val_loss: 0.6061 - val_accuracy: 0.8298\n",
      "Epoch 17/30\n",
      "625/625 - 2s - loss: 0.0654 - accuracy: 0.9791 - val_loss: 0.6270 - val_accuracy: 0.8323\n",
      "Epoch 18/30\n",
      "625/625 - 2s - loss: 0.0601 - accuracy: 0.9812 - val_loss: 0.6977 - val_accuracy: 0.8267\n",
      "Epoch 19/30\n",
      "625/625 - 2s - loss: 0.0545 - accuracy: 0.9823 - val_loss: 0.7016 - val_accuracy: 0.8298\n",
      "Epoch 20/30\n",
      "625/625 - 2s - loss: 0.0499 - accuracy: 0.9851 - val_loss: 0.7358 - val_accuracy: 0.8264\n",
      "Epoch 21/30\n",
      "625/625 - 2s - loss: 0.0458 - accuracy: 0.9865 - val_loss: 0.7761 - val_accuracy: 0.8238\n",
      "Epoch 22/30\n",
      "625/625 - 2s - loss: 0.0420 - accuracy: 0.9863 - val_loss: 0.8585 - val_accuracy: 0.8193\n",
      "Epoch 23/30\n",
      "625/625 - 2s - loss: 0.0404 - accuracy: 0.9876 - val_loss: 0.8723 - val_accuracy: 0.8204\n",
      "Epoch 24/30\n",
      "625/625 - 2s - loss: 0.0348 - accuracy: 0.9900 - val_loss: 0.9138 - val_accuracy: 0.8165\n",
      "Epoch 25/30\n",
      "625/625 - 2s - loss: 0.0324 - accuracy: 0.9911 - val_loss: 0.9969 - val_accuracy: 0.8164\n",
      "Epoch 26/30\n",
      "625/625 - 2s - loss: 0.0292 - accuracy: 0.9914 - val_loss: 0.9690 - val_accuracy: 0.8161\n",
      "Epoch 27/30\n",
      "625/625 - 2s - loss: 0.0277 - accuracy: 0.9924 - val_loss: 1.0033 - val_accuracy: 0.8153\n",
      "Epoch 28/30\n",
      "625/625 - 2s - loss: 0.0264 - accuracy: 0.9927 - val_loss: 1.0523 - val_accuracy: 0.8150\n",
      "Epoch 29/30\n",
      "625/625 - 2s - loss: 0.0228 - accuracy: 0.9934 - val_loss: 1.0885 - val_accuracy: 0.8146\n",
      "Epoch 30/30\n",
      "625/625 - 2s - loss: 0.0219 - accuracy: 0.9939 - val_loss: 1.1195 - val_accuracy: 0.8129\n"
     ]
    }
   ],
   "source": [
    "num_epochs = 30\n",
    "history = model.fit(training_padded, training_labels, epochs=num_epochs, validation_data=(testing_padded, testing_labels), verbose=2)"
   ]
  },
  {
   "cell_type": "code",
   "execution_count": 22,
   "metadata": {
    "colab": {
     "base_uri": "https://localhost:8080/"
    },
    "id": "jA4H7J36ypOP",
    "outputId": "1e65ed7e-32d1-4470-9c6f-995f66546e10"
   },
   "outputs": [
    {
     "data": {
      "text/plain": [
       "[0.6679580807685852,\n",
       " 0.4249904155731201,\n",
       " 0.3053792119026184,\n",
       " 0.2548655867576599,\n",
       " 0.21969634294509888,\n",
       " 0.19208155572414398,\n",
       " 0.1709389090538025,\n",
       " 0.15231318771839142,\n",
       " 0.13809749484062195,\n",
       " 0.12379277497529984,\n",
       " 0.11233310401439667,\n",
       " 0.10121449083089828,\n",
       " 0.09352034330368042,\n",
       " 0.08588720858097076,\n",
       " 0.0763431042432785,\n",
       " 0.07096768915653229,\n",
       " 0.06544648110866547,\n",
       " 0.06007661297917366,\n",
       " 0.05453350394964218,\n",
       " 0.049912650138139725,\n",
       " 0.0458194836974144,\n",
       " 0.04202980175614357,\n",
       " 0.040443748235702515,\n",
       " 0.03477802127599716,\n",
       " 0.03236473351716995,\n",
       " 0.029162200167775154,\n",
       " 0.02766222320497036,\n",
       " 0.02644381672143936,\n",
       " 0.02284255437552929,\n",
       " 0.021940337494015694]"
      ]
     },
     "execution_count": 22,
     "metadata": {
      "tags": []
     },
     "output_type": "execute_result"
    }
   ],
   "source": [
    "history.history['loss']"
   ]
  },
  {
   "cell_type": "code",
   "execution_count": 23,
   "metadata": {
    "colab": {
     "base_uri": "https://localhost:8080/",
     "height": 541
    },
    "id": "2HYfBKXjkmU8",
    "outputId": "b5bb7b04-72d8-4b99-9a9d-44ed0802cd31"
   },
   "outputs": [
    {
     "data": {
      "image/png": "[encoded data removed]",
      "text/plain": [
       "<Figure size 432x288 with 1 Axes>"
      ]
     },
     "metadata": {
      "needs_background": "light",
      "tags": []
     },
     "output_type": "display_data"
    },
    {
     "data": {
      "image/png": "[encoded data removed]",
      "text/plain": [
       "<Figure size 432x288 with 1 Axes>"
      ]
     },
     "metadata": {
      "needs_background": "light",
      "tags": []
     },
     "output_type": "display_data"
    }
   ],
   "source": [
    "import matplotlib.pyplot as plt\n",
    "\n",
    "\n",
    "def plot_graphs(history, string):\n",
    "  plt.plot(history.history[string])\n",
    "  plt.plot(history.history['val_'+string])\n",
    "  plt.xlabel(\"Epochs\")\n",
    "  plt.ylabel(string)\n",
    "  plt.legend([string, 'val_'+string])\n",
    "  plt.show()\n",
    "  \n",
    "plot_graphs(history, \"accuracy\")\n",
    "plot_graphs(history, \"loss\")"
   ]
  },
  {
   "cell_type": "code",
   "execution_count": 24,
   "metadata": {
    "colab": {
     "base_uri": "https://localhost:8080/"
    },
    "id": "7SBdAZAenvzL",
    "outputId": "83c56239-4ece-4c04-ae95-17528e367c8a"
   },
   "outputs": [
    {
     "name": "stdout",
     "output_type": "stream",
     "text": [
      "former <OOV> store clerk sues over secret 'black <OOV> for minority shoppers ? ? ? ? ? ? ? ? ? ? ? ? ? ? ? ? ? ? ? ? ? ? ? ? ? ? ? ? ? ? ? ? ? ? ? ? ? ? ? ? ? ? ? ? ? ? ? ? ? ? ? ? ? ? ? ? ? ? ? ? ? ? ? ? ? ? ? ? ? ? ? ? ? ? ? ? ? ? ? ? ? ? ? ? ? ? ? ?\n",
      "mom starting to fear son's web series closest thing she will have to grandchild\n",
      "1\n"
     ]
    }
   ],
   "source": [
    "reverse_word_index = dict([(value, key) for (key, value) in word_index.items()])\n",
    "\n",
    "def decode_sentence(text):\n",
    "    return ' '.join([reverse_word_index.get(i, '?') for i in text])\n",
    "\n",
    "print(decode_sentence(training_padded[0]))\n",
    "print(training_sentences[2])\n",
    "print(labels[2])"
   ]
  },
  {
   "cell_type": "code",
   "execution_count": 25,
   "metadata": {
    "colab": {
     "base_uri": "https://localhost:8080/"
    },
    "id": "c9MqihtEkzQ9",
    "outputId": "73eb9c27-6e1f-40ec-98a2-2ad3c2dd20a7"
   },
   "outputs": [
    {
     "name": "stdout",
     "output_type": "stream",
     "text": [
      "(10000, 16)\n"
     ]
    }
   ],
   "source": [
    "e = model.layers[0]\n",
    "weights = e.get_weights()[0]\n",
    "print(weights.shape) # shape: (vocab_size, embedding_dim)\n"
   ]
  },
  {
   "cell_type": "code",
   "execution_count": null,
   "metadata": {
    "id": "LoBXVffknldU"
   },
   "outputs": [],
   "source": [
    "import io\n",
    "\n",
    "out_v = io.open('vecs.tsv', 'w', encoding='utf-8')\n",
    "out_m = io.open('meta.tsv', 'w', encoding='utf-8')\n",
    "for word_num in range(1, vocab_size):\n",
    "  word = reverse_word_index[word_num]\n",
    "  embeddings = weights[word_num]\n",
    "  out_m.write(word + \"\\n\")\n",
    "  out_v.write('\\t'.join([str(x) for x in embeddings]) + \"\\n\")\n",
    "out_v.close()\n",
    "out_m.close()"
   ]
  },
  {
   "cell_type": "code",
   "execution_count": null,
   "metadata": {
    "id": "U4eZ5HtVnnEE"
   },
   "outputs": [],
   "source": [
    "try:\n",
    "  from google.colab import files\n",
    "except ImportError:\n",
    "  pass\n",
    "else:\n",
    "  files.download('vecs.tsv')\n",
    "  files.download('meta.tsv')"
   ]
  },
  {
   "cell_type": "code",
   "execution_count": 26,
   "metadata": {
    "colab": {
     "base_uri": "https://localhost:8080/"
    },
    "id": "cG8-ArY-qDcz",
    "outputId": "890e335c-c103-4c5c-f4a8-892e9a6d72cd"
   },
   "outputs": [
    {
     "name": "stdout",
     "output_type": "stream",
     "text": [
      "[[9.7942597e-01]\n",
      " [1.4576818e-05]]\n"
     ]
    }
   ],
   "source": [
    "sentence = [\"granny starting to fear spiders in the garden might be real\", \"game of thrones season finale showing this sunday night\"]\n",
    "sequences = tokenizer.texts_to_sequences(sentence)\n",
    "padded = pad_sequences(sequences, maxlen=max_length, padding=padding_type, truncating=trunc_type)\n",
    "print(model.predict(padded))"
   ]
  }
 ],
 "metadata": {
  "accelerator": "GPU",
  "colab": {
   "collapsed_sections": [],
   "name": "Course 3 - Week 2 - Lesson 2.ipynb",
   "provenance": [],
   "toc_visible": true
  },
  "kernelspec": {
   "display_name": "Python 3",
   "language": "python",
   "name": "python3"
  },
  "language_info": {
   "codemirror_mode": {
    "name": "ipython",
    "version": 3
   },
   "file_extension": ".py",
   "mimetype": "text/x-python",
   "name": "python",
   "nbconvert_exporter": "python",
   "pygments_lexer": "ipython3",
   "version": "3.8.0"
  }
 },
 "nbformat": 4,
 "nbformat_minor": 1
}
