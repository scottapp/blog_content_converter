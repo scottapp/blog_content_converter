{
 "cells": [
  {
   "cell_type": "code",
   "execution_count": null,
   "metadata": {
    "id": "zX4Kg8DUTKWO"
   },
   "outputs": [],
   "source": [
    "#@title Licensed under the Apache License, Version 2.0 (the \"License\");\n",
    "# you may not use this file except in compliance with the License.\n",
    "# You may obtain a copy of the License at\n",
    "#\n",
    "# https://www.apache.org/licenses/LICENSE-2.0\n",
    "#\n",
    "# Unless required by applicable law or agreed to in writing, software\n",
    "# distributed under the License is distributed on an \"AS IS\" BASIS,\n",
    "# WITHOUT WARRANTIES OR CONDITIONS OF ANY KIND, either express or implied.\n",
    "# See the License for the specific language governing permissions and\n",
    "# limitations under the License."
   ]
  },
  {
   "cell_type": "markdown",
   "metadata": {
    "id": "G-xUjuSUEENH"
   },
   "source": [
    "<a href=\"https://colab.research.google.com/github/lmoroney/dlaicourse/blob/master/TensorFlow%20In%20Practice/Course%203%20-%20NLP/NLP%20Course%20-%20Week%203%20Exercise%20Answer.ipynb\" target=\"_parent\"><img src=\"https://colab.research.google.com/assets/colab-badge.svg\" alt=\"Open In Colab\"/></a>"
   ]
  },
  {
   "cell_type": "code",
   "execution_count": 2,
   "metadata": {
    "id": "hmA6EzkQJ5jt"
   },
   "outputs": [],
   "source": [
    "import json\n",
    "import tensorflow as tf\n",
    "import csv\n",
    "import random\n",
    "import numpy as np\n",
    "\n",
    "from tensorflow.keras.preprocessing.text import Tokenizer\n",
    "from tensorflow.keras.preprocessing.sequence import pad_sequences\n",
    "from tensorflow.keras.utils import to_categorical\n",
    "from tensorflow.keras import regularizers\n",
    "\n",
    "\n",
    "embedding_dim = 100\n",
    "max_length = 16\n",
    "trunc_type='post'\n",
    "padding_type='post'\n",
    "oov_tok = \"<OOV>\"\n",
    "training_size=160000\n",
    "test_portion=.1\n",
    "\n",
    "corpus = []\n"
   ]
  },
  {
   "cell_type": "code",
   "execution_count": 4,
   "metadata": {
    "colab": {
     "base_uri": "https://localhost:8080/",
     "height": 204
    },
    "id": "bM0l_dORKqE0",
    "outputId": "491ba86b-f780-4355-a4be-765565a29c8c"
   },
   "outputs": [],
   "source": [
    "# Note that I cleaned the Stanford dataset to remove LATIN1 encoding to make it easier for Python CSV reader\n",
    "# You can do that yourself with:\n",
    "# iconv -f LATIN1 -t UTF8 training.1600000.processed.noemoticon.csv -o training_cleaned.csv\n",
    "# I then hosted it on my site to make it easier to use in this notebook\n",
    "\n",
    "#!wget --no-check-certificate \\\n",
    "#    https://storage.googleapis.com/laurencemoroney-blog.appspot.com/training_cleaned.csv \\\n",
    "#    -O /tmp/training_cleaned.csv\n",
    "\n",
    "num_sentences = 0\n",
    "\n",
    "encoding='utf-8'\n",
    "with open(\"../../data/training_cleaned.csv\", 'r', encoding='utf8') as csvfile:\n",
    "    reader = csv.reader(csvfile, delimiter=',')\n",
    "    for row in reader:\n",
    "        list_item=[]\n",
    "        list_item.append(row[5])\n",
    "        this_label=row[0]\n",
    "        if this_label=='0':\n",
    "            list_item.append(0)\n",
    "        else:\n",
    "            list_item.append(1)\n",
    "        num_sentences = num_sentences + 1\n",
    "        corpus.append(list_item)\n"
   ]
  },
  {
   "cell_type": "code",
   "execution_count": 5,
   "metadata": {
    "colab": {
     "base_uri": "https://localhost:8080/",
     "height": 68
    },
    "id": "3kxblBUjEUX-",
    "outputId": "3c0227a2-e74b-4d9b-cabb-f9ee150571b1"
   },
   "outputs": [
    {
     "name": "stdout",
     "output_type": "stream",
     "text": [
      "1600000\n",
      "1606466\n",
      "[\"is upset that he can't update his Facebook by texting it... and might cry as a result  School today also. Blah!\", 0]\n"
     ]
    }
   ],
   "source": [
    "print(num_sentences)\n",
    "print(len(corpus))\n",
    "print(corpus[1])\n",
    "\n",
    "# Expected Output:\n",
    "# 1600000\n",
    "# 1600000\n",
    "# [\"is upset that he can't update his Facebook by texting it... and might cry as a result  School today also. Blah!\", 0]"
   ]
  },
  {
   "cell_type": "code",
   "execution_count": 6,
   "metadata": {
    "id": "ohOGz24lsNAD"
   },
   "outputs": [],
   "source": [
    "sentences=[]\n",
    "labels=[]\n",
    "random.shuffle(corpus)\n",
    "for x in range(training_size):\n",
    "    sentences.append(corpus[x][0])\n",
    "    labels.append(corpus[x][1])\n",
    "\n",
    "\n",
    "tokenizer = Tokenizer()\n",
    "tokenizer.fit_on_texts(sentences)\n",
    "\n",
    "word_index = tokenizer.word_index\n",
    "vocab_size=len(word_index)\n",
    "\n",
    "sequences = tokenizer.texts_to_sequences(sentences)\n",
    "padded = pad_sequences(sequences, maxlen=max_length, padding=padding_type, truncating=trunc_type)\n",
    "\n",
    "split = int(test_portion * training_size)\n",
    "\n",
    "test_sequences = padded[0:split]\n",
    "training_sequences = padded[split:training_size]\n",
    "test_labels = labels[0:split]\n",
    "training_labels = labels[split:training_size]"
   ]
  },
  {
   "cell_type": "code",
   "execution_count": 7,
   "metadata": {
    "colab": {
     "base_uri": "https://localhost:8080/",
     "height": 51
    },
    "id": "gIrtRem1En3N",
    "outputId": "4ad8401c-8dba-420d-8aee-38dac0b0839a"
   },
   "outputs": [
    {
     "name": "stdout",
     "output_type": "stream",
     "text": [
      "138848\n",
      "1\n"
     ]
    }
   ],
   "source": [
    "print(vocab_size)\n",
    "print(word_index['i'])\n",
    "# Expected Output\n",
    "# 138858\n",
    "# 1"
   ]
  },
  {
   "cell_type": "code",
   "execution_count": 12,
   "metadata": {
    "colab": {
     "base_uri": "https://localhost:8080/",
     "height": 204
    },
    "id": "C1zdgJkusRh0",
    "outputId": "b6edd322-8191-45e7-cb12-08921685a72f"
   },
   "outputs": [],
   "source": [
    "# Note this is the 100 dimension version of GloVe from Stanford\n",
    "# I unzipped and hosted it on my site to make this notebook easier\n",
    "#!wget --no-check-certificate \\\n",
    "#    https://storage.googleapis.com/laurencemoroney-blog.appspot.com/glove.6B.100d.txt \\\n",
    "#    -O /tmp/glove.6B.100d.txt\n",
    "\n",
    "#!wget http://nlp.stanford.edu/data/glove.6B.zip -O /tmp/glove.6B.zip\n",
    "    \n",
    "import zipfile\n",
    "with zipfile.ZipFile('../../data/glove.6B.zip', 'r') as zip_ref:\n",
    "    zip_ref.extractall('../../data/')\n",
    "    \n",
    "embeddings_index = {};\n",
    "with open('../../data/glove.6B.100d.txt', 'r', encoding='utf8') as f:\n",
    "    for line in f:\n",
    "        values = line.split();\n",
    "        word = values[0];\n",
    "        coefs = np.asarray(values[1:], dtype='float32');\n",
    "        embeddings_index[word] = coefs;\n",
    "\n",
    "embeddings_matrix = np.zeros((vocab_size+1, embedding_dim));\n",
    "for word, i in word_index.items():\n",
    "    embedding_vector = embeddings_index.get(word);\n",
    "    if embedding_vector is not None:\n",
    "        embeddings_matrix[i] = embedding_vector;"
   ]
  },
  {
   "cell_type": "code",
   "execution_count": 15,
   "metadata": {
    "colab": {
     "base_uri": "https://localhost:8080/",
     "height": 34
    },
    "id": "71NLk_lpFLNt",
    "outputId": "97cb88db-754f-4375-fdc3-876cd6b4fdce"
   },
   "outputs": [
    {
     "name": "stdout",
     "output_type": "stream",
     "text": [
      "138849\n",
      "<class 'numpy.ndarray'>\n"
     ]
    },
    {
     "data": {
      "text/plain": [
       "(138849, 100)"
      ]
     },
     "execution_count": 15,
     "metadata": {},
     "output_type": "execute_result"
    }
   ],
   "source": [
    "print(len(embeddings_matrix))\n",
    "# Expected Output\n",
    "# 138859\n",
    "print(type(embeddings_matrix))\n",
    "embeddings_matrix.shape"
   ]
  },
  {
   "cell_type": "code",
   "execution_count": 16,
   "metadata": {},
   "outputs": [
    {
     "name": "stdout",
     "output_type": "stream",
     "text": [
      "Model: \"sequential\"\n",
      "_________________________________________________________________\n",
      "Layer (type)                 Output Shape              Param #   \n",
      "=================================================================\n",
      "embedding (Embedding)        (None, 16, 100)           13884900  \n",
      "_________________________________________________________________\n",
      "dropout (Dropout)            (None, 16, 100)           0         \n",
      "_________________________________________________________________\n",
      "conv1d (Conv1D)              (None, 12, 64)            32064     \n",
      "_________________________________________________________________\n",
      "max_pooling1d (MaxPooling1D) (None, 3, 64)             0         \n",
      "_________________________________________________________________\n",
      "lstm (LSTM)                  (None, 64)                33024     \n",
      "_________________________________________________________________\n",
      "dense (Dense)                (None, 1)                 65        \n",
      "=================================================================\n",
      "Total params: 13,950,053\n",
      "Trainable params: 65,153\n",
      "Non-trainable params: 13,884,900\n",
      "_________________________________________________________________\n"
     ]
    }
   ],
   "source": [
    "model = tf.keras.Sequential([\n",
    "    tf.keras.layers.Embedding(vocab_size+1, embedding_dim, input_length=max_length, weights=[embeddings_matrix], trainable=False),\n",
    "    tf.keras.layers.Dropout(0.2),\n",
    "    tf.keras.layers.Conv1D(64, 5, activation='relu'),\n",
    "    tf.keras.layers.MaxPooling1D(pool_size=4),\n",
    "    tf.keras.layers.LSTM(64),\n",
    "    tf.keras.layers.Dense(1, activation='sigmoid')\n",
    "])\n",
    "model.compile(loss='binary_crossentropy',optimizer='adam',metrics=['accuracy'])\n",
    "model.summary()"
   ]
  },
  {
   "cell_type": "code",
   "execution_count": 17,
   "metadata": {
    "id": "iKKvbuEBOGFz"
   },
   "outputs": [
    {
     "name": "stdout",
     "output_type": "stream",
     "text": [
      "Epoch 1/50\n",
      "4500/4500 - 23s - loss: 0.5674 - accuracy: 0.6998 - val_loss: 0.5377 - val_accuracy: 0.7258\n",
      "Epoch 2/50\n",
      "4500/4500 - 17s - loss: 0.5277 - accuracy: 0.7327 - val_loss: 0.5160 - val_accuracy: 0.7400\n",
      "Epoch 3/50\n",
      "4500/4500 - 17s - loss: 0.5113 - accuracy: 0.7440 - val_loss: 0.5148 - val_accuracy: 0.7454\n",
      "Epoch 4/50\n",
      "4500/4500 - 17s - loss: 0.5010 - accuracy: 0.7515 - val_loss: 0.5075 - val_accuracy: 0.7489\n",
      "Epoch 5/50\n",
      "4500/4500 - 18s - loss: 0.4918 - accuracy: 0.7568 - val_loss: 0.5076 - val_accuracy: 0.7489\n",
      "Epoch 6/50\n",
      "4500/4500 - 17s - loss: 0.4839 - accuracy: 0.7619 - val_loss: 0.5080 - val_accuracy: 0.7509\n",
      "Epoch 7/50\n",
      "4500/4500 - 17s - loss: 0.4789 - accuracy: 0.7661 - val_loss: 0.5064 - val_accuracy: 0.7521\n",
      "Epoch 8/50\n",
      "4500/4500 - 16s - loss: 0.4728 - accuracy: 0.7704 - val_loss: 0.5064 - val_accuracy: 0.7519\n",
      "Epoch 9/50\n",
      "4500/4500 - 16s - loss: 0.4678 - accuracy: 0.7728 - val_loss: 0.5079 - val_accuracy: 0.7513\n",
      "Epoch 10/50\n",
      "4500/4500 - 16s - loss: 0.4644 - accuracy: 0.7751 - val_loss: 0.5093 - val_accuracy: 0.7523\n",
      "Epoch 11/50\n",
      "4500/4500 - 16s - loss: 0.4616 - accuracy: 0.7753 - val_loss: 0.5131 - val_accuracy: 0.7527\n",
      "Epoch 12/50\n",
      "4500/4500 - 16s - loss: 0.4582 - accuracy: 0.7782 - val_loss: 0.5156 - val_accuracy: 0.7457\n",
      "Epoch 13/50\n",
      "4500/4500 - 16s - loss: 0.4567 - accuracy: 0.7794 - val_loss: 0.5118 - val_accuracy: 0.7511\n",
      "Epoch 14/50\n",
      "4500/4500 - 16s - loss: 0.4529 - accuracy: 0.7815 - val_loss: 0.5162 - val_accuracy: 0.7503\n",
      "Epoch 15/50\n",
      "4500/4500 - 16s - loss: 0.4517 - accuracy: 0.7822 - val_loss: 0.5092 - val_accuracy: 0.7550\n",
      "Epoch 16/50\n",
      "4500/4500 - 16s - loss: 0.4491 - accuracy: 0.7842 - val_loss: 0.5097 - val_accuracy: 0.7513\n",
      "Epoch 17/50\n",
      "4500/4500 - 16s - loss: 0.4470 - accuracy: 0.7862 - val_loss: 0.5143 - val_accuracy: 0.7499\n",
      "Epoch 18/50\n",
      "4500/4500 - 16s - loss: 0.4460 - accuracy: 0.7858 - val_loss: 0.5132 - val_accuracy: 0.7501\n",
      "Epoch 19/50\n",
      "4500/4500 - 16s - loss: 0.4446 - accuracy: 0.7866 - val_loss: 0.5139 - val_accuracy: 0.7498\n",
      "Epoch 20/50\n",
      "4500/4500 - 16s - loss: 0.4424 - accuracy: 0.7879 - val_loss: 0.5142 - val_accuracy: 0.7479\n",
      "Epoch 21/50\n",
      "4500/4500 - 16s - loss: 0.4411 - accuracy: 0.7882 - val_loss: 0.5149 - val_accuracy: 0.7486\n",
      "Epoch 22/50\n",
      "4500/4500 - 17s - loss: 0.4404 - accuracy: 0.7889 - val_loss: 0.5162 - val_accuracy: 0.7481\n",
      "Epoch 23/50\n",
      "4500/4500 - 16s - loss: 0.4393 - accuracy: 0.7899 - val_loss: 0.5172 - val_accuracy: 0.7495\n",
      "Epoch 24/50\n",
      "4500/4500 - 16s - loss: 0.4392 - accuracy: 0.7897 - val_loss: 0.5174 - val_accuracy: 0.7530\n",
      "Epoch 25/50\n",
      "4500/4500 - 16s - loss: 0.4380 - accuracy: 0.7911 - val_loss: 0.5160 - val_accuracy: 0.7508\n",
      "Epoch 26/50\n",
      "4500/4500 - 16s - loss: 0.4360 - accuracy: 0.7920 - val_loss: 0.5137 - val_accuracy: 0.7527\n",
      "Epoch 27/50\n",
      "4500/4500 - 16s - loss: 0.4346 - accuracy: 0.7930 - val_loss: 0.5208 - val_accuracy: 0.7490\n",
      "Epoch 28/50\n",
      "4500/4500 - 16s - loss: 0.4349 - accuracy: 0.7924 - val_loss: 0.5233 - val_accuracy: 0.7481\n",
      "Epoch 29/50\n",
      "4500/4500 - 16s - loss: 0.4350 - accuracy: 0.7932 - val_loss: 0.5215 - val_accuracy: 0.7499\n",
      "Epoch 30/50\n",
      "4500/4500 - 16s - loss: 0.4341 - accuracy: 0.7929 - val_loss: 0.5195 - val_accuracy: 0.7471\n",
      "Epoch 31/50\n",
      "4500/4500 - 16s - loss: 0.4330 - accuracy: 0.7929 - val_loss: 0.5205 - val_accuracy: 0.7489\n",
      "Epoch 32/50\n",
      "4500/4500 - 16s - loss: 0.4324 - accuracy: 0.7933 - val_loss: 0.5238 - val_accuracy: 0.7499\n",
      "Epoch 33/50\n",
      "4500/4500 - 17s - loss: 0.4318 - accuracy: 0.7936 - val_loss: 0.5202 - val_accuracy: 0.7487\n",
      "Epoch 34/50\n",
      "4500/4500 - 17s - loss: 0.4332 - accuracy: 0.7935 - val_loss: 0.5144 - val_accuracy: 0.7500\n",
      "Epoch 35/50\n",
      "4500/4500 - 17s - loss: 0.4316 - accuracy: 0.7945 - val_loss: 0.5223 - val_accuracy: 0.7477\n",
      "Epoch 36/50\n",
      "4500/4500 - 17s - loss: 0.4307 - accuracy: 0.7949 - val_loss: 0.5244 - val_accuracy: 0.7489\n",
      "Epoch 37/50\n",
      "4500/4500 - 17s - loss: 0.4292 - accuracy: 0.7960 - val_loss: 0.5275 - val_accuracy: 0.7481\n",
      "Epoch 38/50\n",
      "4500/4500 - 17s - loss: 0.4302 - accuracy: 0.7952 - val_loss: 0.5257 - val_accuracy: 0.7502\n",
      "Epoch 39/50\n",
      "4500/4500 - 17s - loss: 0.4279 - accuracy: 0.7961 - val_loss: 0.5206 - val_accuracy: 0.7487\n",
      "Epoch 40/50\n",
      "4500/4500 - 16s - loss: 0.4295 - accuracy: 0.7957 - val_loss: 0.5241 - val_accuracy: 0.7507\n",
      "Epoch 41/50\n",
      "4500/4500 - 17s - loss: 0.4291 - accuracy: 0.7964 - val_loss: 0.5265 - val_accuracy: 0.7502\n",
      "Epoch 42/50\n",
      "4500/4500 - 16s - loss: 0.4268 - accuracy: 0.7972 - val_loss: 0.5229 - val_accuracy: 0.7509\n",
      "Epoch 43/50\n",
      "4500/4500 - 17s - loss: 0.4271 - accuracy: 0.7969 - val_loss: 0.5209 - val_accuracy: 0.7486\n",
      "Epoch 44/50\n",
      "4500/4500 - 17s - loss: 0.4282 - accuracy: 0.7958 - val_loss: 0.5269 - val_accuracy: 0.7506\n",
      "Epoch 45/50\n",
      "4500/4500 - 17s - loss: 0.4272 - accuracy: 0.7959 - val_loss: 0.5202 - val_accuracy: 0.7503\n",
      "Epoch 46/50\n",
      "4500/4500 - 17s - loss: 0.4273 - accuracy: 0.7975 - val_loss: 0.5263 - val_accuracy: 0.7490\n",
      "Epoch 47/50\n",
      "4500/4500 - 16s - loss: 0.4267 - accuracy: 0.7975 - val_loss: 0.5217 - val_accuracy: 0.7509\n",
      "Epoch 48/50\n",
      "4500/4500 - 16s - loss: 0.4261 - accuracy: 0.7978 - val_loss: 0.5317 - val_accuracy: 0.7469\n",
      "Epoch 49/50\n",
      "4500/4500 - 16s - loss: 0.4272 - accuracy: 0.7976 - val_loss: 0.5240 - val_accuracy: 0.7496\n",
      "Epoch 50/50\n",
      "4500/4500 - 16s - loss: 0.4260 - accuracy: 0.7976 - val_loss: 0.5217 - val_accuracy: 0.7494\n",
      "Training Complete\n"
     ]
    }
   ],
   "source": [
    "num_epochs = 50\n",
    "\n",
    "training_padded = np.array(training_sequences)\n",
    "training_labels = np.array(training_labels)\n",
    "testing_padded = np.array(test_sequences)\n",
    "testing_labels = np.array(test_labels)\n",
    "\n",
    "history = model.fit(training_padded, training_labels, epochs=num_epochs, validation_data=(testing_padded, testing_labels), verbose=2)\n",
    "\n",
    "print(\"Training Complete\")"
   ]
  },
  {
   "cell_type": "code",
   "execution_count": 18,
   "metadata": {
    "id": "qxju4ItJKO8F"
   },
   "outputs": [
    {
     "data": {
      "text/plain": [
       "<Figure size 432x288 with 0 Axes>"
      ]
     },
     "execution_count": 18,
     "metadata": {},
     "output_type": "execute_result"
    },
    {
     "data": {
      "image/png": "[encoded data removed]",
      "text/plain": [
       "<Figure size 432x288 with 1 Axes>"
      ]
     },
     "metadata": {
      "needs_background": "light"
     },
     "output_type": "display_data"
    },
    {
     "data": {
      "image/png": "[encoded data removed]",
      "text/plain": [
       "<Figure size 432x288 with 1 Axes>"
      ]
     },
     "metadata": {
      "needs_background": "light"
     },
     "output_type": "display_data"
    },
    {
     "data": {
      "text/plain": [
       "<Figure size 432x288 with 0 Axes>"
      ]
     },
     "metadata": {},
     "output_type": "display_data"
    }
   ],
   "source": [
    "import matplotlib.image  as mpimg\n",
    "import matplotlib.pyplot as plt\n",
    "\n",
    "#-----------------------------------------------------------\n",
    "# Retrieve a list of list results on training and test data\n",
    "# sets for each training epoch\n",
    "#-----------------------------------------------------------\n",
    "acc=history.history['accuracy']\n",
    "val_acc=history.history['val_accuracy']\n",
    "loss=history.history['loss']\n",
    "val_loss=history.history['val_loss']\n",
    "\n",
    "epochs=range(len(acc)) # Get number of epochs\n",
    "\n",
    "#------------------------------------------------\n",
    "# Plot training and validation accuracy per epoch\n",
    "#------------------------------------------------\n",
    "plt.plot(epochs, acc, 'r')\n",
    "plt.plot(epochs, val_acc, 'b')\n",
    "plt.title('Training and validation accuracy')\n",
    "plt.xlabel(\"Epochs\")\n",
    "plt.ylabel(\"Accuracy\")\n",
    "plt.legend([\"Accuracy\", \"Validation Accuracy\"])\n",
    "\n",
    "plt.figure()\n",
    "\n",
    "#------------------------------------------------\n",
    "# Plot training and validation loss per epoch\n",
    "#------------------------------------------------\n",
    "plt.plot(epochs, loss, 'r')\n",
    "plt.plot(epochs, val_loss, 'b')\n",
    "plt.title('Training and validation loss')\n",
    "plt.xlabel(\"Epochs\")\n",
    "plt.ylabel(\"Loss\")\n",
    "plt.legend([\"Loss\", \"Validation Loss\"])\n",
    "\n",
    "plt.figure()\n",
    "\n",
    "\n",
    "# Expected Output\n",
    "# A chart where the validation loss does not increase sharply!"
   ]
  },
  {
   "cell_type": "code",
   "execution_count": null,
   "metadata": {},
   "outputs": [],
   "source": []
  }
 ],
 "metadata": {
  "accelerator": "GPU",
  "colab": {
   "name": "NLP Course - Week 3 Exercise Answer.ipynb",
   "provenance": [],
   "toc_visible": true
  },
  "kernelspec": {
   "display_name": "Python 3",
   "language": "python",
   "name": "python3"
  },
  "language_info": {
   "codemirror_mode": {
    "name": "ipython",
    "version": 3
   },
   "file_extension": ".py",
   "mimetype": "text/x-python",
   "name": "python",
   "nbconvert_exporter": "python",
   "pygments_lexer": "ipython3",
   "version": "3.8.0"
  }
 },
 "nbformat": 4,
 "nbformat_minor": 1
}
