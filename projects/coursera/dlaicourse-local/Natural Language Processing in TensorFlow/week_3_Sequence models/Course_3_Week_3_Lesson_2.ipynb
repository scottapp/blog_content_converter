{
 "cells": [
  {
   "cell_type": "code",
   "execution_count": null,
   "metadata": {
    "id": "zX4Kg8DUTKWO"
   },
   "outputs": [],
   "source": [
    "#@title Licensed under the Apache License, Version 2.0 (the \"License\");\n",
    "# you may not use this file except in compliance with the License.\n",
    "# You may obtain a copy of the License at\n",
    "#\n",
    "# https://www.apache.org/licenses/LICENSE-2.0\n",
    "#\n",
    "# Unless required by applicable law or agreed to in writing, software\n",
    "# distributed under the License is distributed on an \"AS IS\" BASIS,\n",
    "# WITHOUT WARRANTIES OR CONDITIONS OF ANY KIND, either express or implied.\n",
    "# See the License for the specific language governing permissions and\n",
    "# limitations under the License."
   ]
  },
  {
   "cell_type": "markdown",
   "metadata": {
    "id": "xmfK1Ctu4Gyq"
   },
   "source": [
    "<a href=\"https://colab.research.google.com/github/lmoroney/dlaicourse/blob/master/TensorFlow%20In%20Practice/Course%203%20-%20NLP/Course%203%20-%20Week%203%20-%20Lesson%202.ipynb\" target=\"_parent\"><img src=\"https://colab.research.google.com/assets/colab-badge.svg\" alt=\"Open In Colab\"/></a>"
   ]
  },
  {
   "cell_type": "code",
   "execution_count": 1,
   "metadata": {
    "id": "jGwXGIXvFhXW"
   },
   "outputs": [
    {
     "name": "stdout",
     "output_type": "stream",
     "text": [
      "Model: \"sequential\"\n",
      "_________________________________________________________________\n",
      "Layer (type)                 Output Shape              Param #   \n",
      "=================================================================\n",
      "embedding (Embedding)        (None, 120, 16)           16000     \n",
      "_________________________________________________________________\n",
      "bidirectional (Bidirectional (None, 64)                12544     \n",
      "_________________________________________________________________\n",
      "dense (Dense)                (None, 24)                1560      \n",
      "_________________________________________________________________\n",
      "dense_1 (Dense)              (None, 1)                 25        \n",
      "=================================================================\n",
      "Total params: 30,129\n",
      "Trainable params: 30,129\n",
      "Non-trainable params: 0\n",
      "_________________________________________________________________\n",
      "Epoch 1/50\n",
      "625/625 [==============================] - 15s 14ms/step - loss: 0.5455 - accuracy: 0.6973 - val_loss: 0.3871 - val_accuracy: 0.8238\n",
      "Epoch 2/50\n",
      "625/625 [==============================] - 8s 12ms/step - loss: 0.3576 - accuracy: 0.8333 - val_loss: 0.3696 - val_accuracy: 0.8275\n",
      "Epoch 3/50\n",
      "625/625 [==============================] - 8s 13ms/step - loss: 0.3158 - accuracy: 0.8578 - val_loss: 0.3890 - val_accuracy: 0.8280\n",
      "Epoch 4/50\n",
      "625/625 [==============================] - 7s 12ms/step - loss: 0.2943 - accuracy: 0.8674 - val_loss: 0.3721 - val_accuracy: 0.8325\n",
      "Epoch 5/50\n",
      "625/625 [==============================] - 7s 12ms/step - loss: 0.2929 - accuracy: 0.8696 - val_loss: 0.3749 - val_accuracy: 0.8310\n",
      "Epoch 6/50\n",
      "625/625 [==============================] - 8s 12ms/step - loss: 0.2705 - accuracy: 0.8866 - val_loss: 0.3959 - val_accuracy: 0.8319\n",
      "Epoch 7/50\n",
      "625/625 [==============================] - 8s 13ms/step - loss: 0.2611 - accuracy: 0.8878 - val_loss: 0.3928 - val_accuracy: 0.8305\n",
      "Epoch 8/50\n",
      "625/625 [==============================] - 7s 12ms/step - loss: 0.2610 - accuracy: 0.8894 - val_loss: 0.3871 - val_accuracy: 0.8280\n",
      "Epoch 9/50\n",
      "625/625 [==============================] - 8s 12ms/step - loss: 0.2531 - accuracy: 0.8929 - val_loss: 0.3986 - val_accuracy: 0.8253\n",
      "Epoch 10/50\n",
      "625/625 [==============================] - 8s 12ms/step - loss: 0.2502 - accuracy: 0.8934 - val_loss: 0.4000 - val_accuracy: 0.8255\n",
      "Epoch 11/50\n",
      "625/625 [==============================] - 8s 13ms/step - loss: 0.2392 - accuracy: 0.8980 - val_loss: 0.4155 - val_accuracy: 0.8267\n",
      "Epoch 12/50\n",
      "625/625 [==============================] - 7s 12ms/step - loss: 0.2304 - accuracy: 0.9021 - val_loss: 0.4305 - val_accuracy: 0.8238\n",
      "Epoch 13/50\n",
      "625/625 [==============================] - 8s 12ms/step - loss: 0.2218 - accuracy: 0.9083 - val_loss: 0.4273 - val_accuracy: 0.8232\n",
      "Epoch 14/50\n",
      "625/625 [==============================] - 7s 12ms/step - loss: 0.2169 - accuracy: 0.9093 - val_loss: 0.4604 - val_accuracy: 0.8192\n",
      "Epoch 15/50\n",
      "625/625 [==============================] - 8s 13ms/step - loss: 0.2025 - accuracy: 0.9156 - val_loss: 0.4487 - val_accuracy: 0.8225\n",
      "Epoch 16/50\n",
      "625/625 [==============================] - 7s 12ms/step - loss: 0.1964 - accuracy: 0.9175 - val_loss: 0.4626 - val_accuracy: 0.8189\n",
      "Epoch 17/50\n",
      "625/625 [==============================] - 8s 12ms/step - loss: 0.1957 - accuracy: 0.9199 - val_loss: 0.4820 - val_accuracy: 0.8188\n",
      "Epoch 18/50\n",
      "625/625 [==============================] - 8s 12ms/step - loss: 0.1920 - accuracy: 0.9195 - val_loss: 0.5761 - val_accuracy: 0.8168\n",
      "Epoch 19/50\n",
      "625/625 [==============================] - 8s 12ms/step - loss: 0.1786 - accuracy: 0.9260 - val_loss: 0.5726 - val_accuracy: 0.8147\n",
      "Epoch 20/50\n",
      "625/625 [==============================] - 8s 12ms/step - loss: 0.1720 - accuracy: 0.9292 - val_loss: 0.6020 - val_accuracy: 0.8152\n",
      "Epoch 21/50\n",
      "625/625 [==============================] - 8s 12ms/step - loss: 0.1649 - accuracy: 0.9337 - val_loss: 0.6558 - val_accuracy: 0.8082\n",
      "Epoch 22/50\n",
      "625/625 [==============================] - 8s 12ms/step - loss: 0.1527 - accuracy: 0.9376 - val_loss: 0.6231 - val_accuracy: 0.8149\n",
      "Epoch 23/50\n",
      "625/625 [==============================] - 7s 12ms/step - loss: 0.1553 - accuracy: 0.9334 - val_loss: 0.7206 - val_accuracy: 0.8114\n",
      "Epoch 24/50\n",
      "625/625 [==============================] - 8s 12ms/step - loss: 0.1457 - accuracy: 0.9406 - val_loss: 0.7937 - val_accuracy: 0.8140\n",
      "Epoch 25/50\n",
      "625/625 [==============================] - 8s 12ms/step - loss: 0.1428 - accuracy: 0.9387 - val_loss: 0.7198 - val_accuracy: 0.8080\n",
      "Epoch 26/50\n",
      "625/625 [==============================] - 8s 12ms/step - loss: 0.1353 - accuracy: 0.9420 - val_loss: 0.8172 - val_accuracy: 0.8120\n",
      "Epoch 27/50\n",
      "625/625 [==============================] - 8s 12ms/step - loss: 0.1268 - accuracy: 0.9450 - val_loss: 0.8785 - val_accuracy: 0.8089\n",
      "Epoch 28/50\n",
      "625/625 [==============================] - 8s 12ms/step - loss: 0.1196 - accuracy: 0.9508 - val_loss: 0.9617 - val_accuracy: 0.8082\n",
      "Epoch 29/50\n",
      "625/625 [==============================] - 8s 13ms/step - loss: 0.1188 - accuracy: 0.9494 - val_loss: 1.0088 - val_accuracy: 0.8114\n",
      "Epoch 30/50\n",
      "625/625 [==============================] - 8s 12ms/step - loss: 0.1142 - accuracy: 0.9524 - val_loss: 1.0406 - val_accuracy: 0.8059\n",
      "Epoch 31/50\n",
      "625/625 [==============================] - 7s 12ms/step - loss: 0.1115 - accuracy: 0.9526 - val_loss: 1.0051 - val_accuracy: 0.8034\n",
      "Epoch 32/50\n",
      "625/625 [==============================] - 7s 12ms/step - loss: 0.1058 - accuracy: 0.9530 - val_loss: 1.1859 - val_accuracy: 0.8052\n",
      "Epoch 33/50\n",
      "625/625 [==============================] - 7s 12ms/step - loss: 0.0991 - accuracy: 0.9577 - val_loss: 1.1483 - val_accuracy: 0.8012\n",
      "Epoch 34/50\n",
      "625/625 [==============================] - 7s 12ms/step - loss: 0.1015 - accuracy: 0.9553 - val_loss: 1.1229 - val_accuracy: 0.8022\n",
      "Epoch 35/50\n",
      "625/625 [==============================] - 8s 12ms/step - loss: 0.0983 - accuracy: 0.9573 - val_loss: 1.3158 - val_accuracy: 0.8041\n",
      "Epoch 36/50\n",
      "625/625 [==============================] - 7s 12ms/step - loss: 0.0927 - accuracy: 0.9594 - val_loss: 1.2765 - val_accuracy: 0.8030\n",
      "Epoch 37/50\n",
      "625/625 [==============================] - 7s 12ms/step - loss: 0.0870 - accuracy: 0.9600 - val_loss: 1.3271 - val_accuracy: 0.7959\n",
      "Epoch 38/50\n",
      "625/625 [==============================] - 7s 12ms/step - loss: 0.0880 - accuracy: 0.9613 - val_loss: 1.3772 - val_accuracy: 0.7989\n",
      "Epoch 39/50\n",
      "625/625 [==============================] - 7s 12ms/step - loss: 0.0849 - accuracy: 0.9608 - val_loss: 1.3846 - val_accuracy: 0.7997\n",
      "Epoch 40/50\n",
      "625/625 [==============================] - 7s 12ms/step - loss: 0.0815 - accuracy: 0.9615 - val_loss: 1.4002 - val_accuracy: 0.8055\n",
      "Epoch 41/50\n",
      "625/625 [==============================] - 7s 12ms/step - loss: 0.0814 - accuracy: 0.9646 - val_loss: 1.6201 - val_accuracy: 0.7936\n",
      "Epoch 42/50\n",
      "625/625 [==============================] - 8s 12ms/step - loss: 0.0807 - accuracy: 0.9623 - val_loss: 1.5301 - val_accuracy: 0.7973\n",
      "Epoch 43/50\n",
      "625/625 [==============================] - 7s 12ms/step - loss: 0.0727 - accuracy: 0.9670 - val_loss: 1.6776 - val_accuracy: 0.7880\n",
      "Epoch 44/50\n",
      "625/625 [==============================] - 8s 12ms/step - loss: 0.0690 - accuracy: 0.9669 - val_loss: 1.5527 - val_accuracy: 0.7979\n",
      "Epoch 45/50\n",
      "625/625 [==============================] - 8s 12ms/step - loss: 0.0798 - accuracy: 0.9633 - val_loss: 1.6693 - val_accuracy: 0.7974\n",
      "Epoch 46/50\n",
      "625/625 [==============================] - 8s 12ms/step - loss: 0.0738 - accuracy: 0.9649 - val_loss: 1.7259 - val_accuracy: 0.7949\n",
      "Epoch 47/50\n",
      "625/625 [==============================] - 8s 12ms/step - loss: 0.0613 - accuracy: 0.9706 - val_loss: 1.6673 - val_accuracy: 0.7970\n",
      "Epoch 48/50\n",
      "625/625 [==============================] - 8s 12ms/step - loss: 0.0607 - accuracy: 0.9732 - val_loss: 1.7491 - val_accuracy: 0.7943\n",
      "Epoch 49/50\n",
      "625/625 [==============================] - 8s 12ms/step - loss: 0.0748 - accuracy: 0.9660 - val_loss: 1.8217 - val_accuracy: 0.7922\n",
      "Epoch 50/50\n",
      "625/625 [==============================] - 8s 12ms/step - loss: 0.0586 - accuracy: 0.9714 - val_loss: 1.8397 - val_accuracy: 0.7971\n"
     ]
    }
   ],
   "source": [
    "import numpy as np\n",
    "\n",
    "import json\n",
    "import tensorflow as tf\n",
    "\n",
    "from tensorflow.keras.preprocessing.text import Tokenizer\n",
    "from tensorflow.keras.preprocessing.sequence import pad_sequences\n",
    "\n",
    "#!wget --no-check-certificate \\\n",
    "#    https://storage.googleapis.com/laurencemoroney-blog.appspot.com/sarcasm.json \\\n",
    "#    -O /tmp/sarcasm.json\n",
    "\n",
    "vocab_size = 1000\n",
    "embedding_dim = 16\n",
    "max_length = 120\n",
    "trunc_type='post'\n",
    "padding_type='post'\n",
    "oov_tok = \"<OOV>\"\n",
    "training_size = 20000\n",
    "\n",
    "\n",
    "with open(\"../../data/sarcasm.json\", 'r') as f:\n",
    "    datastore = json.load(f)\n",
    "\n",
    "\n",
    "sentences = []\n",
    "labels = []\n",
    "urls = []\n",
    "for item in datastore:\n",
    "    sentences.append(item['headline'])\n",
    "    labels.append(item['is_sarcastic'])\n",
    "\n",
    "training_sentences = sentences[0:training_size]\n",
    "testing_sentences = sentences[training_size:]\n",
    "training_labels = labels[0:training_size]\n",
    "testing_labels = labels[training_size:]\n",
    "\n",
    "tokenizer = Tokenizer(num_words=vocab_size, oov_token=oov_tok)\n",
    "tokenizer.fit_on_texts(training_sentences)\n",
    "\n",
    "word_index = tokenizer.word_index\n",
    "\n",
    "training_sequences = tokenizer.texts_to_sequences(training_sentences)\n",
    "training_padded = pad_sequences(training_sequences, maxlen=max_length, padding=padding_type, truncating=trunc_type)\n",
    "\n",
    "testing_sequences = tokenizer.texts_to_sequences(testing_sentences)\n",
    "testing_padded = pad_sequences(testing_sequences, maxlen=max_length, padding=padding_type, truncating=trunc_type)\n",
    "\n",
    "model = tf.keras.Sequential([\n",
    "    tf.keras.layers.Embedding(vocab_size, embedding_dim, input_length=max_length),\n",
    "    tf.keras.layers.Bidirectional(tf.keras.layers.LSTM(32)),\n",
    "    tf.keras.layers.Dense(24, activation='relu'),\n",
    "    tf.keras.layers.Dense(1, activation='sigmoid')\n",
    "])\n",
    "model.compile(loss='binary_crossentropy',optimizer='adam',metrics=['accuracy'])\n",
    "model.summary()\n",
    "\n",
    "num_epochs = 50\n",
    "training_padded = np.array(training_padded)\n",
    "training_labels = np.array(training_labels)\n",
    "testing_padded = np.array(testing_padded)\n",
    "testing_labels = np.array(testing_labels)\n",
    "history = model.fit(training_padded, training_labels, epochs=num_epochs, validation_data=(testing_padded, testing_labels), verbose=1)\n"
   ]
  },
  {
   "cell_type": "code",
   "execution_count": 2,
   "metadata": {
    "id": "g9DC6dmLF8DC"
   },
   "outputs": [
    {
     "data": {
      "image/png": "[encoded data removed]",
      "text/plain": [
       "<Figure size 432x288 with 1 Axes>"
      ]
     },
     "metadata": {
      "needs_background": "light"
     },
     "output_type": "display_data"
    },
    {
     "data": {
      "image/png": "[encoded data removed]",
      "text/plain": [
       "<Figure size 432x288 with 1 Axes>"
      ]
     },
     "metadata": {
      "needs_background": "light"
     },
     "output_type": "display_data"
    }
   ],
   "source": [
    "import matplotlib.pyplot as plt\n",
    "\n",
    "\n",
    "def plot_graphs(history, string):\n",
    "  plt.plot(history.history[string])\n",
    "  plt.plot(history.history['val_'+string])\n",
    "  plt.xlabel(\"Epochs\")\n",
    "  plt.ylabel(string)\n",
    "  plt.legend([string, 'val_'+string])\n",
    "  plt.show()\n",
    "\n",
    "plot_graphs(history, 'accuracy')\n",
    "plot_graphs(history, 'loss')"
   ]
  },
  {
   "cell_type": "code",
   "execution_count": null,
   "metadata": {
    "id": "7ZEZIUppGhdi"
   },
   "outputs": [],
   "source": [
    "model.save(\"test.h5\")"
   ]
  }
 ],
 "metadata": {
  "accelerator": "GPU",
  "colab": {
   "collapsed_sections": [],
   "name": "Course 3 - Week 3 - Lesson 2.ipynb",
   "provenance": [],
   "toc_visible": true
  },
  "kernelspec": {
   "display_name": "Python 3",
   "language": "python",
   "name": "python3"
  },
  "language_info": {
   "codemirror_mode": {
    "name": "ipython",
    "version": 3
   },
   "file_extension": ".py",
   "mimetype": "text/x-python",
   "name": "python",
   "nbconvert_exporter": "python",
   "pygments_lexer": "ipython3",
   "version": "3.8.0"
  }
 },
 "nbformat": 4,
 "nbformat_minor": 1
}
