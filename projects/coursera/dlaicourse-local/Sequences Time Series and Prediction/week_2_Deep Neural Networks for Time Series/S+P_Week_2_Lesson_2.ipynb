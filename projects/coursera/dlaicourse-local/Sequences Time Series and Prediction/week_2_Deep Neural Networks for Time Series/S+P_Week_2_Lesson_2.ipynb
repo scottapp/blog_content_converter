{
 "cells": [
  {
   "cell_type": "code",
   "execution_count": null,
   "metadata": {
    "id": "zX4Kg8DUTKWO"
   },
   "outputs": [],
   "source": [
    "#@title Licensed under the Apache License, Version 2.0 (the \"License\");\n",
    "# you may not use this file except in compliance with the License.\n",
    "# You may obtain a copy of the License at\n",
    "#\n",
    "# https://www.apache.org/licenses/LICENSE-2.0\n",
    "#\n",
    "# Unless required by applicable law or agreed to in writing, software\n",
    "# distributed under the License is distributed on an \"AS IS\" BASIS,\n",
    "# WITHOUT WARRANTIES OR CONDITIONS OF ANY KIND, either express or implied.\n",
    "# See the License for the specific language governing permissions and\n",
    "# limitations under the License."
   ]
  },
  {
   "cell_type": "markdown",
   "metadata": {
    "id": "view-in-github"
   },
   "source": [
    "<a href=\"https://colab.research.google.com/github/lmoroney/dlaicourse/blob/master/TensorFlow%20In%20Practice/Course%204%20-%20S%2BP/S%2BP%20Week%202%20Lesson%202.ipynb\" target=\"_parent\"><img src=\"https://colab.research.google.com/assets/colab-badge.svg\" alt=\"Open In Colab\"/></a>"
   ]
  },
  {
   "cell_type": "code",
   "execution_count": 1,
   "metadata": {
    "id": "-pwam8szRReT"
   },
   "outputs": [],
   "source": [
    "try:\n",
    "  # %tensorflow_version only exists in Colab.\n",
    "  %tensorflow_version 2.x\n",
    "except Exception:\n",
    "  pass"
   ]
  },
  {
   "cell_type": "code",
   "execution_count": 2,
   "metadata": {
    "id": "BOjujz601HcS"
   },
   "outputs": [
    {
     "name": "stdout",
     "output_type": "stream",
     "text": [
      "2.4.1\n"
     ]
    }
   ],
   "source": [
    "import tensorflow as tf\n",
    "import numpy as np\n",
    "import matplotlib.pyplot as plt\n",
    "print(tf.__version__)"
   ]
  },
  {
   "cell_type": "code",
   "execution_count": 12,
   "metadata": {
    "id": "Zswl7jRtGzkk"
   },
   "outputs": [],
   "source": [
    "def plot_series(time, series, format=\"-\", start=0, end=None):\n",
    "    plt.plot(time[start:end], series[start:end], format)\n",
    "    plt.xlabel(\"Time\")\n",
    "    plt.ylabel(\"Value\")\n",
    "    plt.grid(True)\n",
    "\n",
    "def trend(time, slope=0):\n",
    "    return slope * time\n",
    "\n",
    "def seasonal_pattern(season_time):\n",
    "    \"\"\"Just an arbitrary pattern, you can change it if you wish\"\"\"\n",
    "    return np.where(season_time < 0.4,\n",
    "                    np.cos(season_time * 2 * np.pi),\n",
    "                    1 / np.exp(3 * season_time))\n",
    "\n",
    "def seasonality(time, period, amplitude=1, phase=0):\n",
    "    \"\"\"Repeats the same pattern at each period\"\"\"\n",
    "    season_time = ((time + phase) % period) / period\n",
    "    return amplitude * seasonal_pattern(season_time)\n",
    "\n",
    "def noise(time, noise_level=1, seed=None):\n",
    "    rnd = np.random.RandomState(seed)\n",
    "    return rnd.randn(len(time)) * noise_level\n",
    "\n",
    "time = np.arange(4 * 365 + 1, dtype=\"float32\")\n",
    "baseline = 10\n",
    "series = trend(time, 0.1)  \n",
    "baseline = 10\n",
    "amplitude = 40\n",
    "slope = 0.05\n",
    "noise_level = 5\n",
    "\n",
    "# Create the series\n",
    "series = baseline + trend(time, slope) + seasonality(time, period=365, amplitude=amplitude)\n",
    "# Update with noise\n",
    "series += noise(time, noise_level, seed=42)\n",
    "\n",
    "split_time = 1000\n",
    "time_train = time[:split_time]\n",
    "x_train = series[:split_time]\n",
    "time_valid = time[split_time:]\n",
    "x_valid = series[split_time:]\n",
    "\n",
    "window_size = 20\n",
    "batch_size = 32\n",
    "shuffle_buffer_size = 1000"
   ]
  },
  {
   "cell_type": "code",
   "execution_count": 17,
   "metadata": {},
   "outputs": [
    {
     "name": "stdout",
     "output_type": "stream",
     "text": [
      "[0. 1. 2. 3. 4. 5. 6. 7. 8. 9.] 1461\n",
      "[52.48357  49.35275  53.314735 57.711823 48.934444 48.931244 57.982895\n",
      " 53.897125 47.67393  52.68371 ] 1461\n",
      "20\n"
     ]
    }
   ],
   "source": [
    "type(time_train), type(x_train)\n",
    "print(time[0:10], len(time))\n",
    "print(series[0:10], len(series))\n",
    "print(window_size)"
   ]
  },
  {
   "cell_type": "code",
   "execution_count": 4,
   "metadata": {
    "id": "4sTTIOCbyShY"
   },
   "outputs": [],
   "source": [
    "def windowed_dataset(series, window_size, batch_size, shuffle_buffer):\n",
    "  dataset = tf.data.Dataset.from_tensor_slices(series)\n",
    "  dataset = dataset.window(window_size + 1, shift=1, drop_remainder=True)\n",
    "  dataset = dataset.flat_map(lambda window: window.batch(window_size + 1))\n",
    "  dataset = dataset.shuffle(shuffle_buffer).map(lambda window: (window[:-1], window[-1]))\n",
    "  dataset = dataset.batch(batch_size).prefetch(1)\n",
    "  return dataset"
   ]
  },
  {
   "cell_type": "code",
   "execution_count": 23,
   "metadata": {
    "id": "ou-WmE2AXu6B"
   },
   "outputs": [
    {
     "name": "stdout",
     "output_type": "stream",
     "text": [
      "<class 'tensorflow.python.data.ops.dataset_ops.PrefetchDataset'>\n",
      "<PrefetchDataset shapes: ((None, None), (None,)), types: (tf.float32, tf.float32)>\n",
      "Model: \"sequential_3\"\n",
      "_________________________________________________________________\n",
      "Layer (type)                 Output Shape              Param #   \n",
      "=================================================================\n",
      "dense_3 (Dense)              (None, 1)                 21        \n",
      "=================================================================\n",
      "Total params: 21\n",
      "Trainable params: 21\n",
      "Non-trainable params: 0\n",
      "_________________________________________________________________\n"
     ]
    }
   ],
   "source": [
    "dataset = windowed_dataset(x_train, window_size, batch_size, shuffle_buffer_size)\n",
    "print(type(dataset))\n",
    "print(dataset)\n",
    "l0 = tf.keras.layers.Dense(1, input_shape=[window_size])\n",
    "model = tf.keras.models.Sequential([l0])\n",
    "model.compile(loss=\"mse\", optimizer=tf.keras.optimizers.SGD(lr=1e-6, momentum=0.9))\n",
    "model.summary()\n"
   ]
  },
  {
   "cell_type": "code",
   "execution_count": 21,
   "metadata": {},
   "outputs": [
    {
     "name": "stdout",
     "output_type": "stream",
     "text": [
      "Epoch 1/100\n",
      "31/31 [==============================] - 0s 2ms/step - loss: 44.8579\n",
      "Epoch 2/100\n",
      "31/31 [==============================] - 0s 1ms/step - loss: 44.8589\n",
      "Epoch 3/100\n",
      "31/31 [==============================] - 0s 1ms/step - loss: 44.4358\n",
      "Epoch 4/100\n",
      "31/31 [==============================] - 0s 1ms/step - loss: 44.0006\n",
      "Epoch 5/100\n",
      "31/31 [==============================] - 0s 1ms/step - loss: 44.1154\n",
      "Epoch 6/100\n",
      "31/31 [==============================] - 0s 1ms/step - loss: 43.9870\n",
      "Epoch 7/100\n",
      "31/31 [==============================] - 0s 1ms/step - loss: 43.8338\n",
      "Epoch 8/100\n",
      "31/31 [==============================] - 0s 1ms/step - loss: 44.2738\n",
      "Epoch 9/100\n",
      "31/31 [==============================] - 0s 1ms/step - loss: 44.3573\n",
      "Epoch 10/100\n",
      "31/31 [==============================] - 0s 1ms/step - loss: 44.4782\n",
      "Epoch 11/100\n",
      "31/31 [==============================] - 0s 1ms/step - loss: 44.5070\n",
      "Epoch 12/100\n",
      "31/31 [==============================] - 0s 1ms/step - loss: 43.8035\n",
      "Epoch 13/100\n",
      "31/31 [==============================] - 0s 1ms/step - loss: 44.5404\n",
      "Epoch 14/100\n",
      "31/31 [==============================] - 0s 1ms/step - loss: 44.6163\n",
      "Epoch 15/100\n",
      "31/31 [==============================] - 0s 1ms/step - loss: 43.6701\n",
      "Epoch 16/100\n",
      "31/31 [==============================] - 0s 1ms/step - loss: 43.7823\n",
      "Epoch 17/100\n",
      "31/31 [==============================] - 0s 1ms/step - loss: 43.5857\n",
      "Epoch 18/100\n",
      "31/31 [==============================] - 0s 1ms/step - loss: 43.4533\n",
      "Epoch 19/100\n",
      "31/31 [==============================] - 0s 1ms/step - loss: 43.7324\n",
      "Epoch 20/100\n",
      "31/31 [==============================] - 0s 1ms/step - loss: 43.5723\n",
      "Epoch 21/100\n",
      "31/31 [==============================] - 0s 1ms/step - loss: 43.3784\n",
      "Epoch 22/100\n",
      "31/31 [==============================] - 0s 1ms/step - loss: 43.5238\n",
      "Epoch 23/100\n",
      "31/31 [==============================] - 0s 1ms/step - loss: 43.8214\n",
      "Epoch 24/100\n",
      "31/31 [==============================] - 0s 1ms/step - loss: 43.5332\n",
      "Epoch 25/100\n",
      "31/31 [==============================] - 0s 1ms/step - loss: 44.2159\n",
      "Epoch 26/100\n",
      "31/31 [==============================] - 0s 1ms/step - loss: 43.8393\n",
      "Epoch 27/100\n",
      "31/31 [==============================] - 0s 1ms/step - loss: 43.6956\n",
      "Epoch 28/100\n",
      "31/31 [==============================] - 0s 1ms/step - loss: 43.8428\n",
      "Epoch 29/100\n",
      "31/31 [==============================] - 0s 1ms/step - loss: 44.1047\n",
      "Epoch 30/100\n",
      "31/31 [==============================] - 0s 1ms/step - loss: 43.6886\n",
      "Epoch 31/100\n",
      "31/31 [==============================] - 0s 1ms/step - loss: 43.3467\n",
      "Epoch 32/100\n",
      "31/31 [==============================] - 0s 1ms/step - loss: 43.4357\n",
      "Epoch 33/100\n",
      "31/31 [==============================] - 0s 1ms/step - loss: 44.5692\n",
      "Epoch 34/100\n",
      "31/31 [==============================] - 0s 1ms/step - loss: 44.0732\n",
      "Epoch 35/100\n",
      "31/31 [==============================] - 0s 1ms/step - loss: 42.9971\n",
      "Epoch 36/100\n",
      "31/31 [==============================] - 0s 1ms/step - loss: 44.4062\n",
      "Epoch 37/100\n",
      "31/31 [==============================] - 0s 1ms/step - loss: 43.3277\n",
      "Epoch 38/100\n",
      "31/31 [==============================] - 0s 1ms/step - loss: 43.1794\n",
      "Epoch 39/100\n",
      "31/31 [==============================] - 0s 1ms/step - loss: 43.0943\n",
      "Epoch 40/100\n",
      "31/31 [==============================] - 0s 1ms/step - loss: 43.1480\n",
      "Epoch 41/100\n",
      "31/31 [==============================] - 0s 1ms/step - loss: 42.9195\n",
      "Epoch 42/100\n",
      "31/31 [==============================] - 0s 1ms/step - loss: 43.8596\n",
      "Epoch 43/100\n",
      "31/31 [==============================] - 0s 2ms/step - loss: 43.4580\n",
      "Epoch 44/100\n",
      "31/31 [==============================] - 0s 1ms/step - loss: 42.9824\n",
      "Epoch 45/100\n",
      "31/31 [==============================] - 0s 1ms/step - loss: 43.4567\n",
      "Epoch 46/100\n",
      "31/31 [==============================] - 0s 2ms/step - loss: 42.9170\n",
      "Epoch 47/100\n",
      "31/31 [==============================] - 0s 1ms/step - loss: 43.0056\n",
      "Epoch 48/100\n",
      "31/31 [==============================] - 0s 1ms/step - loss: 42.9711\n",
      "Epoch 49/100\n",
      "31/31 [==============================] - 0s 1ms/step - loss: 42.8789\n",
      "Epoch 50/100\n",
      "31/31 [==============================] - 0s 1ms/step - loss: 43.3254\n",
      "Epoch 51/100\n",
      "31/31 [==============================] - 0s 1ms/step - loss: 43.1633\n",
      "Epoch 52/100\n",
      "31/31 [==============================] - 0s 1ms/step - loss: 43.1007\n",
      "Epoch 53/100\n",
      "31/31 [==============================] - 0s 1ms/step - loss: 43.3639\n",
      "Epoch 54/100\n",
      "31/31 [==============================] - 0s 1ms/step - loss: 43.0911\n",
      "Epoch 55/100\n",
      "31/31 [==============================] - 0s 1ms/step - loss: 43.1925\n",
      "Epoch 56/100\n",
      "31/31 [==============================] - 0s 2ms/step - loss: 43.1151\n",
      "Epoch 57/100\n",
      "31/31 [==============================] - 0s 1ms/step - loss: 43.2872\n",
      "Epoch 58/100\n",
      "31/31 [==============================] - 0s 1ms/step - loss: 43.1144\n",
      "Epoch 59/100\n",
      "31/31 [==============================] - 0s 1ms/step - loss: 42.8592\n",
      "Epoch 60/100\n",
      "31/31 [==============================] - 0s 2ms/step - loss: 42.9450\n",
      "Epoch 61/100\n",
      "31/31 [==============================] - 0s 2ms/step - loss: 43.1044\n",
      "Epoch 62/100\n",
      "31/31 [==============================] - 0s 1ms/step - loss: 43.1169\n",
      "Epoch 63/100\n",
      "31/31 [==============================] - 0s 1ms/step - loss: 43.3358\n",
      "Epoch 64/100\n",
      "31/31 [==============================] - 0s 1ms/step - loss: 42.9346\n",
      "Epoch 65/100\n",
      "31/31 [==============================] - 0s 1ms/step - loss: 43.1517\n",
      "Epoch 66/100\n",
      "31/31 [==============================] - 0s 1ms/step - loss: 43.1173\n",
      "Epoch 67/100\n",
      "31/31 [==============================] - 0s 1ms/step - loss: 43.5471\n",
      "Epoch 68/100\n",
      "31/31 [==============================] - 0s 1ms/step - loss: 43.8604\n",
      "Epoch 69/100\n",
      "31/31 [==============================] - 0s 1ms/step - loss: 43.4472\n",
      "Epoch 70/100\n",
      "31/31 [==============================] - 0s 1ms/step - loss: 43.6342\n",
      "Epoch 71/100\n",
      "31/31 [==============================] - 0s 1ms/step - loss: 42.7041\n",
      "Epoch 72/100\n",
      "31/31 [==============================] - 0s 1ms/step - loss: 43.0157\n",
      "Epoch 73/100\n",
      "31/31 [==============================] - 0s 2ms/step - loss: 43.1363\n",
      "Epoch 74/100\n",
      "31/31 [==============================] - 0s 2ms/step - loss: 42.6554\n",
      "Epoch 75/100\n",
      "31/31 [==============================] - 0s 2ms/step - loss: 42.9477\n",
      "Epoch 76/100\n",
      "31/31 [==============================] - 0s 1ms/step - loss: 42.8454\n",
      "Epoch 77/100\n",
      "31/31 [==============================] - 0s 1ms/step - loss: 43.4717\n",
      "Epoch 78/100\n",
      "31/31 [==============================] - 0s 1ms/step - loss: 42.9645\n",
      "Epoch 79/100\n",
      "31/31 [==============================] - 0s 1ms/step - loss: 42.9316\n",
      "Epoch 80/100\n",
      "31/31 [==============================] - 0s 1ms/step - loss: 42.9085\n",
      "Epoch 81/100\n",
      "31/31 [==============================] - 0s 1ms/step - loss: 43.2868\n",
      "Epoch 82/100\n",
      "31/31 [==============================] - 0s 1ms/step - loss: 43.3590\n",
      "Epoch 83/100\n",
      "31/31 [==============================] - 0s 1ms/step - loss: 43.2724\n",
      "Epoch 84/100\n",
      "31/31 [==============================] - 0s 2ms/step - loss: 42.9871\n",
      "Epoch 85/100\n",
      "31/31 [==============================] - 0s 2ms/step - loss: 44.3710\n",
      "Epoch 86/100\n",
      "31/31 [==============================] - 0s 2ms/step - loss: 43.5584\n",
      "Epoch 87/100\n",
      "31/31 [==============================] - 0s 2ms/step - loss: 42.7676\n",
      "Epoch 88/100\n",
      "31/31 [==============================] - 0s 1ms/step - loss: 42.7399\n",
      "Epoch 89/100\n",
      "31/31 [==============================] - 0s 1ms/step - loss: 43.0567\n",
      "Epoch 90/100\n",
      "31/31 [==============================] - 0s 1ms/step - loss: 42.8878\n",
      "Epoch 91/100\n",
      "31/31 [==============================] - 0s 1ms/step - loss: 42.5634\n",
      "Epoch 92/100\n",
      "31/31 [==============================] - 0s 1ms/step - loss: 42.7095\n",
      "Epoch 93/100\n",
      "31/31 [==============================] - 0s 1ms/step - loss: 42.7596\n",
      "Epoch 94/100\n",
      "31/31 [==============================] - 0s 1ms/step - loss: 43.0710\n",
      "Epoch 95/100\n",
      "31/31 [==============================] - 0s 2ms/step - loss: 43.0033\n",
      "Epoch 96/100\n",
      "31/31 [==============================] - 0s 1ms/step - loss: 42.6918\n",
      "Epoch 97/100\n",
      "31/31 [==============================] - 0s 1ms/step - loss: 42.8923\n",
      "Epoch 98/100\n",
      "31/31 [==============================] - 0s 1ms/step - loss: 42.8209\n",
      "Epoch 99/100\n",
      "31/31 [==============================] - 0s 1ms/step - loss: 42.9121\n",
      "Epoch 100/100\n",
      "31/31 [==============================] - 0s 1ms/step - loss: 43.1373\n",
      "Layer weights [array([[-0.03711781],\n",
      "       [-0.01245129],\n",
      "       [ 0.02726714],\n",
      "       [-0.00691305],\n",
      "       [ 0.03526366],\n",
      "       [-0.00916804],\n",
      "       [-0.0099209 ],\n",
      "       [ 0.00424636],\n",
      "       [-0.01419197],\n",
      "       [ 0.01998342],\n",
      "       [-0.00874816],\n",
      "       [ 0.00777715],\n",
      "       [-0.06269424],\n",
      "       [ 0.05685849],\n",
      "       [ 0.03047491],\n",
      "       [ 0.04904906],\n",
      "       [ 0.0005286 ],\n",
      "       [ 0.1705464 ],\n",
      "       [ 0.2763172 ],\n",
      "       [ 0.45397726]], dtype=float32), array([0.02967877], dtype=float32)]\n"
     ]
    }
   ],
   "source": [
    "model.fit(dataset,epochs=100,verbose=1)\n",
    "\n",
    "print(\"Layer weights {}\".format(l0.get_weights()))"
   ]
  },
  {
   "cell_type": "code",
   "execution_count": 24,
   "metadata": {
    "id": "-gtVJuLVxR-M"
   },
   "outputs": [
    {
     "data": {
      "image/png": "[encoded data removed]",
      "text/plain": [
       "<Figure size 720x432 with 1 Axes>"
      ]
     },
     "metadata": {
      "needs_background": "light"
     },
     "output_type": "display_data"
    }
   ],
   "source": [
    "forecast = []\n",
    "\n",
    "for time in range(len(series) - window_size):\n",
    "  forecast.append(model.predict(series[time:time + window_size][np.newaxis]))\n",
    "\n",
    "forecast = forecast[split_time-window_size:]\n",
    "results = np.array(forecast)[:, 0, 0]\n",
    "\n",
    "\n",
    "plt.figure(figsize=(10, 6))\n",
    "\n",
    "plot_series(time_valid, x_valid)\n",
    "plot_series(time_valid, results)"
   ]
  },
  {
   "cell_type": "code",
   "execution_count": 7,
   "metadata": {
    "id": "hR2BO0Dai_ZT"
   },
   "outputs": [
    {
     "data": {
      "text/plain": [
       "5.215274"
      ]
     },
     "execution_count": 7,
     "metadata": {},
     "output_type": "execute_result"
    }
   ],
   "source": [
    "tf.keras.metrics.mean_absolute_error(x_valid, results).numpy()"
   ]
  },
  {
   "cell_type": "code",
   "execution_count": null,
   "metadata": {},
   "outputs": [],
   "source": []
  }
 ],
 "metadata": {
  "colab": {
   "name": "S+P Week 2 Lesson 2.ipynb",
   "provenance": [],
   "toc_visible": true
  },
  "kernelspec": {
   "display_name": "Python 3",
   "language": "python",
   "name": "python3"
  },
  "language_info": {
   "codemirror_mode": {
    "name": "ipython",
    "version": 3
   },
   "file_extension": ".py",
   "mimetype": "text/x-python",
   "name": "python",
   "nbconvert_exporter": "python",
   "pygments_lexer": "ipython3",
   "version": "3.8.0"
  }
 },
 "nbformat": 4,
 "nbformat_minor": 1
}
