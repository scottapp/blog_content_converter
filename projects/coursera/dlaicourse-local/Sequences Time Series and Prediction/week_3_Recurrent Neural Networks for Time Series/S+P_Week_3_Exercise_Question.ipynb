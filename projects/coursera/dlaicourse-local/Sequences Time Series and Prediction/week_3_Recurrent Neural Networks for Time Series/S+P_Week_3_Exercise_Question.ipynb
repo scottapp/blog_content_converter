{
 "cells": [
  {
   "cell_type": "code",
   "execution_count": null,
   "metadata": {
    "id": "zX4Kg8DUTKWO"
   },
   "outputs": [],
   "source": [
    "#@title Licensed under the Apache License, Version 2.0 (the \"License\");\n",
    "# you may not use this file except in compliance with the License.\n",
    "# You may obtain a copy of the License at\n",
    "#\n",
    "# https://www.apache.org/licenses/LICENSE-2.0\n",
    "#\n",
    "# Unless required by applicable law or agreed to in writing, software\n",
    "# distributed under the License is distributed on an \"AS IS\" BASIS,\n",
    "# WITHOUT WARRANTIES OR CONDITIONS OF ANY KIND, either express or implied.\n",
    "# See the License for the specific language governing permissions and\n",
    "# limitations under the License."
   ]
  },
  {
   "cell_type": "code",
   "execution_count": null,
   "metadata": {
    "id": "D1J15Vh_1Jih"
   },
   "outputs": [],
   "source": [
    "!pip install tf-nightly-2.0-preview\n"
   ]
  },
  {
   "cell_type": "code",
   "execution_count": 1,
   "metadata": {
    "id": "BOjujz601HcS"
   },
   "outputs": [
    {
     "name": "stdout",
     "output_type": "stream",
     "text": [
      "2.4.1\n"
     ]
    }
   ],
   "source": [
    "import tensorflow as tf\n",
    "import numpy as np\n",
    "import matplotlib.pyplot as plt\n",
    "print(tf.__version__)"
   ]
  },
  {
   "cell_type": "code",
   "execution_count": 2,
   "metadata": {
    "id": "Zswl7jRtGzkk"
   },
   "outputs": [
    {
     "data": {
      "image/png": "[encoded data removed]",
      "text/plain": [
       "<Figure size 432x288 with 1 Axes>"
      ]
     },
     "metadata": {
      "needs_background": "light"
     },
     "output_type": "display_data"
    }
   ],
   "source": [
    "def plot_series(time, series, format=\"-\", start=0, end=None):\n",
    "    plt.plot(time[start:end], series[start:end], format)\n",
    "    plt.xlabel(\"Time\")\n",
    "    plt.ylabel(\"Value\")\n",
    "    plt.grid(False)\n",
    "\n",
    "def trend(time, slope=0):\n",
    "    return slope * time\n",
    "\n",
    "def seasonal_pattern(season_time):\n",
    "    \"\"\"Just an arbitrary pattern, you can change it if you wish\"\"\"\n",
    "    return np.where(season_time < 0.1,\n",
    "                    np.cos(season_time * 6 * np.pi),\n",
    "                    2 / np.exp(9 * season_time))\n",
    "\n",
    "def seasonality(time, period, amplitude=1, phase=0):\n",
    "    \"\"\"Repeats the same pattern at each period\"\"\"\n",
    "    season_time = ((time + phase) % period) / period\n",
    "    return amplitude * seasonal_pattern(season_time)\n",
    "\n",
    "def noise(time, noise_level=1, seed=None):\n",
    "    rnd = np.random.RandomState(seed)\n",
    "    return rnd.randn(len(time)) * noise_level\n",
    "\n",
    "time = np.arange(10 * 365 + 1, dtype=\"float32\")\n",
    "baseline = 10\n",
    "series = trend(time, 0.1)  \n",
    "baseline = 10\n",
    "amplitude = 40\n",
    "slope = 0.005\n",
    "noise_level = 3\n",
    "\n",
    "# Create the series\n",
    "series = baseline + trend(time, slope) + seasonality(time, period=365, amplitude=amplitude)\n",
    "# Update with noise\n",
    "series += noise(time, noise_level, seed=51)\n",
    "\n",
    "split_time = 3000\n",
    "time_train = time[:split_time]\n",
    "x_train = series[:split_time]\n",
    "time_valid = time[split_time:]\n",
    "x_valid = series[split_time:]\n",
    "\n",
    "window_size = 20\n",
    "batch_size = 32\n",
    "shuffle_buffer_size = 1000\n",
    "\n",
    "plot_series(time, series)"
   ]
  },
  {
   "cell_type": "code",
   "execution_count": 3,
   "metadata": {
    "id": "4sTTIOCbyShY"
   },
   "outputs": [],
   "source": [
    "def windowed_dataset(series, window_size, batch_size, shuffle_buffer):\n",
    "  dataset = tf.data.Dataset.from_tensor_slices(series)\n",
    "  dataset = dataset.window(window_size + 1, shift=1, drop_remainder=True)\n",
    "  dataset = dataset.flat_map(lambda window: window.batch(window_size + 1))\n",
    "  dataset = dataset.shuffle(shuffle_buffer).map(lambda window: (window[:-1], window[-1]))\n",
    "  dataset = dataset.batch(batch_size).prefetch(1)\n",
    "  return dataset"
   ]
  },
  {
   "cell_type": "code",
   "execution_count": 4,
   "metadata": {
    "id": "A1Hl39rklkLm"
   },
   "outputs": [
    {
     "name": "stdout",
     "output_type": "stream",
     "text": [
      "Epoch 1/100\n",
      "94/94 [==============================] - 7s 9ms/step - loss: 17.9235 - mae: 18.4235\n",
      "Epoch 2/100\n",
      "94/94 [==============================] - 1s 8ms/step - loss: 18.1005 - mae: 18.6005\n",
      "Epoch 3/100\n",
      "94/94 [==============================] - 1s 8ms/step - loss: 17.9976 - mae: 18.4976\n",
      "Epoch 4/100\n",
      "94/94 [==============================] - 1s 8ms/step - loss: 17.8102 - mae: 18.3102\n",
      "Epoch 5/100\n",
      "94/94 [==============================] - 1s 8ms/step - loss: 17.9366 - mae: 18.4366\n",
      "Epoch 6/100\n",
      "94/94 [==============================] - 1s 8ms/step - loss: 17.7680 - mae: 18.2680\n",
      "Epoch 7/100\n",
      "94/94 [==============================] - 1s 8ms/step - loss: 17.8528 - mae: 18.3528\n",
      "Epoch 8/100\n",
      "94/94 [==============================] - 1s 8ms/step - loss: 17.6084 - mae: 18.1084\n",
      "Epoch 9/100\n",
      "94/94 [==============================] - 1s 8ms/step - loss: 17.7662 - mae: 18.2662\n",
      "Epoch 10/100\n",
      "94/94 [==============================] - 1s 8ms/step - loss: 17.5260 - mae: 18.0260\n",
      "Epoch 11/100\n",
      "94/94 [==============================] - 1s 8ms/step - loss: 17.6385 - mae: 18.1385\n",
      "Epoch 12/100\n",
      "94/94 [==============================] - 1s 8ms/step - loss: 17.6723 - mae: 18.1723\n",
      "Epoch 13/100\n",
      "94/94 [==============================] - 1s 8ms/step - loss: 17.6166 - mae: 18.1166\n",
      "Epoch 14/100\n",
      "94/94 [==============================] - 1s 8ms/step - loss: 17.2426 - mae: 17.7426\n",
      "Epoch 15/100\n",
      "94/94 [==============================] - 1s 8ms/step - loss: 17.2873 - mae: 17.7873\n",
      "Epoch 16/100\n",
      "94/94 [==============================] - 1s 8ms/step - loss: 17.1318 - mae: 17.6318\n",
      "Epoch 17/100\n",
      "94/94 [==============================] - 1s 8ms/step - loss: 17.1402 - mae: 17.6402\n",
      "Epoch 18/100\n",
      "94/94 [==============================] - 1s 9ms/step - loss: 17.0930 - mae: 17.5929\n",
      "Epoch 19/100\n",
      "94/94 [==============================] - 1s 8ms/step - loss: 16.8240 - mae: 17.3240\n",
      "Epoch 20/100\n",
      "94/94 [==============================] - 1s 8ms/step - loss: 16.5095 - mae: 17.0094\n",
      "Epoch 21/100\n",
      "94/94 [==============================] - 1s 8ms/step - loss: 16.5134 - mae: 17.0131\n",
      "Epoch 22/100\n",
      "94/94 [==============================] - 1s 8ms/step - loss: 16.2375 - mae: 16.7363\n",
      "Epoch 23/100\n",
      "94/94 [==============================] - 1s 8ms/step - loss: 15.7696 - mae: 16.2683\n",
      "Epoch 24/100\n",
      "94/94 [==============================] - 1s 8ms/step - loss: 15.8546 - mae: 16.3539\n",
      "Epoch 25/100\n",
      "94/94 [==============================] - 1s 8ms/step - loss: 15.3885 - mae: 15.8867\n",
      "Epoch 26/100\n",
      "94/94 [==============================] - 1s 8ms/step - loss: 15.0129 - mae: 15.5110\n",
      "Epoch 27/100\n",
      "94/94 [==============================] - 1s 8ms/step - loss: 14.7200 - mae: 15.2187\n",
      "Epoch 28/100\n",
      "94/94 [==============================] - 1s 8ms/step - loss: 14.4872 - mae: 14.9855\n",
      "Epoch 29/100\n",
      "94/94 [==============================] - 1s 8ms/step - loss: 13.7632 - mae: 14.2623\n",
      "Epoch 30/100\n",
      "94/94 [==============================] - 1s 8ms/step - loss: 13.5443 - mae: 14.0423\n",
      "Epoch 31/100\n",
      "94/94 [==============================] - 1s 8ms/step - loss: 12.9389 - mae: 13.4359\n",
      "Epoch 32/100\n",
      "94/94 [==============================] - 1s 8ms/step - loss: 12.3033 - mae: 12.7988\n",
      "Epoch 33/100\n",
      "94/94 [==============================] - 1s 8ms/step - loss: 11.9484 - mae: 12.4420\n",
      "Epoch 34/100\n",
      "94/94 [==============================] - 1s 8ms/step - loss: 11.2934 - mae: 11.7858\n",
      "Epoch 35/100\n",
      "94/94 [==============================] - 1s 8ms/step - loss: 10.2643 - mae: 10.7526\n",
      "Epoch 36/100\n",
      "94/94 [==============================] - 1s 8ms/step - loss: 9.9107 - mae: 10.3981\n",
      "Epoch 37/100\n",
      "94/94 [==============================] - 1s 8ms/step - loss: 8.9164 - mae: 9.4001\n",
      "Epoch 38/100\n",
      "94/94 [==============================] - 1s 8ms/step - loss: 8.3675 - mae: 8.8519\n",
      "Epoch 39/100\n",
      "94/94 [==============================] - 1s 9ms/step - loss: 7.9081 - mae: 8.3861\n",
      "Epoch 40/100\n",
      "94/94 [==============================] - 1s 8ms/step - loss: 7.4164 - mae: 7.8971\n",
      "Epoch 41/100\n",
      "94/94 [==============================] - 1s 8ms/step - loss: 6.9896 - mae: 7.4642\n",
      "Epoch 42/100\n",
      "94/94 [==============================] - 1s 8ms/step - loss: 6.8724 - mae: 7.3498\n",
      "Epoch 43/100\n",
      "94/94 [==============================] - 1s 8ms/step - loss: 6.4274 - mae: 6.9041\n",
      "Epoch 44/100\n",
      "94/94 [==============================] - 1s 8ms/step - loss: 6.7420 - mae: 7.2226\n",
      "Epoch 45/100\n",
      "94/94 [==============================] - 1s 8ms/step - loss: 6.7345 - mae: 7.2156\n",
      "Epoch 46/100\n",
      "94/94 [==============================] - 1s 8ms/step - loss: 6.5161 - mae: 7.0004\n",
      "Epoch 47/100\n",
      "94/94 [==============================] - 1s 8ms/step - loss: 6.6204 - mae: 7.1057\n",
      "Epoch 48/100\n",
      "94/94 [==============================] - 1s 8ms/step - loss: 6.4003 - mae: 6.8826\n",
      "Epoch 49/100\n",
      "94/94 [==============================] - 1s 8ms/step - loss: 6.5193 - mae: 7.0025\n",
      "Epoch 50/100\n",
      "94/94 [==============================] - 1s 8ms/step - loss: 6.4035 - mae: 6.8868\n",
      "Epoch 51/100\n",
      "94/94 [==============================] - 1s 8ms/step - loss: 6.3347 - mae: 6.8189\n",
      "Epoch 52/100\n",
      "94/94 [==============================] - 1s 8ms/step - loss: 6.2226 - mae: 6.7051\n",
      "Epoch 53/100\n",
      "94/94 [==============================] - 1s 8ms/step - loss: 5.3864 - mae: 5.8572\n",
      "Epoch 54/100\n",
      "94/94 [==============================] - 1s 8ms/step - loss: 5.4304 - mae: 5.9036\n",
      "Epoch 55/100\n",
      "94/94 [==============================] - 1s 8ms/step - loss: 5.2533 - mae: 5.7269\n",
      "Epoch 56/100\n",
      "94/94 [==============================] - 1s 8ms/step - loss: 5.0727 - mae: 5.5389\n",
      "Epoch 57/100\n",
      "94/94 [==============================] - 1s 8ms/step - loss: 4.8921 - mae: 5.3641A: 0s - loss: 4.6058\n",
      "Epoch 58/100\n",
      "94/94 [==============================] - 1s 8ms/step - loss: 4.7083 - mae: 5.1747\n",
      "Epoch 59/100\n",
      "94/94 [==============================] - 1s 8ms/step - loss: 4.7444 - mae: 5.2115\n",
      "Epoch 60/100\n",
      "94/94 [==============================] - 1s 8ms/step - loss: 4.4380 - mae: 4.9054\n",
      "Epoch 61/100\n",
      "94/94 [==============================] - 1s 9ms/step - loss: 4.4727 - mae: 4.9404\n",
      "Epoch 62/100\n",
      "94/94 [==============================] - 1s 8ms/step - loss: 4.3538 - mae: 4.8210\n",
      "Epoch 63/100\n",
      "94/94 [==============================] - 1s 8ms/step - loss: 4.3456 - mae: 4.8092\n",
      "Epoch 64/100\n",
      "94/94 [==============================] - 1s 8ms/step - loss: 4.1510 - mae: 4.6149\n",
      "Epoch 65/100\n",
      "94/94 [==============================] - 1s 8ms/step - loss: 4.2426 - mae: 4.7055\n",
      "Epoch 66/100\n",
      "94/94 [==============================] - 1s 8ms/step - loss: 4.2728 - mae: 4.7378\n",
      "Epoch 67/100\n",
      "94/94 [==============================] - 1s 8ms/step - loss: 3.9388 - mae: 4.4025\n",
      "Epoch 68/100\n",
      "94/94 [==============================] - 1s 8ms/step - loss: 3.9345 - mae: 4.3981\n",
      "Epoch 69/100\n",
      "94/94 [==============================] - 1s 8ms/step - loss: 4.0822 - mae: 4.5473\n",
      "Epoch 70/100\n",
      "94/94 [==============================] - 1s 8ms/step - loss: 3.9601 - mae: 4.4259\n",
      "Epoch 71/100\n",
      "94/94 [==============================] - 1s 8ms/step - loss: 3.7325 - mae: 4.1992\n",
      "Epoch 72/100\n",
      "94/94 [==============================] - 1s 8ms/step - loss: 3.7707 - mae: 4.2343\n",
      "Epoch 73/100\n",
      "94/94 [==============================] - 1s 8ms/step - loss: 3.6907 - mae: 4.1556\n",
      "Epoch 74/100\n",
      "94/94 [==============================] - 1s 8ms/step - loss: 3.4504 - mae: 3.9108\n",
      "Epoch 75/100\n",
      "94/94 [==============================] - 1s 8ms/step - loss: 3.4097 - mae: 3.8725\n",
      "Epoch 76/100\n",
      "94/94 [==============================] - 1s 8ms/step - loss: 3.5277 - mae: 3.9905\n",
      "Epoch 77/100\n",
      "94/94 [==============================] - 1s 8ms/step - loss: 3.4295 - mae: 3.8959\n",
      "Epoch 78/100\n",
      "94/94 [==============================] - 1s 8ms/step - loss: 3.2371 - mae: 3.7019\n",
      "Epoch 79/100\n",
      "94/94 [==============================] - 1s 9ms/step - loss: 3.0706 - mae: 3.5323\n",
      "Epoch 80/100\n",
      "94/94 [==============================] - 1s 8ms/step - loss: 3.1731 - mae: 3.6353\n",
      "Epoch 81/100\n",
      "94/94 [==============================] - 1s 9ms/step - loss: 3.0163 - mae: 3.4799\n",
      "Epoch 82/100\n",
      "94/94 [==============================] - 1s 8ms/step - loss: 2.9580 - mae: 3.4221\n",
      "Epoch 83/100\n",
      "94/94 [==============================] - 1s 8ms/step - loss: 2.9942 - mae: 3.4586\n",
      "Epoch 84/100\n",
      "94/94 [==============================] - 1s 8ms/step - loss: 2.8756 - mae: 3.3402\n",
      "Epoch 85/100\n",
      "94/94 [==============================] - 1s 8ms/step - loss: 2.9654 - mae: 3.4284\n",
      "Epoch 86/100\n"
     ]
    },
    {
     "name": "stdout",
     "output_type": "stream",
     "text": [
      "94/94 [==============================] - 1s 8ms/step - loss: 2.9167 - mae: 3.3793A: 0s - loss: 3.1118 \n",
      "Epoch 87/100\n",
      "94/94 [==============================] - 1s 8ms/step - loss: 3.0211 - mae: 3.4860\n",
      "Epoch 88/100\n",
      "94/94 [==============================] - 1s 8ms/step - loss: 2.8025 - mae: 3.2631\n",
      "Epoch 89/100\n",
      "94/94 [==============================] - 1s 8ms/step - loss: 2.9860 - mae: 3.4529\n",
      "Epoch 90/100\n",
      "94/94 [==============================] - 1s 8ms/step - loss: 3.0280 - mae: 3.4943\n",
      "Epoch 91/100\n",
      "94/94 [==============================] - 1s 8ms/step - loss: 2.7891 - mae: 3.2514\n",
      "Epoch 92/100\n",
      "94/94 [==============================] - 1s 8ms/step - loss: 3.1728 - mae: 3.6412\n",
      "Epoch 93/100\n",
      "94/94 [==============================] - 1s 8ms/step - loss: 2.8007 - mae: 3.2582\n",
      "Epoch 94/100\n",
      "94/94 [==============================] - 1s 8ms/step - loss: 2.7083 - mae: 3.1694\n",
      "Epoch 95/100\n",
      "94/94 [==============================] - 1s 8ms/step - loss: 3.0647 - mae: 3.5273\n",
      "Epoch 96/100\n",
      "94/94 [==============================] - 1s 8ms/step - loss: 3.0484 - mae: 3.5154\n",
      "Epoch 97/100\n",
      "94/94 [==============================] - 1s 8ms/step - loss: 2.9322 - mae: 3.3995\n",
      "Epoch 98/100\n",
      "94/94 [==============================] - 1s 8ms/step - loss: 2.9305 - mae: 3.3963\n",
      "Epoch 99/100\n",
      "94/94 [==============================] - 1s 8ms/step - loss: 2.8921 - mae: 3.3575\n",
      "Epoch 100/100\n",
      "94/94 [==============================] - 1s 8ms/step - loss: 3.2601 - mae: 3.7300\n"
     ]
    }
   ],
   "source": [
    "tf.keras.backend.clear_session()\n",
    "tf.random.set_seed(51)\n",
    "np.random.seed(51)\n",
    "\n",
    "tf.keras.backend.clear_session()\n",
    "dataset = windowed_dataset(x_train, window_size, batch_size, shuffle_buffer_size)\n",
    "\n",
    "model = tf.keras.models.Sequential([\n",
    "  tf.keras.layers.Lambda(lambda x: tf.expand_dims(x, axis=-1),\n",
    "                      input_shape=[None]),\n",
    "  tf.keras.layers.Bidirectional(tf.keras.layers.LSTM(32, return_sequences=True)),\n",
    "  tf.keras.layers.Bidirectional(tf.keras.layers.LSTM(32)),\n",
    "  tf.keras.layers.Dense(1),\n",
    "  tf.keras.layers.Lambda(lambda x: x * 10.0)\n",
    "])\n",
    "\n",
    "lr_schedule = tf.keras.callbacks.LearningRateScheduler(\n",
    "    lambda epoch: 1e-8 * 10**(epoch / 20))\n",
    "optimizer = tf.keras.optimizers.SGD(lr=1e-8, momentum=0.9)\n",
    "model.compile(loss=tf.keras.losses.Huber(),\n",
    "              optimizer=optimizer,\n",
    "              metrics=[\"mae\"])\n",
    "history = model.fit(dataset, epochs=100, callbacks=[lr_schedule])"
   ]
  },
  {
   "cell_type": "code",
   "execution_count": 5,
   "metadata": {
    "id": "AkBsrsXMzoWR"
   },
   "outputs": [
    {
     "data": {
      "text/plain": [
       "(1e-08, 0.0001, 0.0, 30.0)"
      ]
     },
     "execution_count": 5,
     "metadata": {},
     "output_type": "execute_result"
    },
    {
     "data": {
      "image/png": "[encoded data removed]",
      "text/plain": [
       "<Figure size 432x288 with 1 Axes>"
      ]
     },
     "metadata": {
      "needs_background": "light"
     },
     "output_type": "display_data"
    }
   ],
   "source": [
    "plt.semilogx(history.history[\"lr\"], history.history[\"loss\"])\n",
    "plt.axis([1e-8, 1e-4, 0, 30])\n",
    "\n",
    "# FROM THIS PICK A LEARNING RATE"
   ]
  },
  {
   "cell_type": "code",
   "execution_count": null,
   "metadata": {
    "id": "4uh-97bpLZCA"
   },
   "outputs": [],
   "source": [
    "tf.keras.backend.clear_session()\n",
    "tf.random.set_seed(51)\n",
    "np.random.seed(51)\n",
    "\n",
    "tf.keras.backend.clear_session()\n",
    "dataset = windowed_dataset(x_train, window_size, batch_size, shuffle_buffer_size)\n",
    "\n",
    "model = tf.keras.models.Sequential([\n",
    "  tf.keras.layers.Lambda(lambda x: tf.expand_dims(x, axis=-1),\n",
    "                      input_shape=[None]),\n",
    "   tf.keras.layers.Bidirectional(tf.keras.layers.LSTM(32, return_sequences=True)),\n",
    "  tf.keras.layers.Bidirectional(tf.keras.layers.LSTM(32)),\n",
    "  tf.keras.layers.Dense(1),\n",
    "  tf.keras.layers.Lambda(lambda x: x * 100.0)\n",
    "])\n",
    "\n",
    "model.compile(loss=\"mse\", optimizer=tf.keras.optimizers.SGD(lr=# PUT YOUR LEARNING RATE HERE#, momentum=0.9),metrics=[\"mae\"])\n",
    "history = model.fit(dataset,epochs=500,verbose=1)\n",
    "                                                            \n",
    "# FIND A MODEL AND A LR THAT TRAINS TO AN MAE < 3                                                          "
   ]
  },
  {
   "cell_type": "code",
   "execution_count": null,
   "metadata": {
    "id": "icGDaND7z0ne"
   },
   "outputs": [],
   "source": [
    "forecast = []\n",
    "results = []\n",
    "for time in range(len(series) - window_size):\n",
    "  forecast.append(model.predict(series[time:time + window_size][np.newaxis]))\n",
    "\n",
    "forecast = forecast[split_time-window_size:]\n",
    "results = np.array(forecast)[:, 0, 0]\n",
    "\n",
    "\n",
    "plt.figure(figsize=(10, 6))\n",
    "\n",
    "plot_series(time_valid, x_valid)\n",
    "plot_series(time_valid, results)"
   ]
  },
  {
   "cell_type": "code",
   "execution_count": null,
   "metadata": {
    "colab": {
     "base_uri": "https://localhost:8080/",
     "height": 164
    },
    "id": "KfPeqI7rz4LD",
    "outputId": "5cbee203-d2e8-455e-f603-204d9df993dc"
   },
   "outputs": [
    {
     "ename": "NameError",
     "evalue": "ignored",
     "output_type": "error",
     "traceback": [
      "\u001b[0;31m---------------------------------------------------------------------------\u001b[0m",
      "\u001b[0;31mNameError\u001b[0m                                 Traceback (most recent call last)",
      "\u001b[0;32m<ipython-input-1-c78dd922c50f>\u001b[0m in \u001b[0;36m<module>\u001b[0;34m()\u001b[0m\n\u001b[0;32m----> 1\u001b[0;31m \u001b[0mtf\u001b[0m\u001b[0;34m.\u001b[0m\u001b[0mkeras\u001b[0m\u001b[0;34m.\u001b[0m\u001b[0mmetrics\u001b[0m\u001b[0;34m.\u001b[0m\u001b[0mmean_absolute_error\u001b[0m\u001b[0;34m(\u001b[0m\u001b[0mx_valid\u001b[0m\u001b[0;34m,\u001b[0m \u001b[0mresults\u001b[0m\u001b[0;34m)\u001b[0m\u001b[0;34m.\u001b[0m\u001b[0mnumpy\u001b[0m\u001b[0;34m(\u001b[0m\u001b[0;34m)\u001b[0m\u001b[0;34m\u001b[0m\u001b[0;34m\u001b[0m\u001b[0m\n\u001b[0m",
      "\u001b[0;31mNameError\u001b[0m: name 'tf' is not defined"
     ]
    }
   ],
   "source": [
    "tf.keras.metrics.mean_absolute_error(x_valid, results).numpy()\n",
    "\n",
    "# YOUR RESULT HERE SHOULD BE LESS THAN 4"
   ]
  },
  {
   "cell_type": "code",
   "execution_count": null,
   "metadata": {
    "id": "JUsdZB_tzDLe"
   },
   "outputs": [],
   "source": [
    "import matplotlib.image  as mpimg\n",
    "import matplotlib.pyplot as plt\n",
    "\n",
    "#-----------------------------------------------------------\n",
    "# Retrieve a list of list results on training and test data\n",
    "# sets for each training epoch\n",
    "#-----------------------------------------------------------\n",
    "mae=history.history['mae']\n",
    "loss=history.history['loss']\n",
    "\n",
    "epochs=range(len(loss)) # Get number of epochs\n",
    "\n",
    "#------------------------------------------------\n",
    "# Plot MAE and Loss\n",
    "#------------------------------------------------\n",
    "plt.plot(epochs, mae, 'r')\n",
    "plt.plot(epochs, loss, 'b')\n",
    "plt.title('MAE and Loss')\n",
    "plt.xlabel(\"Epochs\")\n",
    "plt.ylabel(\"Accuracy\")\n",
    "plt.legend([\"MAE\", \"Loss\"])\n",
    "\n",
    "plt.figure()\n",
    "\n",
    "epochs_zoom = epochs[200:]\n",
    "mae_zoom = mae[200:]\n",
    "loss_zoom = loss[200:]\n",
    "\n",
    "#------------------------------------------------\n",
    "# Plot Zoomed MAE and Loss\n",
    "#------------------------------------------------\n",
    "plt.plot(epochs_zoom, mae_zoom, 'r')\n",
    "plt.plot(epochs_zoom, loss_zoom, 'b')\n",
    "plt.title('MAE and Loss')\n",
    "plt.xlabel(\"Epochs\")\n",
    "plt.ylabel(\"Accuracy\")\n",
    "plt.legend([\"MAE\", \"Loss\"])\n",
    "\n",
    "plt.figure()"
   ]
  }
 ],
 "metadata": {
  "accelerator": "GPU",
  "colab": {
   "collapsed_sections": [],
   "name": "S+P Week 3 Exercise Question.ipynb",
   "provenance": [],
   "toc_visible": true
  },
  "kernelspec": {
   "display_name": "Python 3",
   "language": "python",
   "name": "python3"
  },
  "language_info": {
   "codemirror_mode": {
    "name": "ipython",
    "version": 3
   },
   "file_extension": ".py",
   "mimetype": "text/x-python",
   "name": "python",
   "nbconvert_exporter": "python",
   "pygments_lexer": "ipython3",
   "version": "3.8.0"
  }
 },
 "nbformat": 4,
 "nbformat_minor": 1
}
