{
 "cells": [
  {
   "cell_type": "code",
   "execution_count": 0,
   "metadata": {
    "colab": {},
    "colab_type": "code",
    "id": "zX4Kg8DUTKWO"
   },
   "outputs": [],
   "source": [
    "#@title Licensed under the Apache License, Version 2.0 (the \"License\");\n",
    "# you may not use this file except in compliance with the License.\n",
    "# You may obtain a copy of the License at\n",
    "#\n",
    "# https://www.apache.org/licenses/LICENSE-2.0\n",
    "#\n",
    "# Unless required by applicable law or agreed to in writing, software\n",
    "# distributed under the License is distributed on an \"AS IS\" BASIS,\n",
    "# WITHOUT WARRANTIES OR CONDITIONS OF ANY KIND, either express or implied.\n",
    "# See the License for the specific language governing permissions and\n",
    "# limitations under the License."
   ]
  },
  {
   "cell_type": "code",
   "execution_count": 2,
   "metadata": {
    "colab": {},
    "colab_type": "code",
    "id": "wYtuKeK0dImp"
   },
   "outputs": [],
   "source": [
    "import csv\n",
    "import numpy as np\n",
    "import tensorflow as tf\n",
    "from tensorflow.keras.preprocessing.image import ImageDataGenerator\n",
    "#from google.colab import files"
   ]
  },
  {
   "cell_type": "markdown",
   "metadata": {
    "colab_type": "text",
    "id": "EmMyh9_mkDHF"
   },
   "source": [
    "The data for this exercise is available at: https://www.kaggle.com/datamunge/sign-language-mnist/home\n",
    "\n",
    "Sign up and download to find 2 CSV files: sign_mnist_test.csv and sign_mnist_train.csv -- You will upload both of them using this button before you can continue.\n"
   ]
  },
  {
   "cell_type": "code",
   "execution_count": 2,
   "metadata": {
    "colab": {
     "height": 106
    },
    "colab_type": "code",
    "id": "IcLOZlnnc_N7",
    "outputId": "f902689f-06ab-422b-a15d-ceee438a19cb"
   },
   "outputs": [
    {
     "data": {
      "text/html": [
       "\n",
       "     <input type=\"file\" id=\"files-9979a0a3-4162-45c4-98fc-4e133ab5ad52\" name=\"files[]\" multiple disabled />\n",
       "     <output id=\"result-9979a0a3-4162-45c4-98fc-4e133ab5ad52\">\n",
       "      Upload widget is only available when the cell has been executed in the\n",
       "      current browser session. Please rerun this cell to enable.\n",
       "      </output>\n",
       "      <script src=\"/nbextensions/google.colab/files.js\"></script> "
      ],
      "text/plain": [
       "<IPython.core.display.HTML at 0x7f2bf1cffa90>"
      ]
     },
     "metadata": {
      "tags": []
     },
     "output_type": "display_data"
    },
    {
     "name": "stdout",
     "output_type": "stream",
     "text": [
      "Saving sign_mnist_test.csv to sign_mnist_test.csv\n",
      "Saving sign_mnist_train.csv to sign_mnist_train.csv\n"
     ]
    }
   ],
   "source": [
    "uploaded=files.upload()"
   ]
  },
  {
   "cell_type": "code",
   "execution_count": 3,
   "metadata": {
    "colab": {
     "height": 86
    },
    "colab_type": "code",
    "id": "4kxw-_rmcnVu",
    "outputId": "3d62714a-acc3-4aef-98ec-10fee8e7ab50"
   },
   "outputs": [
    {
     "name": "stdout",
     "output_type": "stream",
     "text": [
      "(27455, 28, 28)\n",
      "(27455,)\n",
      "(7172, 28, 28)\n",
      "(7172,)\n"
     ]
    }
   ],
   "source": [
    "def get_data(filename):\n",
    "    with open(filename) as training_file:\n",
    "        csv_reader = csv.reader(training_file, delimiter=',')\n",
    "        first_line = True\n",
    "        temp_images = []\n",
    "        temp_labels = []\n",
    "        for row in csv_reader:\n",
    "            if first_line:\n",
    "                # print(\"Ignoring first line\")\n",
    "                first_line = False\n",
    "            else:\n",
    "                temp_labels.append(row[0])\n",
    "                image_data = row[1:785]\n",
    "                image_data_as_array = np.array_split(image_data, 28)\n",
    "                temp_images.append(image_data_as_array)\n",
    "                \n",
    "        images = np.array(temp_images).astype('float')\n",
    "        labels = np.array(temp_labels).astype('float')\n",
    "    return images, labels\n",
    "\n",
    "\n",
    "training_images, training_labels = get_data('sign_mnist_train.csv')\n",
    "testing_images, testing_labels = get_data('sign_mnist_test.csv')\n",
    "\n",
    "print(training_images.shape)\n",
    "print(training_labels.shape)\n",
    "print(testing_images.shape)\n",
    "print(testing_labels.shape)\n"
   ]
  },
  {
   "cell_type": "code",
   "execution_count": 4,
   "metadata": {
    "colab": {
     "height": 52
    },
    "colab_type": "code",
    "id": "awoqRpyZdQkD",
    "outputId": "a223a6f6-29f2-4f5f-8ccf-80f36d3368d1"
   },
   "outputs": [
    {
     "name": "stdout",
     "output_type": "stream",
     "text": [
      "(27455, 28, 28, 1)\n",
      "(7172, 28, 28, 1)\n"
     ]
    }
   ],
   "source": [
    "training_images = np.expand_dims(training_images, axis=3)\n",
    "testing_images = np.expand_dims(testing_images, axis=3)\n",
    "\n",
    "train_datagen = ImageDataGenerator(\n",
    "    rescale=1. / 255,\n",
    "    rotation_range=40,\n",
    "    width_shift_range=0.2,\n",
    "    height_shift_range=0.2,\n",
    "    shear_range=0.2,\n",
    "    zoom_range=0.2,\n",
    "    horizontal_flip=True,\n",
    "    fill_mode='nearest')\n",
    "\n",
    "validation_datagen = ImageDataGenerator(\n",
    "    rescale=1. / 255)\n",
    "\n",
    "print(training_images.shape)\n",
    "print(testing_images.shape)"
   ]
  },
  {
   "cell_type": "code",
   "execution_count": 5,
   "metadata": {
    "colab": {
     "height": 570
    },
    "colab_type": "code",
    "id": "Rmb7S32cgRqS",
    "outputId": "d1cbfc47-3a0a-4605-f1be-fa968032283d"
   },
   "outputs": [
    {
     "name": "stdout",
     "output_type": "stream",
     "text": [
      "Model: \"sequential\"\n",
      "_________________________________________________________________\n",
      "Layer (type)                 Output Shape              Param #   \n",
      "=================================================================\n",
      "conv2d (Conv2D)              (None, 26, 26, 64)        640       \n",
      "_________________________________________________________________\n",
      "max_pooling2d (MaxPooling2D) (None, 13, 13, 64)        0         \n",
      "_________________________________________________________________\n",
      "conv2d_1 (Conv2D)            (None, 11, 11, 64)        36928     \n",
      "_________________________________________________________________\n",
      "max_pooling2d_1 (MaxPooling2 (None, 5, 5, 64)          0         \n",
      "_________________________________________________________________\n",
      "flatten (Flatten)            (None, 1600)              0         \n",
      "_________________________________________________________________\n",
      "dense (Dense)                (None, 128)               204928    \n",
      "_________________________________________________________________\n",
      "dense_1 (Dense)              (None, 26)                3354      \n",
      "=================================================================\n",
      "Total params: 245,850\n",
      "Trainable params: 245,850\n",
      "Non-trainable params: 0\n",
      "_________________________________________________________________\n"
     ]
    }
   ],
   "source": [
    "model = tf.keras.models.Sequential([\n",
    "    tf.keras.layers.Conv2D(64, (3, 3), activation='relu', input_shape=(28, 28, 1)),\n",
    "    tf.keras.layers.MaxPooling2D(2, 2),\n",
    "    tf.keras.layers.Conv2D(64, (3, 3), activation='relu'),\n",
    "    tf.keras.layers.MaxPooling2D(2, 2),\n",
    "    tf.keras.layers.Flatten(),\n",
    "    tf.keras.layers.Dense(128, activation=tf.nn.relu),\n",
    "    tf.keras.layers.Dense(26, activation=tf.nn.softmax)])\n",
    "\n",
    "model.compile(optimizer = tf.optimizers.Adam(),\n",
    "              loss = 'sparse_categorical_crossentropy',\n",
    "              metrics=['accuracy'])\n",
    "\n",
    "model.summary()\n"
   ]
  },
  {
   "cell_type": "code",
   "execution_count": 6,
   "metadata": {},
   "outputs": [
    {
     "name": "stdout",
     "output_type": "stream",
     "text": [
      "Epoch 1/15\n",
      "857/857 [==============================] - 11s 8ms/step - loss: 3.0598 - accuracy: 0.0843 - val_loss: 1.8745 - val_accuracy: 0.3714\n",
      "Epoch 2/15\n",
      "857/857 [==============================] - 7s 8ms/step - loss: 2.2043 - accuracy: 0.3015 - val_loss: 1.5765 - val_accuracy: 0.4597\n",
      "Epoch 3/15\n",
      "857/857 [==============================] - 7s 8ms/step - loss: 1.8423 - accuracy: 0.4143 - val_loss: 1.2960 - val_accuracy: 0.5435\n",
      "Epoch 4/15\n",
      "857/857 [==============================] - 7s 8ms/step - loss: 1.5902 - accuracy: 0.4849 - val_loss: 0.9589 - val_accuracy: 0.67400s - l\n",
      "Epoch 5/15\n",
      "857/857 [==============================] - 7s 8ms/step - loss: 1.4315 - accuracy: 0.5363 - val_loss: 1.1182 - val_accuracy: 0.5892\n",
      "Epoch 6/15\n",
      "857/857 [==============================] - 7s 8ms/step - loss: 1.3019 - accuracy: 0.5753 - val_loss: 0.8058 - val_accuracy: 0.7080\n",
      "Epoch 7/15\n",
      "857/857 [==============================] - 7s 8ms/step - loss: 1.1883 - accuracy: 0.6099 - val_loss: 0.7313 - val_accuracy: 0.7376\n",
      "Epoch 8/15\n",
      "857/857 [==============================] - 7s 8ms/step - loss: 1.1100 - accuracy: 0.6356 - val_loss: 0.6288 - val_accuracy: 0.7822\n",
      "Epoch 9/15\n",
      "857/857 [==============================] - 7s 8ms/step - loss: 1.0505 - accuracy: 0.6541 - val_loss: 0.5679 - val_accuracy: 0.8027oss: 1.051\n",
      "Epoch 10/15\n",
      "857/857 [==============================] - 7s 8ms/step - loss: 0.9927 - accuracy: 0.6744 - val_loss: 0.5357 - val_accuracy: 0.8130\n",
      "Epoch 11/15\n",
      "857/857 [==============================] - 7s 8ms/step - loss: 0.9412 - accuracy: 0.6868 - val_loss: 0.5427 - val_accuracy: 0.8037\n",
      "Epoch 12/15\n",
      "857/857 [==============================] - 7s 8ms/step - loss: 0.8936 - accuracy: 0.7008 - val_loss: 0.5721 - val_accuracy: 0.7988\n",
      "Epoch 13/15\n",
      "857/857 [==============================] - 7s 8ms/step - loss: 0.8651 - accuracy: 0.7091 - val_loss: 0.4814 - val_accuracy: 0.8306\n",
      "Epoch 14/15\n",
      "857/857 [==============================] - 7s 8ms/step - loss: 0.8525 - accuracy: 0.7195 - val_loss: 0.4489 - val_accuracy: 0.8515\n",
      "Epoch 15/15\n",
      "857/857 [==============================] - 7s 8ms/step - loss: 0.8060 - accuracy: 0.7281 - val_loss: 0.4519 - val_accuracy: 0.8391\n",
      "225/225 [==============================] - 1s 3ms/step - loss: 478.0791 - accuracy: 0.4815\n"
     ]
    },
    {
     "data": {
      "text/plain": [
       "[478.0791320800781, 0.48145565390586853]"
      ]
     },
     "execution_count": 6,
     "metadata": {},
     "output_type": "execute_result"
    }
   ],
   "source": [
    "history = model.fit(train_datagen.flow(training_images, training_labels, batch_size=32),\n",
    "                              steps_per_epoch=len(training_images) / 32,\n",
    "                              epochs=15,\n",
    "                              validation_data=validation_datagen.flow(testing_images, testing_labels, batch_size=32),\n",
    "                              validation_steps=len(testing_images) / 32)\n",
    "\n",
    "model.evaluate(testing_images, testing_labels)"
   ]
  },
  {
   "cell_type": "code",
   "execution_count": 7,
   "metadata": {
    "colab": {
     "height": 561
    },
    "colab_type": "code",
    "id": "_Q3Zpr46dsij",
    "outputId": "fd4001fb-9a21-4192-dbdb-9a2f2174e769"
   },
   "outputs": [
    {
     "data": {
      "image/png": "[encoded data removed]",
      "text/plain": [
       "<Figure size 432x288 with 1 Axes>"
      ]
     },
     "metadata": {
      "needs_background": "light"
     },
     "output_type": "display_data"
    },
    {
     "data": {
      "image/png": "[encoded data removed]",
      "text/plain": [
       "<Figure size 432x288 with 1 Axes>"
      ]
     },
     "metadata": {
      "needs_background": "light"
     },
     "output_type": "display_data"
    }
   ],
   "source": [
    "import matplotlib.pyplot as plt\n",
    "acc = history.history['accuracy']\n",
    "val_acc = history.history['val_accuracy']\n",
    "loss = history.history['loss']\n",
    "val_loss = history.history['val_loss']\n",
    "\n",
    "epochs = range(len(acc))\n",
    "\n",
    "plt.plot(epochs, acc, 'r', label='Training accuracy')\n",
    "plt.plot(epochs, val_acc, 'b', label='Validation accuracy')\n",
    "plt.title('Training and validation accuracy')\n",
    "plt.legend()\n",
    "plt.figure()\n",
    "\n",
    "plt.plot(epochs, loss, 'r', label='Training Loss')\n",
    "plt.plot(epochs, val_loss, 'b', label='Validation Loss')\n",
    "plt.title('Training and validation loss')\n",
    "plt.legend()\n",
    "\n",
    "plt.show()"
   ]
  },
  {
   "cell_type": "code",
   "execution_count": null,
   "metadata": {},
   "outputs": [],
   "source": []
  }
 ],
 "metadata": {
  "colab": {
   "name": "Exercise 8 - Answer.ipynb",
   "provenance": [],
   "toc_visible": true,
   "version": "0.3.2"
  },
  "kernelspec": {
   "display_name": "Python 3",
   "language": "python",
   "name": "python3"
  },
  "language_info": {
   "codemirror_mode": {
    "name": "ipython",
    "version": 3
   },
   "file_extension": ".py",
   "mimetype": "text/x-python",
   "name": "python",
   "nbconvert_exporter": "python",
   "pygments_lexer": "ipython3",
   "version": "3.8.0"
  }
 },
 "nbformat": 4,
 "nbformat_minor": 1
}
